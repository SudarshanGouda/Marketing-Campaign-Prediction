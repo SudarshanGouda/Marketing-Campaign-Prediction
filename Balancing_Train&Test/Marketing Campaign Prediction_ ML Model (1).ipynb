{
 "cells": [
  {
   "cell_type": "code",
   "execution_count": 1,
   "id": "703e8656",
   "metadata": {},
   "outputs": [],
   "source": [
    "import pandas as pd\n",
    "import numpy as np\n",
    "import matplotlib.pyplot as plt\n",
    "import seaborn as sns\n",
    "import warnings\n",
    "warnings.filterwarnings('ignore')"
   ]
  },
  {
   "cell_type": "code",
   "execution_count": 2,
   "id": "0f039c16",
   "metadata": {},
   "outputs": [],
   "source": [
    "X_train=pd.read_pickle(\"./X_train.pkl\")\n",
    "X_test=pd.read_pickle(\"./X_test.pkl\")\n",
    "y_train=pd.read_pickle(\"./y_train.pkl\")\n",
    "y_test=pd.read_pickle(\"./y_test.pkl\")\n",
    "\n",
    "X=pd.read_pickle(\"./X.pkl\")\n",
    "y=pd.read_pickle(\"./y.pkl\")\n",
    "df=pd.read_pickle(\"./df.pkl\")"
   ]
  },
  {
   "cell_type": "markdown",
   "id": "76ea9e98",
   "metadata": {},
   "source": [
    "## Standard Scalar"
   ]
  },
  {
   "cell_type": "code",
   "execution_count": 3,
   "id": "377717c4",
   "metadata": {},
   "outputs": [],
   "source": [
    "from sklearn.preprocessing import MinMaxScaler"
   ]
  },
  {
   "cell_type": "code",
   "execution_count": 4,
   "id": "c9e5c539",
   "metadata": {},
   "outputs": [],
   "source": [
    "sc=MinMaxScaler(feature_range=(0, 1))"
   ]
  },
  {
   "cell_type": "code",
   "execution_count": 5,
   "id": "27de3258",
   "metadata": {},
   "outputs": [],
   "source": [
    "X_train=sc.fit_transform(X_train)\n",
    "X_test=sc.transform(X_test)"
   ]
  },
  {
   "cell_type": "markdown",
   "id": "1105c1e6",
   "metadata": {},
   "source": [
    "## Logistic Regression"
   ]
  },
  {
   "cell_type": "code",
   "execution_count": 6,
   "id": "9f1b12b5",
   "metadata": {},
   "outputs": [],
   "source": [
    "from sklearn.linear_model import LogisticRegression\n",
    "from sklearn.metrics import confusion_matrix,classification_report,roc_auc_score,accuracy_score,balanced_accuracy_score,f1_score"
   ]
  },
  {
   "cell_type": "code",
   "execution_count": 7,
   "id": "449a0c90",
   "metadata": {},
   "outputs": [
    {
     "name": "stdout",
     "output_type": "stream",
     "text": [
      "confusion_matrix\n",
      "[[11565  1223]\n",
      " [ 1418 11311]]\n",
      "\n",
      "\n",
      "classification_report\n",
      "              precision    recall  f1-score   support\n",
      "\n",
      "           0       0.89      0.90      0.90     12788\n",
      "           1       0.90      0.89      0.90     12729\n",
      "\n",
      "    accuracy                           0.90     25517\n",
      "   macro avg       0.90      0.90      0.90     25517\n",
      "weighted avg       0.90      0.90      0.90     25517\n",
      "\n",
      "\n",
      "\n",
      "Accuracy: 89.6500372300819\n",
      "\n",
      "\n",
      "ROC Value: 0.8964821492466338\n",
      "\n",
      "\n",
      "Balenced Accuracy: 0.8964821492466337\n",
      "\n",
      "\n",
      "F1 Score: 0.8954597632901873\n"
     ]
    }
   ],
   "source": [
    "M1=LogisticRegression()\n",
    "M1.fit(X_train,y_train)\n",
    "P1=M1.predict(X_test)\n",
    "print('confusion_matrix')\n",
    "print(confusion_matrix(y_test,P1))\n",
    "print('\\n')\n",
    "print('classification_report')\n",
    "print(classification_report(y_test,P1))\n",
    "print('\\n')\n",
    "print('Accuracy:',100*accuracy_score(y_test,P1))\n",
    "print('\\n')\n",
    "print('ROC Value:',roc_auc_score(y_test,P1))\n",
    "print('\\n')\n",
    "print('Balenced Accuracy:',balanced_accuracy_score(y_test,P1))\n",
    "print('\\n')\n",
    "print('F1 Score:',f1_score(y_test,P1))"
   ]
  },
  {
   "cell_type": "markdown",
   "id": "2ea46a26",
   "metadata": {},
   "source": [
    "## DecisionTree"
   ]
  },
  {
   "cell_type": "code",
   "execution_count": 8,
   "id": "c8f1872f",
   "metadata": {},
   "outputs": [],
   "source": [
    "from sklearn.tree import DecisionTreeClassifier"
   ]
  },
  {
   "cell_type": "code",
   "execution_count": 9,
   "id": "44f45254",
   "metadata": {},
   "outputs": [
    {
     "name": "stdout",
     "output_type": "stream",
     "text": [
      "confusion_matrix\n",
      "[[11301  1487]\n",
      " [ 1151 11578]]\n",
      "\n",
      "\n",
      "classification_report\n",
      "              precision    recall  f1-score   support\n",
      "\n",
      "           0       0.91      0.88      0.90     12788\n",
      "           1       0.89      0.91      0.90     12729\n",
      "\n",
      "    accuracy                           0.90     25517\n",
      "   macro avg       0.90      0.90      0.90     25517\n",
      "weighted avg       0.90      0.90      0.90     25517\n",
      "\n",
      "\n",
      "\n",
      "Accuracy: 89.66179409805228\n",
      "\n",
      "\n",
      "ROC Value: 0.8966478345671944\n"
     ]
    }
   ],
   "source": [
    "M2=DecisionTreeClassifier()\n",
    "M2.fit(X_train,y_train)\n",
    "P2=M2.predict(X_test)\n",
    "print('confusion_matrix')\n",
    "print(confusion_matrix(y_test,P2))\n",
    "print('\\n')\n",
    "print('classification_report')\n",
    "print(classification_report(y_test,P2))\n",
    "print('\\n')\n",
    "print('Accuracy:',100*accuracy_score(y_test,P2))\n",
    "print('\\n')\n",
    "print('ROC Value:',roc_auc_score(y_test,P2))"
   ]
  },
  {
   "cell_type": "markdown",
   "id": "c1ec323b",
   "metadata": {},
   "source": [
    "## RandomForest"
   ]
  },
  {
   "cell_type": "code",
   "execution_count": 10,
   "id": "94245554",
   "metadata": {},
   "outputs": [],
   "source": [
    "from sklearn.ensemble import RandomForestClassifier"
   ]
  },
  {
   "cell_type": "code",
   "execution_count": 11,
   "id": "9242342a",
   "metadata": {},
   "outputs": [
    {
     "name": "stdout",
     "output_type": "stream",
     "text": [
      "confusion_matrix\n",
      "[[11863   925]\n",
      " [  859 11870]]\n",
      "\n",
      "\n",
      "classification_report\n",
      "              precision    recall  f1-score   support\n",
      "\n",
      "           0       0.93      0.93      0.93     12788\n",
      "           1       0.93      0.93      0.93     12729\n",
      "\n",
      "    accuracy                           0.93     25517\n",
      "   macro avg       0.93      0.93      0.93     25517\n",
      "weighted avg       0.93      0.93      0.93     25517\n",
      "\n",
      "\n",
      "\n",
      "Accuracy: 93.00858251361838\n",
      "\n",
      "\n",
      "ROC Value: 0.9300914318806767\n"
     ]
    }
   ],
   "source": [
    "M3=RandomForestClassifier()\n",
    "M3.fit(X_train,y_train)\n",
    "P3=M3.predict(X_test)\n",
    "print('confusion_matrix')\n",
    "print(confusion_matrix(y_test,P3))\n",
    "print('\\n')\n",
    "print('classification_report')\n",
    "print(classification_report(y_test,P3))\n",
    "print('\\n')\n",
    "print('Accuracy:',100*accuracy_score(y_test,P3))\n",
    "print('\\n')\n",
    "print('ROC Value:',roc_auc_score(y_test,P3))"
   ]
  },
  {
   "cell_type": "markdown",
   "id": "9e6d1913",
   "metadata": {},
   "source": [
    "## Support Vector"
   ]
  },
  {
   "cell_type": "code",
   "execution_count": 12,
   "id": "83587a1b",
   "metadata": {},
   "outputs": [],
   "source": [
    "from sklearn.svm import SVC"
   ]
  },
  {
   "cell_type": "code",
   "execution_count": 13,
   "id": "c884491e",
   "metadata": {},
   "outputs": [
    {
     "name": "stdout",
     "output_type": "stream",
     "text": [
      "confusion_matrix\n",
      "[[11663  1125]\n",
      " [ 1467 11262]]\n",
      "\n",
      "\n",
      "classification_report\n",
      "              precision    recall  f1-score   support\n",
      "\n",
      "           0       0.89      0.91      0.90     12788\n",
      "           1       0.91      0.88      0.90     12729\n",
      "\n",
      "    accuracy                           0.90     25517\n",
      "   macro avg       0.90      0.90      0.90     25517\n",
      "weighted avg       0.90      0.90      0.90     25517\n",
      "\n",
      "\n",
      "\n",
      "Accuracy: 89.84206607359799\n",
      "\n",
      "\n",
      "ROC Value: 0.8983891276960908\n"
     ]
    }
   ],
   "source": [
    "M4=SVC()\n",
    "M4.fit(X_train,y_train)\n",
    "P4=M4.predict(X_test)\n",
    "print('confusion_matrix')\n",
    "print(confusion_matrix(y_test,P4))\n",
    "print('\\n')\n",
    "print('classification_report')\n",
    "print(classification_report(y_test,P4))\n",
    "print('\\n')\n",
    "print('Accuracy:',100*accuracy_score(y_test,P4))\n",
    "print('\\n')\n",
    "print('ROC Value:',roc_auc_score(y_test,P4))"
   ]
  },
  {
   "cell_type": "markdown",
   "id": "65631ee7",
   "metadata": {},
   "source": [
    "## KNN"
   ]
  },
  {
   "cell_type": "code",
   "execution_count": 14,
   "id": "bd322b8d",
   "metadata": {},
   "outputs": [],
   "source": [
    "from sklearn.neighbors import KNeighborsClassifier"
   ]
  },
  {
   "cell_type": "code",
   "execution_count": 15,
   "id": "dc3d5030",
   "metadata": {},
   "outputs": [
    {
     "data": {
      "text/plain": [
       "Text(0, 0.5, 'Error Rate')"
      ]
     },
     "execution_count": 15,
     "metadata": {},
     "output_type": "execute_result"
    },
    {
     "data": {
      "image/png": "[encoded data removed]",
      "text/plain": [
       "<Figure size 720x720 with 1 Axes>"
      ]
     },
     "metadata": {
      "needs_background": "light"
     },
     "output_type": "display_data"
    }
   ],
   "source": [
    "error_Mat=[]\n",
    "for i in range (1,50):\n",
    "    knn=KNeighborsClassifier(n_neighbors=i)\n",
    "    knn.fit(X_train,y_train)\n",
    "    predict_i=knn.predict(X_test)\n",
    "    error_Mat.append(np.mean(predict_i != y_test))\n",
    "plt.figure(figsize=(10,10))\n",
    "plt.plot(range(1,50),error_Mat,color='blue', linestyle='dashed', marker='o',\n",
    "         markerfacecolor='red', markersize=10)\n",
    "plt.title('Error Rate vs. K Value')\n",
    "plt.xlabel('K')\n",
    "plt.ylabel('Error Rate')"
   ]
  },
  {
   "cell_type": "code",
   "execution_count": 16,
   "id": "f4e6ee8a",
   "metadata": {},
   "outputs": [
    {
     "name": "stdout",
     "output_type": "stream",
     "text": [
      "confusion_matrix\n",
      "[[12072   716]\n",
      " [ 2164 10565]]\n",
      "\n",
      "\n",
      "classification_report\n",
      "              precision    recall  f1-score   support\n",
      "\n",
      "           0       0.85      0.94      0.89     12788\n",
      "           1       0.94      0.83      0.88     12729\n",
      "\n",
      "    accuracy                           0.89     25517\n",
      "   macro avg       0.89      0.89      0.89     25517\n",
      "weighted avg       0.89      0.89      0.89     25517\n",
      "\n",
      "\n",
      "\n",
      "Accuracy: 88.71340674844221\n",
      "\n",
      "\n",
      "ROC Value: 0.8870022550650623\n"
     ]
    }
   ],
   "source": [
    "M5=KNeighborsClassifier(n_neighbors=2)\n",
    "M5.fit(X_train,y_train)\n",
    "P5=M5.predict(X_test)\n",
    "print('confusion_matrix')\n",
    "print(confusion_matrix(y_test,P5))\n",
    "print('\\n')\n",
    "print('classification_report')\n",
    "print(classification_report(y_test,P5))\n",
    "print('\\n')\n",
    "print('Accuracy:',100*accuracy_score(y_test,P5))\n",
    "print('\\n')\n",
    "print('ROC Value:',roc_auc_score(y_test,P5))"
   ]
  },
  {
   "cell_type": "markdown",
   "id": "9594af17",
   "metadata": {},
   "source": [
    "## Naive_bayes"
   ]
  },
  {
   "cell_type": "code",
   "execution_count": 17,
   "id": "3ac1d181",
   "metadata": {},
   "outputs": [],
   "source": [
    "from sklearn.naive_bayes import GaussianNB"
   ]
  },
  {
   "cell_type": "code",
   "execution_count": 18,
   "id": "3a93d4d7",
   "metadata": {},
   "outputs": [
    {
     "name": "stdout",
     "output_type": "stream",
     "text": [
      "confusion_matrix\n",
      "[[ 8557  4231]\n",
      " [ 1262 11467]]\n",
      "\n",
      "\n",
      "classification_report\n",
      "              precision    recall  f1-score   support\n",
      "\n",
      "           0       0.87      0.67      0.76     12788\n",
      "           1       0.73      0.90      0.81     12729\n",
      "\n",
      "    accuracy                           0.78     25517\n",
      "   macro avg       0.80      0.78      0.78     25517\n",
      "weighted avg       0.80      0.78      0.78     25517\n",
      "\n",
      "\n",
      "\n",
      "Accuracy: 78.4731747462476\n",
      "\n",
      "\n",
      "ROC Value: 0.784999629434982\n"
     ]
    }
   ],
   "source": [
    "M6=GaussianNB()\n",
    "M6.fit(X_train,y_train)\n",
    "P6=M6.predict(X_test)\n",
    "print('confusion_matrix')\n",
    "print(confusion_matrix(y_test,P6))\n",
    "print('\\n')\n",
    "print('classification_report')\n",
    "print(classification_report(y_test,P6))\n",
    "print('\\n')\n",
    "print('Accuracy:',100*accuracy_score(y_test,P6))\n",
    "print('\\n')\n",
    "print('ROC Value:',roc_auc_score(y_test,P6))"
   ]
  },
  {
   "cell_type": "markdown",
   "id": "46c96d3b",
   "metadata": {},
   "source": [
    "## GradientBoostingClassifier"
   ]
  },
  {
   "cell_type": "code",
   "execution_count": 19,
   "id": "729e34c9",
   "metadata": {},
   "outputs": [],
   "source": [
    "from sklearn.ensemble import GradientBoostingClassifier"
   ]
  },
  {
   "cell_type": "code",
   "execution_count": 20,
   "id": "da38a712",
   "metadata": {},
   "outputs": [
    {
     "name": "stdout",
     "output_type": "stream",
     "text": [
      "confusion_matrix\n",
      "[[11453  1335]\n",
      " [ 1069 11660]]\n",
      "\n",
      "\n",
      "classification_report\n",
      "              precision    recall  f1-score   support\n",
      "\n",
      "           0       0.91      0.90      0.91     12788\n",
      "           1       0.90      0.92      0.91     12729\n",
      "\n",
      "    accuracy                           0.91     25517\n",
      "   macro avg       0.91      0.91      0.91     25517\n",
      "weighted avg       0.91      0.91      0.91     25517\n",
      "\n",
      "\n",
      "\n",
      "Accuracy: 90.57882979974134\n",
      "\n",
      "\n",
      "ROC Value: 0.9058118976337236\n"
     ]
    }
   ],
   "source": [
    "M7=GradientBoostingClassifier()\n",
    "M7.fit(X_train,y_train)\n",
    "P7=M7.predict(X_test)\n",
    "print('confusion_matrix')\n",
    "print(confusion_matrix(y_test,P7))\n",
    "print('\\n')\n",
    "print('classification_report')\n",
    "print(classification_report(y_test,P7))\n",
    "print('\\n')\n",
    "print('Accuracy:',100*accuracy_score(y_test,P7))\n",
    "print('\\n')\n",
    "print('ROC Value:',roc_auc_score(y_test,P7))"
   ]
  },
  {
   "cell_type": "markdown",
   "id": "79740203",
   "metadata": {},
   "source": [
    "## HistGradientBoostingClassifier"
   ]
  },
  {
   "cell_type": "code",
   "execution_count": 21,
   "id": "2ad82310",
   "metadata": {},
   "outputs": [],
   "source": [
    "from sklearn.ensemble import HistGradientBoostingClassifier"
   ]
  },
  {
   "cell_type": "code",
   "execution_count": 22,
   "id": "ef1210f5",
   "metadata": {},
   "outputs": [
    {
     "name": "stdout",
     "output_type": "stream",
     "text": [
      "confusion_matrix\n",
      "[[11740  1048]\n",
      " [ 1002 11727]]\n",
      "\n",
      "\n",
      "classification_report\n",
      "              precision    recall  f1-score   support\n",
      "\n",
      "           0       0.92      0.92      0.92     12788\n",
      "           1       0.92      0.92      0.92     12729\n",
      "\n",
      "    accuracy                           0.92     25517\n",
      "   macro avg       0.92      0.92      0.92     25517\n",
      "weighted avg       0.92      0.92      0.92     25517\n",
      "\n",
      "\n",
      "\n",
      "Accuracy: 91.96614022024534\n",
      "\n",
      "\n",
      "ROC Value: 0.9196651409364673\n"
     ]
    }
   ],
   "source": [
    "M8=HistGradientBoostingClassifier()\n",
    "M8.fit(X_train,y_train)\n",
    "P8=M8.predict(X_test)\n",
    "print('confusion_matrix')\n",
    "print(confusion_matrix(y_test,P8))\n",
    "print('\\n')\n",
    "print('classification_report')\n",
    "print(classification_report(y_test,P8))\n",
    "print('\\n')\n",
    "print('Accuracy:',100*accuracy_score(y_test,P8))\n",
    "print('\\n')\n",
    "print('ROC Value:',roc_auc_score(y_test,P8))"
   ]
  },
  {
   "cell_type": "markdown",
   "id": "f5693a2f",
   "metadata": {},
   "source": [
    "## CatBoostClassifier"
   ]
  },
  {
   "cell_type": "code",
   "execution_count": 23,
   "id": "6b0c2432",
   "metadata": {},
   "outputs": [],
   "source": [
    "from catboost import CatBoostClassifier"
   ]
  },
  {
   "cell_type": "code",
   "execution_count": 24,
   "id": "611eb11d",
   "metadata": {},
   "outputs": [
    {
     "name": "stdout",
     "output_type": "stream",
     "text": [
      "confusion_matrix\n",
      "[[11779  1009]\n",
      " [  921 11808]]\n",
      "\n",
      "\n",
      "classification_report\n",
      "              precision    recall  f1-score   support\n",
      "\n",
      "           0       0.93      0.92      0.92     12788\n",
      "           1       0.92      0.93      0.92     12729\n",
      "\n",
      "    accuracy                           0.92     25517\n",
      "   macro avg       0.92      0.92      0.92     25517\n",
      "weighted avg       0.92      0.92      0.92     25517\n",
      "\n",
      "\n",
      "\n",
      "Accuracy: 92.43641493906023\n",
      "\n",
      "\n",
      "ROC Value: 0.9243717190528387\n"
     ]
    }
   ],
   "source": [
    "M9=CatBoostClassifier(verbose=0)\n",
    "M9.fit(X_train,y_train)\n",
    "P9=M9.predict(X_test)\n",
    "print('confusion_matrix')\n",
    "print(confusion_matrix(y_test,P9))\n",
    "print('\\n')\n",
    "print('classification_report')\n",
    "print(classification_report(y_test,P9))\n",
    "print('\\n')\n",
    "print('Accuracy:',100*accuracy_score(y_test,P9))\n",
    "print('\\n')\n",
    "print('ROC Value:',roc_auc_score(y_test,P9))"
   ]
  },
  {
   "cell_type": "markdown",
   "id": "9d800b92",
   "metadata": {},
   "source": [
    "## XGBClassifier"
   ]
  },
  {
   "cell_type": "code",
   "execution_count": 25,
   "id": "deb7c4a8",
   "metadata": {},
   "outputs": [],
   "source": [
    "from xgboost import XGBClassifier"
   ]
  },
  {
   "cell_type": "code",
   "execution_count": 26,
   "id": "d628769b",
   "metadata": {},
   "outputs": [
    {
     "name": "stdout",
     "output_type": "stream",
     "text": [
      "confusion_matrix\n",
      "[[11780  1008]\n",
      " [  920 11809]]\n",
      "\n",
      "\n",
      "classification_report\n",
      "              precision    recall  f1-score   support\n",
      "\n",
      "           0       0.93      0.92      0.92     12788\n",
      "           1       0.92      0.93      0.92     12729\n",
      "\n",
      "    accuracy                           0.92     25517\n",
      "   macro avg       0.92      0.92      0.92     25517\n",
      "weighted avg       0.92      0.92      0.92     25517\n",
      "\n",
      "\n",
      "\n",
      "Accuracy: 92.44425285104049\n",
      "\n",
      "\n",
      "ROC Value: 0.9244500985916735\n"
     ]
    }
   ],
   "source": [
    "M10=XGBClassifier()\n",
    "M10.fit(X_train,y_train)\n",
    "P10=M10.predict(X_test)\n",
    "print('confusion_matrix')\n",
    "print(confusion_matrix(y_test,P10))\n",
    "print('\\n')\n",
    "print('classification_report')\n",
    "print(classification_report(y_test,P10))\n",
    "print('\\n')\n",
    "print('Accuracy:',100*accuracy_score(y_test,P10))\n",
    "print('\\n')\n",
    "print('ROC Value:',roc_auc_score(y_test,P10))"
   ]
  },
  {
   "cell_type": "markdown",
   "id": "db7b339c",
   "metadata": {},
   "source": [
    "## LGBMClassifier"
   ]
  },
  {
   "cell_type": "code",
   "execution_count": 27,
   "id": "c78abb16",
   "metadata": {},
   "outputs": [],
   "source": [
    "from lightgbm import LGBMClassifier"
   ]
  },
  {
   "cell_type": "code",
   "execution_count": 28,
   "id": "45147d11",
   "metadata": {},
   "outputs": [
    {
     "name": "stdout",
     "output_type": "stream",
     "text": [
      "confusion_matrix\n",
      "[[11720  1068]\n",
      " [ 1012 11717]]\n",
      "\n",
      "\n",
      "classification_report\n",
      "              precision    recall  f1-score   support\n",
      "\n",
      "           0       0.92      0.92      0.92     12788\n",
      "           1       0.92      0.92      0.92     12729\n",
      "\n",
      "    accuracy                           0.92     25517\n",
      "   macro avg       0.92      0.92      0.92     25517\n",
      "weighted avg       0.92      0.92      0.92     25517\n",
      "\n",
      "\n",
      "\n",
      "Accuracy: 91.8485715405416\n",
      "\n",
      "\n",
      "ROC Value: 0.9184903539935372\n"
     ]
    }
   ],
   "source": [
    "M11=LGBMClassifier()\n",
    "M11.fit(X_train,y_train)\n",
    "P11=M11.predict(X_test)\n",
    "print('confusion_matrix')\n",
    "print(confusion_matrix(y_test,P11))\n",
    "print('\\n')\n",
    "print('classification_report')\n",
    "print(classification_report(y_test,P11))\n",
    "print('\\n')\n",
    "print('Accuracy:',100*accuracy_score(y_test,P11))\n",
    "print('\\n')\n",
    "print('ROC Value:',roc_auc_score(y_test,P11))"
   ]
  },
  {
   "cell_type": "markdown",
   "id": "66cf4432",
   "metadata": {},
   "source": [
    "## Neural_network"
   ]
  },
  {
   "cell_type": "code",
   "execution_count": 29,
   "id": "5b89ef23",
   "metadata": {},
   "outputs": [],
   "source": [
    "from sklearn.neural_network import MLPClassifier"
   ]
  },
  {
   "cell_type": "code",
   "execution_count": 30,
   "id": "9c70b96a",
   "metadata": {},
   "outputs": [
    {
     "name": "stdout",
     "output_type": "stream",
     "text": [
      "confusion_matrix\n",
      "[[11548  1240]\n",
      " [  957 11772]]\n",
      "\n",
      "\n",
      "classification_report\n",
      "              precision    recall  f1-score   support\n",
      "\n",
      "           0       0.92      0.90      0.91     12788\n",
      "           1       0.90      0.92      0.91     12729\n",
      "\n",
      "    accuracy                           0.91     25517\n",
      "   macro avg       0.91      0.91      0.91     25517\n",
      "weighted avg       0.91      0.91      0.91     25517\n",
      "\n",
      "\n",
      "\n",
      "Accuracy: 91.39005368969706\n",
      "\n",
      "\n",
      "ROC Value: 0.9139257203404293\n"
     ]
    }
   ],
   "source": [
    "M12=MLPClassifier(hidden_layer_sizes=(500,))\n",
    "M12.fit(X_train,y_train)\n",
    "P12=M12.predict(X_test)\n",
    "print('confusion_matrix')\n",
    "print(confusion_matrix(y_test,P12))\n",
    "print('\\n')\n",
    "print('classification_report')\n",
    "print(classification_report(y_test,P12))\n",
    "print('\\n')\n",
    "print('Accuracy:',100*accuracy_score(y_test,P12))\n",
    "print('\\n')\n",
    "print('ROC Value:',roc_auc_score(y_test,P12))"
   ]
  },
  {
   "cell_type": "markdown",
   "id": "a8c9dcd1",
   "metadata": {},
   "source": [
    "## BaggingClassifier"
   ]
  },
  {
   "cell_type": "code",
   "execution_count": 31,
   "id": "5513e103",
   "metadata": {},
   "outputs": [],
   "source": [
    "from sklearn.ensemble import BaggingClassifier"
   ]
  },
  {
   "cell_type": "code",
   "execution_count": 32,
   "id": "70f5c414",
   "metadata": {},
   "outputs": [
    {
     "name": "stdout",
     "output_type": "stream",
     "text": [
      "confusion_matrix\n",
      "[[11432  1356]\n",
      " [ 1079 11650]]\n",
      "\n",
      "\n",
      "classification_report\n",
      "              precision    recall  f1-score   support\n",
      "\n",
      "           0       0.91      0.89      0.90     12788\n",
      "           1       0.90      0.92      0.91     12729\n",
      "\n",
      "    accuracy                           0.90     25517\n",
      "   macro avg       0.90      0.90      0.90     25517\n",
      "weighted avg       0.90      0.90      0.90     25517\n",
      "\n",
      "\n",
      "\n",
      "Accuracy: 90.45734216404749\n",
      "\n",
      "\n",
      "ROC Value: 0.9045980115353351\n"
     ]
    }
   ],
   "source": [
    "M13=BaggingClassifier(base_estimator=GradientBoostingClassifier())\n",
    "M13.fit(X_train,y_train)\n",
    "P13=M13.predict(X_test)\n",
    "print('confusion_matrix')\n",
    "print(confusion_matrix(y_test,P13))\n",
    "print('\\n')\n",
    "print('classification_report')\n",
    "print(classification_report(y_test,P13))\n",
    "print('\\n')\n",
    "print('Accuracy:',100*accuracy_score(y_test,P13))\n",
    "print('\\n')\n",
    "print('ROC Value:',roc_auc_score(y_test,P13))"
   ]
  },
  {
   "cell_type": "markdown",
   "id": "985f8964",
   "metadata": {},
   "source": [
    "## LinearSVC"
   ]
  },
  {
   "cell_type": "code",
   "execution_count": 33,
   "id": "e2f65492",
   "metadata": {},
   "outputs": [],
   "source": [
    "from sklearn.svm import LinearSVC"
   ]
  },
  {
   "cell_type": "code",
   "execution_count": 34,
   "id": "64c8f174",
   "metadata": {},
   "outputs": [
    {
     "name": "stdout",
     "output_type": "stream",
     "text": [
      "confusion_matrix\n",
      "[[11578  1210]\n",
      " [ 1455 11274]]\n",
      "\n",
      "\n",
      "classification_report\n",
      "              precision    recall  f1-score   support\n",
      "\n",
      "           0       0.89      0.91      0.90     12788\n",
      "           1       0.90      0.89      0.89     12729\n",
      "\n",
      "    accuracy                           0.90     25517\n",
      "   macro avg       0.90      0.90      0.90     25517\n",
      "weighted avg       0.90      0.90      0.90     25517\n",
      "\n",
      "\n",
      "\n",
      "Accuracy: 89.55598228631892\n",
      "\n",
      "\n",
      "ROC Value: 0.8955370640826588\n"
     ]
    }
   ],
   "source": [
    "M14=LinearSVC()\n",
    "M14.fit(X_train,y_train)\n",
    "P14=M14.predict(X_test)\n",
    "print('confusion_matrix')\n",
    "print(confusion_matrix(y_test,P14))\n",
    "print('\\n')\n",
    "print('classification_report')\n",
    "print(classification_report(y_test,P14))\n",
    "print('\\n')\n",
    "print('Accuracy:',100*accuracy_score(y_test,P14))\n",
    "print('\\n')\n",
    "print('ROC Value:',roc_auc_score(y_test,P14))"
   ]
  },
  {
   "cell_type": "markdown",
   "id": "2b6d3ed8",
   "metadata": {},
   "source": [
    "## SGD Classifier"
   ]
  },
  {
   "cell_type": "code",
   "execution_count": 35,
   "id": "33fcb477",
   "metadata": {},
   "outputs": [],
   "source": [
    "from sklearn.linear_model import SGDClassifier"
   ]
  },
  {
   "cell_type": "code",
   "execution_count": 36,
   "id": "5f456433",
   "metadata": {
    "scrolled": false
   },
   "outputs": [
    {
     "name": "stdout",
     "output_type": "stream",
     "text": [
      "confusion_matrix\n",
      "[[11841   947]\n",
      " [ 1732 10997]]\n",
      "\n",
      "\n",
      "classification_report\n",
      "              precision    recall  f1-score   support\n",
      "\n",
      "           0       0.87      0.93      0.90     12788\n",
      "           1       0.92      0.86      0.89     12729\n",
      "\n",
      "    accuracy                           0.90     25517\n",
      "   macro avg       0.90      0.89      0.89     25517\n",
      "weighted avg       0.90      0.90      0.89     25517\n",
      "\n",
      "\n",
      "\n",
      "Accuracy: 89.50111690245718\n",
      "\n",
      "\n",
      "ROC Value: 0.8949394757728745\n"
     ]
    }
   ],
   "source": [
    "M15=SGDClassifier()\n",
    "M15.fit(X_train,y_train)\n",
    "P15=M15.predict(X_test)\n",
    "print('confusion_matrix')\n",
    "print(confusion_matrix(y_test,P15))\n",
    "print('\\n')\n",
    "print('classification_report')\n",
    "print(classification_report(y_test,P15))\n",
    "print('\\n')\n",
    "print('Accuracy:',100*accuracy_score(y_test,P15))\n",
    "print('\\n')\n",
    "print('ROC Value:',roc_auc_score(y_test,P15))"
   ]
  },
  {
   "cell_type": "markdown",
   "id": "06a85c11",
   "metadata": {},
   "source": [
    "## Perceptron"
   ]
  },
  {
   "cell_type": "code",
   "execution_count": 37,
   "id": "4125a277",
   "metadata": {},
   "outputs": [],
   "source": [
    "from sklearn.linear_model import Perceptron"
   ]
  },
  {
   "cell_type": "code",
   "execution_count": 38,
   "id": "0a4298de",
   "metadata": {},
   "outputs": [
    {
     "name": "stdout",
     "output_type": "stream",
     "text": [
      "confusion_matrix\n",
      "[[11501  1287]\n",
      " [ 1441 11288]]\n",
      "\n",
      "\n",
      "classification_report\n",
      "              precision    recall  f1-score   support\n",
      "\n",
      "           0       0.89      0.90      0.89     12788\n",
      "           1       0.90      0.89      0.89     12729\n",
      "\n",
      "    accuracy                           0.89     25517\n",
      "   macro avg       0.89      0.89      0.89     25517\n",
      "weighted avg       0.89      0.89      0.89     25517\n",
      "\n",
      "\n",
      "\n",
      "Accuracy: 89.3090880589411\n",
      "\n",
      "\n",
      "ROC Value: 0.8930763544796457\n"
     ]
    }
   ],
   "source": [
    "M16=Perceptron()\n",
    "M16.fit(X_train,y_train)\n",
    "P16=M16.predict(X_test)\n",
    "print('confusion_matrix')\n",
    "print(confusion_matrix(y_test,P16))\n",
    "print('\\n')\n",
    "print('classification_report')\n",
    "print(classification_report(y_test,P16))\n",
    "print('\\n')\n",
    "print('Accuracy:',100*accuracy_score(y_test,P16))\n",
    "print('\\n')\n",
    "print('ROC Value:',roc_auc_score(y_test,P16))"
   ]
  },
  {
   "cell_type": "markdown",
   "id": "71bb4bd9",
   "metadata": {},
   "source": [
    "## LogisticRegressionCV"
   ]
  },
  {
   "cell_type": "code",
   "execution_count": 39,
   "id": "55517f53",
   "metadata": {},
   "outputs": [],
   "source": [
    "from sklearn.linear_model import LogisticRegressionCV"
   ]
  },
  {
   "cell_type": "code",
   "execution_count": 40,
   "id": "3e3af8a3",
   "metadata": {},
   "outputs": [
    {
     "name": "stdout",
     "output_type": "stream",
     "text": [
      "confusion_matrix\n",
      "[[11550  1238]\n",
      " [ 1392 11337]]\n",
      "\n",
      "\n",
      "classification_report\n",
      "              precision    recall  f1-score   support\n",
      "\n",
      "           0       0.89      0.90      0.90     12788\n",
      "           1       0.90      0.89      0.90     12729\n",
      "\n",
      "    accuracy                           0.90     25517\n",
      "   macro avg       0.90      0.90      0.90     25517\n",
      "weighted avg       0.90      0.90      0.90     25517\n",
      "\n",
      "\n",
      "\n",
      "Accuracy: 89.69314574597327\n",
      "\n",
      "\n",
      "ROC Value: 0.89691695188255\n"
     ]
    }
   ],
   "source": [
    "M17=LogisticRegressionCV()\n",
    "M17.fit(X_train,y_train)\n",
    "P17=M17.predict(X_test)\n",
    "print('confusion_matrix')\n",
    "print(confusion_matrix(y_test,P17))\n",
    "print('\\n')\n",
    "print('classification_report')\n",
    "print(classification_report(y_test,P17))\n",
    "print('\\n')\n",
    "print('Accuracy:',100*accuracy_score(y_test,P17))\n",
    "print('\\n')\n",
    "print('ROC Value:',roc_auc_score(y_test,P17))"
   ]
  },
  {
   "cell_type": "markdown",
   "id": "e89ccc38",
   "metadata": {},
   "source": [
    "## CalibratedClassifierCV"
   ]
  },
  {
   "cell_type": "code",
   "execution_count": 41,
   "id": "cb01e016",
   "metadata": {},
   "outputs": [],
   "source": [
    "from sklearn.calibration import CalibratedClassifierCV"
   ]
  },
  {
   "cell_type": "code",
   "execution_count": 42,
   "id": "ef0d67cd",
   "metadata": {},
   "outputs": [
    {
     "name": "stdout",
     "output_type": "stream",
     "text": [
      "confusion_matrix\n",
      "[[ 8961  3827]\n",
      " [ 1377 11352]]\n",
      "\n",
      "\n",
      "classification_report\n",
      "              precision    recall  f1-score   support\n",
      "\n",
      "           0       0.87      0.70      0.77     12788\n",
      "           1       0.75      0.89      0.81     12729\n",
      "\n",
      "    accuracy                           0.80     25517\n",
      "   macro avg       0.81      0.80      0.79     25517\n",
      "weighted avg       0.81      0.80      0.79     25517\n",
      "\n",
      "\n",
      "\n",
      "Accuracy: 79.6057530273935\n",
      "\n",
      "\n",
      "ROC Value: 0.7962784441518094\n"
     ]
    }
   ],
   "source": [
    "M18=CalibratedClassifierCV(M6, cv=2)\n",
    "M18.fit(X_train,y_train)\n",
    "P18=M18.predict(X_test)\n",
    "print('confusion_matrix')\n",
    "print(confusion_matrix(y_test,P18))\n",
    "print('\\n')\n",
    "print('classification_report')\n",
    "print(classification_report(y_test,P18))\n",
    "print('\\n')\n",
    "print('Accuracy:',100*accuracy_score(y_test,P18))\n",
    "print('\\n')\n",
    "print('ROC Value:',roc_auc_score(y_test,P18))"
   ]
  },
  {
   "cell_type": "markdown",
   "id": "212b338e",
   "metadata": {},
   "source": [
    "## PassiveAggressiveClassifier"
   ]
  },
  {
   "cell_type": "code",
   "execution_count": 43,
   "id": "53c32aa0",
   "metadata": {},
   "outputs": [],
   "source": [
    "from sklearn.linear_model import PassiveAggressiveClassifier"
   ]
  },
  {
   "cell_type": "code",
   "execution_count": 44,
   "id": "6124d9a6",
   "metadata": {},
   "outputs": [
    {
     "name": "stdout",
     "output_type": "stream",
     "text": [
      "confusion_matrix\n",
      "[[10825  1963]\n",
      " [ 1054 11675]]\n",
      "\n",
      "\n",
      "classification_report\n",
      "              precision    recall  f1-score   support\n",
      "\n",
      "           0       0.91      0.85      0.88     12788\n",
      "           1       0.86      0.92      0.89     12729\n",
      "\n",
      "    accuracy                           0.88     25517\n",
      "   macro avg       0.88      0.88      0.88     25517\n",
      "weighted avg       0.88      0.88      0.88     25517\n",
      "\n",
      "\n",
      "\n",
      "Accuracy: 88.1765097777952\n",
      "\n",
      "\n",
      "ROC Value: 0.8818468337565958\n"
     ]
    }
   ],
   "source": [
    "M19=PassiveAggressiveClassifier(max_iter=5000, random_state=0,tol=1e-3)\n",
    "M19.fit(X_train,y_train)\n",
    "P19=M19.predict(X_test)\n",
    "print('confusion_matrix')\n",
    "print(confusion_matrix(y_test,P19))\n",
    "print('\\n')\n",
    "print('classification_report')\n",
    "print(classification_report(y_test,P19))\n",
    "print('\\n')\n",
    "print('Accuracy:',100*accuracy_score(y_test,P19))\n",
    "print('\\n')\n",
    "print('ROC Value:',roc_auc_score(y_test,P19))"
   ]
  },
  {
   "cell_type": "markdown",
   "id": "5e998b1d",
   "metadata": {},
   "source": [
    "## QuadraticDiscriminantAnalysis"
   ]
  },
  {
   "cell_type": "code",
   "execution_count": 45,
   "id": "9d9328d2",
   "metadata": {},
   "outputs": [],
   "source": [
    "from sklearn.discriminant_analysis import QuadraticDiscriminantAnalysis"
   ]
  },
  {
   "cell_type": "code",
   "execution_count": 46,
   "id": "d6abc750",
   "metadata": {},
   "outputs": [
    {
     "name": "stdout",
     "output_type": "stream",
     "text": [
      "confusion_matrix\n",
      "[[ 9173  3615]\n",
      " [ 1314 11415]]\n",
      "\n",
      "\n",
      "classification_report\n",
      "              precision    recall  f1-score   support\n",
      "\n",
      "           0       0.87      0.72      0.79     12788\n",
      "           1       0.76      0.90      0.82     12729\n",
      "\n",
      "    accuracy                           0.81     25517\n",
      "   macro avg       0.82      0.81      0.81     25517\n",
      "weighted avg       0.82      0.81      0.81     25517\n",
      "\n",
      "\n",
      "\n",
      "Accuracy: 80.68346592467766\n",
      "\n",
      "\n",
      "ROC Value: 0.8070421292616788\n"
     ]
    }
   ],
   "source": [
    "M20=QuadraticDiscriminantAnalysis()\n",
    "M20.fit(X_train,y_train)\n",
    "P20=M20.predict(X_test)\n",
    "print('confusion_matrix')\n",
    "print(confusion_matrix(y_test,P20))\n",
    "print('\\n')\n",
    "print('classification_report')\n",
    "print(classification_report(y_test,P20))\n",
    "print('\\n')\n",
    "print('Accuracy:',100*accuracy_score(y_test,P20))\n",
    "print('\\n')\n",
    "print('ROC Value:',roc_auc_score(y_test,P20))"
   ]
  },
  {
   "cell_type": "markdown",
   "id": "7a007490",
   "metadata": {},
   "source": [
    "## RidgeClassifierCV "
   ]
  },
  {
   "cell_type": "code",
   "execution_count": 47,
   "id": "447952d2",
   "metadata": {},
   "outputs": [],
   "source": [
    "from sklearn.linear_model import RidgeClassifierCV"
   ]
  },
  {
   "cell_type": "code",
   "execution_count": 48,
   "id": "855199ac",
   "metadata": {},
   "outputs": [
    {
     "name": "stdout",
     "output_type": "stream",
     "text": [
      "confusion_matrix\n",
      "[[11685  1103]\n",
      " [ 1884 10845]]\n",
      "\n",
      "\n",
      "classification_report\n",
      "              precision    recall  f1-score   support\n",
      "\n",
      "           0       0.86      0.91      0.89     12788\n",
      "           1       0.91      0.85      0.88     12729\n",
      "\n",
      "    accuracy                           0.88     25517\n",
      "   macro avg       0.88      0.88      0.88     25517\n",
      "weighted avg       0.88      0.88      0.88     25517\n",
      "\n",
      "\n",
      "\n",
      "Accuracy: 88.29407845749893\n",
      "\n",
      "\n",
      "ROC Value: 0.8828693892481543\n"
     ]
    }
   ],
   "source": [
    "M21=RidgeClassifierCV()\n",
    "M21.fit(X_train,y_train)\n",
    "P21=M21.predict(X_test)\n",
    "print('confusion_matrix')\n",
    "print(confusion_matrix(y_test,P21))\n",
    "print('\\n')\n",
    "print('classification_report')\n",
    "print(classification_report(y_test,P21))\n",
    "print('\\n')\n",
    "print('Accuracy:',100*accuracy_score(y_test,P21))\n",
    "print('\\n')\n",
    "print('ROC Value:',roc_auc_score(y_test,P21))"
   ]
  },
  {
   "cell_type": "markdown",
   "id": "d5f5584d",
   "metadata": {},
   "source": [
    "## RidgeClassifier"
   ]
  },
  {
   "cell_type": "code",
   "execution_count": 49,
   "id": "ea39e38e",
   "metadata": {},
   "outputs": [],
   "source": [
    "from sklearn.linear_model import RidgeClassifier"
   ]
  },
  {
   "cell_type": "code",
   "execution_count": 50,
   "id": "df173f20",
   "metadata": {},
   "outputs": [
    {
     "name": "stdout",
     "output_type": "stream",
     "text": [
      "confusion_matrix\n",
      "[[11685  1103]\n",
      " [ 1884 10845]]\n",
      "\n",
      "\n",
      "classification_report\n",
      "              precision    recall  f1-score   support\n",
      "\n",
      "           0       0.86      0.91      0.89     12788\n",
      "           1       0.91      0.85      0.88     12729\n",
      "\n",
      "    accuracy                           0.88     25517\n",
      "   macro avg       0.88      0.88      0.88     25517\n",
      "weighted avg       0.88      0.88      0.88     25517\n",
      "\n",
      "\n",
      "\n",
      "Accuracy: 88.29407845749893\n",
      "\n",
      "\n",
      "ROC Value: 0.8828693892481543\n"
     ]
    }
   ],
   "source": [
    "M22=RidgeClassifier()\n",
    "M22.fit(X_train,y_train)\n",
    "P22=M22.predict(X_test)\n",
    "print('confusion_matrix')\n",
    "print(confusion_matrix(y_test,P22))\n",
    "print('\\n')\n",
    "print('classification_report')\n",
    "print(classification_report(y_test,P22))\n",
    "print('\\n')\n",
    "print('Accuracy:',100*accuracy_score(y_test,P22))\n",
    "print('\\n')\n",
    "print('ROC Value:',roc_auc_score(y_test,P22))"
   ]
  },
  {
   "cell_type": "markdown",
   "id": "9c64ae71",
   "metadata": {},
   "source": [
    "## ExtraTreesClassifier"
   ]
  },
  {
   "cell_type": "code",
   "execution_count": 51,
   "id": "56e36526",
   "metadata": {},
   "outputs": [],
   "source": [
    "from sklearn.ensemble import ExtraTreesClassifier"
   ]
  },
  {
   "cell_type": "code",
   "execution_count": 52,
   "id": "ec13984d",
   "metadata": {
    "scrolled": false
   },
   "outputs": [
    {
     "name": "stdout",
     "output_type": "stream",
     "text": [
      "confusion_matrix\n",
      "[[11940   848]\n",
      " [ 1032 11697]]\n",
      "\n",
      "\n",
      "classification_report\n",
      "              precision    recall  f1-score   support\n",
      "\n",
      "           0       0.92      0.93      0.93     12788\n",
      "           1       0.93      0.92      0.93     12729\n",
      "\n",
      "    accuracy                           0.93     25517\n",
      "   macro avg       0.93      0.93      0.93     25517\n",
      "weighted avg       0.93      0.93      0.93     25517\n",
      "\n",
      "\n",
      "\n",
      "Accuracy: 92.63236273856644\n",
      "\n",
      "\n",
      "ROC Value: 0.9263065605268196\n"
     ]
    }
   ],
   "source": [
    "M23=ExtraTreesClassifier()\n",
    "M23.fit(X_train,y_train)\n",
    "P23=M23.predict(X_test)\n",
    "print('confusion_matrix')\n",
    "print(confusion_matrix(y_test,P23))\n",
    "print('\\n')\n",
    "print('classification_report')\n",
    "print(classification_report(y_test,P23))\n",
    "print('\\n')\n",
    "print('Accuracy:',100*accuracy_score(y_test,P23))\n",
    "print('\\n')\n",
    "print('ROC Value:',roc_auc_score(y_test,P23))"
   ]
  },
  {
   "cell_type": "markdown",
   "id": "ed7d4353",
   "metadata": {},
   "source": [
    "## BernoulliNB"
   ]
  },
  {
   "cell_type": "code",
   "execution_count": 53,
   "id": "a02d3084",
   "metadata": {},
   "outputs": [],
   "source": [
    "from sklearn.naive_bayes import BernoulliNB"
   ]
  },
  {
   "cell_type": "code",
   "execution_count": 54,
   "id": "cf287002",
   "metadata": {},
   "outputs": [
    {
     "name": "stdout",
     "output_type": "stream",
     "text": [
      "confusion_matrix\n",
      "[[10914  1874]\n",
      " [ 3387  9342]]\n",
      "\n",
      "\n",
      "classification_report\n",
      "              precision    recall  f1-score   support\n",
      "\n",
      "           0       0.76      0.85      0.81     12788\n",
      "           1       0.83      0.73      0.78     12729\n",
      "\n",
      "    accuracy                           0.79     25517\n",
      "   macro avg       0.80      0.79      0.79     25517\n",
      "weighted avg       0.80      0.79      0.79     25517\n",
      "\n",
      "\n",
      "\n",
      "Accuracy: 79.38237253595642\n",
      "\n",
      "\n",
      "ROC Value: 0.7936855241749073\n"
     ]
    }
   ],
   "source": [
    "M24=BernoulliNB()\n",
    "M24.fit(X_train,y_train)\n",
    "P24=M24.predict(X_test)\n",
    "print('confusion_matrix')\n",
    "print(confusion_matrix(y_test,P24))\n",
    "print('\\n')\n",
    "print('classification_report')\n",
    "print(classification_report(y_test,P24))\n",
    "print('\\n')\n",
    "print('Accuracy:',100*accuracy_score(y_test,P24))\n",
    "print('\\n')\n",
    "print('ROC Value:',roc_auc_score(y_test,P24))"
   ]
  },
  {
   "cell_type": "markdown",
   "id": "65c0736a",
   "metadata": {},
   "source": [
    "## LinearDiscriminantAnalysis "
   ]
  },
  {
   "cell_type": "code",
   "execution_count": 55,
   "id": "77fa253a",
   "metadata": {},
   "outputs": [],
   "source": [
    "from sklearn.discriminant_analysis import LinearDiscriminantAnalysis"
   ]
  },
  {
   "cell_type": "code",
   "execution_count": 56,
   "id": "e88ead8e",
   "metadata": {},
   "outputs": [
    {
     "name": "stdout",
     "output_type": "stream",
     "text": [
      "confusion_matrix\n",
      "[[11684  1104]\n",
      " [ 1883 10846]]\n",
      "\n",
      "\n",
      "classification_report\n",
      "              precision    recall  f1-score   support\n",
      "\n",
      "           0       0.86      0.91      0.89     12788\n",
      "           1       0.91      0.85      0.88     12729\n",
      "\n",
      "    accuracy                           0.88     25517\n",
      "   macro avg       0.88      0.88      0.88     25517\n",
      "weighted avg       0.88      0.88      0.88     25517\n",
      "\n",
      "\n",
      "\n",
      "Accuracy: 88.29407845749893\n",
      "\n",
      "\n",
      "ROC Value: 0.8828695704760726\n"
     ]
    }
   ],
   "source": [
    "M25=LinearDiscriminantAnalysis()\n",
    "M25.fit(X_train,y_train)\n",
    "P25=M25.predict(X_test)\n",
    "print('confusion_matrix')\n",
    "print(confusion_matrix(y_test,P25))\n",
    "print('\\n')\n",
    "print('classification_report')\n",
    "print(classification_report(y_test,P25))\n",
    "print('\\n')\n",
    "print('Accuracy:',100*accuracy_score(y_test,P25))\n",
    "print('\\n')\n",
    "print('ROC Value:',roc_auc_score(y_test,P25))"
   ]
  },
  {
   "cell_type": "markdown",
   "id": "6fe5fa75",
   "metadata": {},
   "source": [
    "## NuSVC"
   ]
  },
  {
   "cell_type": "code",
   "execution_count": 57,
   "id": "af02f296",
   "metadata": {},
   "outputs": [],
   "source": [
    "from sklearn.svm import NuSVC"
   ]
  },
  {
   "cell_type": "code",
   "execution_count": 58,
   "id": "19568f5d",
   "metadata": {},
   "outputs": [
    {
     "name": "stdout",
     "output_type": "stream",
     "text": [
      "confusion_matrix\n",
      "[[11734  1054]\n",
      " [ 2565 10164]]\n",
      "\n",
      "\n",
      "classification_report\n",
      "              precision    recall  f1-score   support\n",
      "\n",
      "           0       0.82      0.92      0.87     12788\n",
      "           1       0.91      0.80      0.85     12729\n",
      "\n",
      "    accuracy                           0.86     25517\n",
      "   macro avg       0.86      0.86      0.86     25517\n",
      "weighted avg       0.86      0.86      0.86     25517\n",
      "\n",
      "\n",
      "\n",
      "Accuracy: 85.81729827174041\n",
      "\n",
      "\n",
      "ROC Value: 0.8580353067861831\n"
     ]
    }
   ],
   "source": [
    "M26=NuSVC()\n",
    "M26.fit(X_train,y_train)\n",
    "P26=M26.predict(X_test)\n",
    "print('confusion_matrix')\n",
    "print(confusion_matrix(y_test,P26))\n",
    "print('\\n')\n",
    "print('classification_report')\n",
    "print(classification_report(y_test,P26))\n",
    "print('\\n')\n",
    "print('Accuracy:',100*accuracy_score(y_test,P26))\n",
    "print('\\n')\n",
    "print('ROC Value:',roc_auc_score(y_test,P26))"
   ]
  },
  {
   "cell_type": "markdown",
   "id": "553f372a",
   "metadata": {},
   "source": [
    "## NearestCentroid"
   ]
  },
  {
   "cell_type": "code",
   "execution_count": 59,
   "id": "549f31de",
   "metadata": {},
   "outputs": [],
   "source": [
    "from sklearn.neighbors import NearestCentroid"
   ]
  },
  {
   "cell_type": "code",
   "execution_count": 60,
   "id": "2ce14a3d",
   "metadata": {},
   "outputs": [
    {
     "name": "stdout",
     "output_type": "stream",
     "text": [
      "confusion_matrix\n",
      "[[ 9858  2930]\n",
      " [ 2499 10230]]\n",
      "\n",
      "\n",
      "classification_report\n",
      "              precision    recall  f1-score   support\n",
      "\n",
      "           0       0.80      0.77      0.78     12788\n",
      "           1       0.78      0.80      0.79     12729\n",
      "\n",
      "    accuracy                           0.79     25517\n",
      "   macro avg       0.79      0.79      0.79     25517\n",
      "weighted avg       0.79      0.79      0.79     25517\n",
      "\n",
      "\n",
      "\n",
      "Accuracy: 78.72398792961555\n",
      "\n",
      "\n",
      "ROC Value: 0.7872777964493727\n"
     ]
    }
   ],
   "source": [
    "M27=NearestCentroid()\n",
    "M27.fit(X_train,y_train)\n",
    "P27=M27.predict(X_test)\n",
    "print('confusion_matrix')\n",
    "print(confusion_matrix(y_test,P27))\n",
    "print('\\n')\n",
    "print('classification_report')\n",
    "print(classification_report(y_test,P27))\n",
    "print('\\n')\n",
    "print('Accuracy:',100*accuracy_score(y_test,P27))\n",
    "print('\\n')\n",
    "print('ROC Value:',roc_auc_score(y_test,P27))"
   ]
  },
  {
   "cell_type": "markdown",
   "id": "5e7055fc",
   "metadata": {},
   "source": [
    "## DummyClassifier"
   ]
  },
  {
   "cell_type": "code",
   "execution_count": 61,
   "id": "0434b37d",
   "metadata": {},
   "outputs": [],
   "source": [
    "from sklearn.dummy import DummyClassifier"
   ]
  },
  {
   "cell_type": "code",
   "execution_count": 62,
   "id": "81a68b17",
   "metadata": {},
   "outputs": [
    {
     "name": "stdout",
     "output_type": "stream",
     "text": [
      "confusion_matrix\n",
      "[[    0 12788]\n",
      " [    0 12729]]\n",
      "\n",
      "\n",
      "classification_report\n",
      "              precision    recall  f1-score   support\n",
      "\n",
      "           0       0.00      0.00      0.00     12788\n",
      "           1       0.50      1.00      0.67     12729\n",
      "\n",
      "    accuracy                           0.50     25517\n",
      "   macro avg       0.25      0.50      0.33     25517\n",
      "weighted avg       0.25      0.50      0.33     25517\n",
      "\n",
      "\n",
      "\n",
      "Accuracy: 49.884390798291335\n",
      "\n",
      "\n",
      "ROC Value: 0.5\n"
     ]
    }
   ],
   "source": [
    "M28=DummyClassifier()\n",
    "M28.fit(X_train,y_train)\n",
    "P28=M28.predict(X_test)\n",
    "print('confusion_matrix')\n",
    "print(confusion_matrix(y_test,P28))\n",
    "print('\\n')\n",
    "print('classification_report')\n",
    "print(classification_report(y_test,P28))\n",
    "print('\\n')\n",
    "print('Accuracy:',100*accuracy_score(y_test,P28))\n",
    "print('\\n')\n",
    "print('ROC Value:',roc_auc_score(y_test,P28))"
   ]
  },
  {
   "cell_type": "code",
   "execution_count": 63,
   "id": "8a4d86d9",
   "metadata": {},
   "outputs": [],
   "source": [
    "Name=['Logistic Regression','Random Forest Classifier','Decision Tree','Naive Bayes classifier', 'SVM','KNN', \n",
    "      'GBBoosting','Histogram Boosting Classifier','XGB Boosting','Light GBM',\n",
    "      'CAT Boosting','Neural_Network','Bagging_classifier','LinearSVC','SGD Classifier','Perceptron','LogisticRegressionCV',\n",
    "     'CalibratedClassifierCV','PassiveAggressiveClassifier','QuadraticDiscriminantAnalysis','RidgeClassifierCV',\n",
    "     'RidgeClassifier','ExtraTreesClassifier','BernoulliNB','LinearDiscriminantAnalysis ','NuSVC','NearestCentroid',\n",
    "      'DummyClassifier']\n",
    "clfs= [LogisticRegression(),RandomForestClassifier(),DecisionTreeClassifier(),GaussianNB(),SVC(),KNeighborsClassifier(n_neighbors=2),\n",
    "      GradientBoostingClassifier(n_estimators=100, learning_rate=1.0, max_depth=1),\n",
    "       HistGradientBoostingClassifier(),XGBClassifier(),LGBMClassifier(),MLPClassifier(),\n",
    "       CatBoostClassifier(verbose=0),BaggingClassifier(base_estimator=GradientBoostingClassifier()),LinearSVC(),SGDClassifier(),\n",
    "      Perceptron(),LogisticRegressionCV(),CalibratedClassifierCV(GaussianNB(), cv=2),\n",
    "       PassiveAggressiveClassifier(max_iter=1000, random_state=0,tol=1e-3),QuadraticDiscriminantAnalysis(),\n",
    "      RidgeClassifierCV(),RidgeClassifier(),ExtraTreesClassifier(),BernoulliNB(),LinearDiscriminantAnalysis(),NuSVC(),\n",
    "       NearestCentroid(),DummyClassifier()]"
   ]
  },
  {
   "cell_type": "code",
   "execution_count": 64,
   "id": "6b355b36",
   "metadata": {},
   "outputs": [],
   "source": [
    "Roc_score=[]\n",
    "Accuracy_score=[]\n",
    "Balenced_accuracy=[]\n",
    "F1_score=[]\n",
    "Confusion_metrix=[]\n",
    "Classification_Report=[]\n",
    "\n",
    "for i in clfs:\n",
    "    i.fit(X_train,y_train)\n",
    "    \n",
    "    Roc_value=roc_auc_score(y_test,i.predict(X_test))\n",
    "    acc_value=100*accuracy_score(y_test,i.predict(X_test))\n",
    "    Bal_acc_value=balanced_accuracy_score(y_test,i.predict(X_test))\n",
    "    F1_value=f1_score(y_test,i.predict(X_test))\n",
    "    Confusion_metrix_value=confusion_matrix(y_test,i.predict(X_test))\n",
    "    Classification_Report_value=classification_report(y_test,i.predict(X_test))\n",
    "    \n",
    "    Roc_score.append(Roc_value)\n",
    "    Accuracy_score.append(acc_value)\n",
    "    Balenced_accuracy.append(Bal_acc_value)\n",
    "    F1_score.append(F1_value)\n",
    "    Confusion_metrix.append(Confusion_metrix_value)\n",
    "    Classification_Report.append(Classification_Report_value)"
   ]
  },
  {
   "cell_type": "code",
   "execution_count": 65,
   "id": "dcce1674",
   "metadata": {
    "scrolled": false
   },
   "outputs": [
    {
     "name": "stdout",
     "output_type": "stream",
     "text": [
      "                                   AROC   Accuracy  Bal Accu  F1 Score\n",
      "Random Forest Classifier       0.930208  93.020339  0.930208  0.930192\n",
      "ExtraTreesClassifier           0.925720  92.573578  0.925720  0.925066\n",
      "XGB Boosting                   0.924450  92.444253  0.924450  0.924528\n",
      "Neural_Network                 0.924372  92.436415  0.924372  0.924450\n",
      "Histogram Boosting Classifier  0.918725  91.872085  0.918725  0.918679\n",
      "Light GBM                      0.918490  91.848572  0.918490  0.918476\n",
      "CAT Boosting                   0.910321  91.033429  0.910321  0.909644\n",
      "GBBoosting                     0.905390  90.539640  0.905390  0.904953\n",
      "Bagging_classifier             0.904714  90.469099  0.904714  0.905443\n",
      "SVM                            0.898389  89.842066  0.898389  0.896799\n",
      "Decision Tree                  0.897078  89.704903  0.897078  0.898103\n",
      "LogisticRegressionCV           0.896917  89.693146  0.896917  0.896064\n",
      "Logistic Regression            0.896482  89.650037  0.896482  0.895460\n",
      "LinearSVC                      0.895537  89.555982  0.895537  0.894301\n",
      "SGD Classifier                 0.894999  89.501117  0.894999  0.894249\n",
      "Perceptron                     0.893076  89.309088  0.893076  0.892191\n",
      "KNN                            0.887002  88.713407  0.887002  0.880050\n",
      "LinearDiscriminantAnalysis     0.882870  88.294078  0.882870  0.878966\n",
      "RidgeClassifierCV              0.882869  88.294078  0.882869  0.878956\n",
      "RidgeClassifier                0.882869  88.294078  0.882869  0.878956\n",
      "PassiveAggressiveClassifier    0.881847  88.176510  0.881847  0.885577\n",
      "NuSVC                          0.858035  85.817298  0.858035  0.848875\n",
      "QuadraticDiscriminantAnalysis  0.807042  80.683466  0.807042  0.822436\n",
      "CalibratedClassifierCV         0.796278  79.605753  0.796278  0.813530\n",
      "BernoulliNB                    0.793686  79.382373  0.793686  0.780288\n",
      "NearestCentroid                0.787278  78.723988  0.787278  0.790297\n",
      "Naive Bayes classifier         0.785000  78.473175  0.785000  0.806768\n",
      "DummyClassifier                0.500000  49.884391  0.500000  0.665638\n"
     ]
    }
   ],
   "source": [
    "dict={'AROC':Roc_score ,'Accuracy':Accuracy_score,'Bal Accu':Balenced_accuracy,'F1 Score':F1_score}\n",
    "score = pd.DataFrame(dict, index=Name)\n",
    "score=score.sort_values(by='AROC',ascending=False)\n",
    "print(score)"
   ]
  },
  {
   "cell_type": "code",
   "execution_count": 66,
   "id": "3d3fee5a",
   "metadata": {
    "scrolled": false
   },
   "outputs": [
    {
     "data": {
      "image/png": "[encoded data removed]",
      "text/plain": [
       "<Figure size 432x288 with 2 Axes>"
      ]
     },
     "metadata": {
      "needs_background": "light"
     },
     "output_type": "display_data"
    },
    {
     "data": {
      "image/png": "[encoded data removed]",
      "text/plain": [
       "<Figure size 432x288 with 2 Axes>"
      ]
     },
     "metadata": {
      "needs_background": "light"
     },
     "output_type": "display_data"
    },
    {
     "data": {
      "image/png": "[encoded data removed]",
      "text/plain": [
       "<Figure size 432x288 with 2 Axes>"
      ]
     },
     "metadata": {
      "needs_background": "light"
     },
     "output_type": "display_data"
    },
    {
     "data": {
      "image/png": "[encoded data removed]",
      "text/plain": [
       "<Figure size 432x288 with 2 Axes>"
      ]
     },
     "metadata": {
      "needs_background": "light"
     },
     "output_type": "display_data"
    },
    {
     "data": {
      "image/png": "[encoded data removed]",
      "text/plain": [
       "<Figure size 432x288 with 2 Axes>"
      ]
     },
     "metadata": {
      "needs_background": "light"
     },
     "output_type": "display_data"
    },
    {
     "data": {
      "image/png": "[encoded data removed]",
      "text/plain": [
       "<Figure size 432x288 with 2 Axes>"
      ]
     },
     "metadata": {
      "needs_background": "light"
     },
     "output_type": "display_data"
    },
    {
     "data": {
      "image/png": "[encoded data removed]",
      "text/plain": [
       "<Figure size 432x288 with 2 Axes>"
      ]
     },
     "metadata": {
      "needs_background": "light"
     },
     "output_type": "display_data"
    },
    {
     "data": {
      "image/png": "[encoded data removed]",
      "text/plain": [
       "<Figure size 432x288 with 2 Axes>"
      ]
     },
     "metadata": {
      "needs_background": "light"
     },
     "output_type": "display_data"
    },
    {
     "data": {
      "image/png": "[encoded data removed]",
      "text/plain": [
       "<Figure size 432x288 with 2 Axes>"
      ]
     },
     "metadata": {
      "needs_background": "light"
     },
     "output_type": "display_data"
    },
    {
     "data": {
      "image/png": "[encoded data removed]",
      "text/plain": [
       "<Figure size 432x288 with 2 Axes>"
      ]
     },
     "metadata": {
      "needs_background": "light"
     },
     "output_type": "display_data"
    },
    {
     "data": {
      "image/png": "[encoded data removed]",
      "text/plain": [
       "<Figure size 432x288 with 2 Axes>"
      ]
     },
     "metadata": {
      "needs_background": "light"
     },
     "output_type": "display_data"
    },
    {
     "data": {
      "image/png": "[encoded data removed]",
      "text/plain": [
       "<Figure size 432x288 with 2 Axes>"
      ]
     },
     "metadata": {
      "needs_background": "light"
     },
     "output_type": "display_data"
    },
    {
     "data": {
      "image/png": "[encoded data removed]",
      "text/plain": [
       "<Figure size 432x288 with 2 Axes>"
      ]
     },
     "metadata": {
      "needs_background": "light"
     },
     "output_type": "display_data"
    },
    {
     "data": {
      "image/png": "[encoded data removed]",
      "text/plain": [
       "<Figure size 432x288 with 2 Axes>"
      ]
     },
     "metadata": {
      "needs_background": "light"
     },
     "output_type": "display_data"
    },
    {
     "data": {
      "image/png": "[encoded data removed]",
      "text/plain": [
       "<Figure size 432x288 with 2 Axes>"
      ]
     },
     "metadata": {
      "needs_background": "light"
     },
     "output_type": "display_data"
    },
    {
     "data": {
      "image/png": "[encoded data removed]",
      "text/plain": [
       "<Figure size 432x288 with 2 Axes>"
      ]
     },
     "metadata": {
      "needs_background": "light"
     },
     "output_type": "display_data"
    },
    {
     "data": {
      "image/png": "[encoded data removed]",
      "text/plain": [
       "<Figure size 432x288 with 2 Axes>"
      ]
     },
     "metadata": {
      "needs_background": "light"
     },
     "output_type": "display_data"
    },
    {
     "data": {
      "image/png": "[encoded data removed]",
      "text/plain": [
       "<Figure size 432x288 with 2 Axes>"
      ]
     },
     "metadata": {
      "needs_background": "light"
     },
     "output_type": "display_data"
    },
    {
     "data": {
      "image/png": "[encoded data removed]",
      "text/plain": [
       "<Figure size 432x288 with 2 Axes>"
      ]
     },
     "metadata": {
      "needs_background": "light"
     },
     "output_type": "display_data"
    },
    {
     "data": {
      "image/png": "[encoded data removed]",
      "text/plain": [
       "<Figure size 432x288 with 2 Axes>"
      ]
     },
     "metadata": {
      "needs_background": "light"
     },
     "output_type": "display_data"
    },
    {
     "data": {
      "image/png": "[encoded data removed]",
      "text/plain": [
       "<Figure size 432x288 with 2 Axes>"
      ]
     },
     "metadata": {
      "needs_background": "light"
     },
     "output_type": "display_data"
    },
    {
     "data": {
      "image/png": "[encoded data removed]",
      "text/plain": [
       "<Figure size 432x288 with 2 Axes>"
      ]
     },
     "metadata": {
      "needs_background": "light"
     },
     "output_type": "display_data"
    },
    {
     "data": {
      "image/png": "[encoded data removed]",
      "text/plain": [
       "<Figure size 432x288 with 2 Axes>"
      ]
     },
     "metadata": {
      "needs_background": "light"
     },
     "output_type": "display_data"
    },
    {
     "data": {
      "image/png": "[encoded data removed]",
      "text/plain": [
       "<Figure size 432x288 with 2 Axes>"
      ]
     },
     "metadata": {
      "needs_background": "light"
     },
     "output_type": "display_data"
    },
    {
     "data": {
      "image/png": "[encoded data removed]",
      "text/plain": [
       "<Figure size 432x288 with 2 Axes>"
      ]
     },
     "metadata": {
      "needs_background": "light"
     },
     "output_type": "display_data"
    },
    {
     "data": {
      "image/png": "[encoded data removed]",
      "text/plain": [
       "<Figure size 432x288 with 2 Axes>"
      ]
     },
     "metadata": {
      "needs_background": "light"
     },
     "output_type": "display_data"
    },
    {
     "data": {
      "image/png": "[encoded data removed]",
      "text/plain": [
       "<Figure size 432x288 with 2 Axes>"
      ]
     },
     "metadata": {
      "needs_background": "light"
     },
     "output_type": "display_data"
    },
    {
     "data": {
      "image/png": "[encoded data removed]",
      "text/plain": [
       "<Figure size 432x288 with 2 Axes>"
      ]
     },
     "metadata": {
      "needs_background": "light"
     },
     "output_type": "display_data"
    }
   ],
   "source": [
    "for i in range (len(Confusion_metrix)):\n",
    "    ax = plt.axes()\n",
    "    ax.set_title(Name[i])\n",
    "    sns.heatmap(Confusion_metrix[i],annot=True,cmap=\"YlGnBu\",ax=ax)\n",
    "    ax.set_xlabel('Predicted Values')\n",
    "    ax.set_ylabel('Actual Values')\n",
    "    plt.show()"
   ]
  },
  {
   "cell_type": "code",
   "execution_count": 67,
   "id": "c22c2ebf",
   "metadata": {
    "scrolled": true
   },
   "outputs": [
    {
     "data": {
      "text/plain": [
       "<sklearn.metrics._plot.roc_curve.RocCurveDisplay at 0x27a84b81670>"
      ]
     },
     "execution_count": 67,
     "metadata": {},
     "output_type": "execute_result"
    },
    {
     "data": {
      "image/png": "[encoded data removed]",
      "text/plain": [
       "<Figure size 432x288 with 1 Axes>"
      ]
     },
     "metadata": {
      "needs_background": "light"
     },
     "output_type": "display_data"
    }
   ],
   "source": [
    "from sklearn.metrics import roc_curve, auc, RocCurveDisplay\n",
    "RocCurveDisplay.from_estimator(M13, X_test, y_test)"
   ]
  },
  {
   "cell_type": "markdown",
   "id": "e4c778bc",
   "metadata": {},
   "source": [
    "## Cross Validation"
   ]
  },
  {
   "cell_type": "code",
   "execution_count": 68,
   "id": "2ee5bcd9",
   "metadata": {},
   "outputs": [],
   "source": [
    "from sklearn.model_selection import KFold,cross_val_score"
   ]
  },
  {
   "cell_type": "code",
   "execution_count": 69,
   "id": "95e7274f",
   "metadata": {},
   "outputs": [],
   "source": [
    "kfold=KFold(n_splits=5,shuffle=False, random_state=None)\n",
    "kfold=KFold(n_splits=5,shuffle=False, random_state=None)\n",
    "results_mean=[]\n",
    "\n",
    "for i in clfs:\n",
    "    csv=cross_val_score(i,X_train,y_train,cv=kfold)\n",
    "    mean_score=csv.mean()\n",
    "    results_mean.append(mean_score)\n",
    "\n",
    "score= pd.DataFrame(results_mean,index=Name)\n",
    "score.columns=['Accuracy']"
   ]
  },
  {
   "cell_type": "code",
   "execution_count": 70,
   "id": "0e730269",
   "metadata": {},
   "outputs": [
    {
     "data": {
      "text/html": [
       "<div>\n",
       "<style scoped>\n",
       "    .dataframe tbody tr th:only-of-type {\n",
       "        vertical-align: middle;\n",
       "    }\n",
       "\n",
       "    .dataframe tbody tr th {\n",
       "        vertical-align: top;\n",
       "    }\n",
       "\n",
       "    .dataframe thead th {\n",
       "        text-align: right;\n",
       "    }\n",
       "</style>\n",
       "<table border=\"1\" class=\"dataframe\">\n",
       "  <thead>\n",
       "    <tr style=\"text-align: right;\">\n",
       "      <th></th>\n",
       "      <th>Accuracy</th>\n",
       "    </tr>\n",
       "  </thead>\n",
       "  <tbody>\n",
       "    <tr>\n",
       "      <th>Random Forest Classifier</th>\n",
       "      <td>0.929102</td>\n",
       "    </tr>\n",
       "    <tr>\n",
       "      <th>ExtraTreesClassifier</th>\n",
       "      <td>0.926400</td>\n",
       "    </tr>\n",
       "    <tr>\n",
       "      <th>Neural_Network</th>\n",
       "      <td>0.925995</td>\n",
       "    </tr>\n",
       "    <tr>\n",
       "      <th>XGB Boosting</th>\n",
       "      <td>0.925338</td>\n",
       "    </tr>\n",
       "    <tr>\n",
       "      <th>Light GBM</th>\n",
       "      <td>0.923254</td>\n",
       "    </tr>\n",
       "    <tr>\n",
       "      <th>Histogram Boosting Classifier</th>\n",
       "      <td>0.923061</td>\n",
       "    </tr>\n",
       "    <tr>\n",
       "      <th>CAT Boosting</th>\n",
       "      <td>0.913409</td>\n",
       "    </tr>\n",
       "    <tr>\n",
       "      <th>GBBoosting</th>\n",
       "      <td>0.910340</td>\n",
       "    </tr>\n",
       "    <tr>\n",
       "      <th>Bagging_classifier</th>\n",
       "      <td>0.908256</td>\n",
       "    </tr>\n",
       "    <tr>\n",
       "      <th>SVM</th>\n",
       "      <td>0.902754</td>\n",
       "    </tr>\n",
       "    <tr>\n",
       "      <th>LogisticRegressionCV</th>\n",
       "      <td>0.900477</td>\n",
       "    </tr>\n",
       "    <tr>\n",
       "      <th>LinearSVC</th>\n",
       "      <td>0.898952</td>\n",
       "    </tr>\n",
       "    <tr>\n",
       "      <th>Logistic Regression</th>\n",
       "      <td>0.898759</td>\n",
       "    </tr>\n",
       "    <tr>\n",
       "      <th>SGD Classifier</th>\n",
       "      <td>0.896674</td>\n",
       "    </tr>\n",
       "    <tr>\n",
       "      <th>Decision Tree</th>\n",
       "      <td>0.892235</td>\n",
       "    </tr>\n",
       "    <tr>\n",
       "      <th>KNN</th>\n",
       "      <td>0.887293</td>\n",
       "    </tr>\n",
       "    <tr>\n",
       "      <th>LinearDiscriminantAnalysis</th>\n",
       "      <td>0.886251</td>\n",
       "    </tr>\n",
       "    <tr>\n",
       "      <th>RidgeClassifierCV</th>\n",
       "      <td>0.886097</td>\n",
       "    </tr>\n",
       "    <tr>\n",
       "      <th>RidgeClassifier</th>\n",
       "      <td>0.886097</td>\n",
       "    </tr>\n",
       "    <tr>\n",
       "      <th>Perceptron</th>\n",
       "      <td>0.867489</td>\n",
       "    </tr>\n",
       "    <tr>\n",
       "      <th>NuSVC</th>\n",
       "      <td>0.861891</td>\n",
       "    </tr>\n",
       "    <tr>\n",
       "      <th>PassiveAggressiveClassifier</th>\n",
       "      <td>0.844113</td>\n",
       "    </tr>\n",
       "    <tr>\n",
       "      <th>QuadraticDiscriminantAnalysis</th>\n",
       "      <td>0.813519</td>\n",
       "    </tr>\n",
       "    <tr>\n",
       "      <th>CalibratedClassifierCV</th>\n",
       "      <td>0.802942</td>\n",
       "    </tr>\n",
       "    <tr>\n",
       "      <th>BernoulliNB</th>\n",
       "      <td>0.798116</td>\n",
       "    </tr>\n",
       "    <tr>\n",
       "      <th>Naive Bayes classifier</th>\n",
       "      <td>0.791630</td>\n",
       "    </tr>\n",
       "    <tr>\n",
       "      <th>NearestCentroid</th>\n",
       "      <td>0.789333</td>\n",
       "    </tr>\n",
       "    <tr>\n",
       "      <th>DummyClassifier</th>\n",
       "      <td>0.494219</td>\n",
       "    </tr>\n",
       "  </tbody>\n",
       "</table>\n",
       "</div>"
      ],
      "text/plain": [
       "                               Accuracy\n",
       "Random Forest Classifier       0.929102\n",
       "ExtraTreesClassifier           0.926400\n",
       "Neural_Network                 0.925995\n",
       "XGB Boosting                   0.925338\n",
       "Light GBM                      0.923254\n",
       "Histogram Boosting Classifier  0.923061\n",
       "CAT Boosting                   0.913409\n",
       "GBBoosting                     0.910340\n",
       "Bagging_classifier             0.908256\n",
       "SVM                            0.902754\n",
       "LogisticRegressionCV           0.900477\n",
       "LinearSVC                      0.898952\n",
       "Logistic Regression            0.898759\n",
       "SGD Classifier                 0.896674\n",
       "Decision Tree                  0.892235\n",
       "KNN                            0.887293\n",
       "LinearDiscriminantAnalysis     0.886251\n",
       "RidgeClassifierCV              0.886097\n",
       "RidgeClassifier                0.886097\n",
       "Perceptron                     0.867489\n",
       "NuSVC                          0.861891\n",
       "PassiveAggressiveClassifier    0.844113\n",
       "QuadraticDiscriminantAnalysis  0.813519\n",
       "CalibratedClassifierCV         0.802942\n",
       "BernoulliNB                    0.798116\n",
       "Naive Bayes classifier         0.791630\n",
       "NearestCentroid                0.789333\n",
       "DummyClassifier                0.494219"
      ]
     },
     "execution_count": 70,
     "metadata": {},
     "output_type": "execute_result"
    }
   ],
   "source": [
    "score.sort_values(by='Accuracy',ascending=False)"
   ]
  },
  {
   "cell_type": "markdown",
   "id": "263ef791",
   "metadata": {},
   "source": [
    "# Feature Selection"
   ]
  },
  {
   "cell_type": "code",
   "execution_count": 71,
   "id": "352f911e",
   "metadata": {},
   "outputs": [],
   "source": [
    "from sklearn.feature_selection import SelectFromModel, RFECV"
   ]
  },
  {
   "cell_type": "code",
   "execution_count": 72,
   "id": "ebf3f829",
   "metadata": {
    "scrolled": false
   },
   "outputs": [
    {
     "name": "stdout",
     "output_type": "stream",
     "text": [
      "Optimal number of features : 27\n"
     ]
    }
   ],
   "source": [
    "model = RandomForestClassifier()\n",
    "\n",
    "rfecv = RFECV(estimator=model, step=1, cv=kfold, scoring='accuracy', n_jobs=2)\n",
    "\n",
    "rfecv = rfecv.fit(X_train, y_train)\n",
    "\n",
    "print('Optimal number of features :', rfecv.n_features_)\n"
   ]
  },
  {
   "cell_type": "code",
   "execution_count": 73,
   "id": "1ba0b41f",
   "metadata": {},
   "outputs": [
    {
     "name": "stdout",
     "output_type": "stream",
     "text": [
      "confusion_matrix\n",
      "[[11854   934]\n",
      " [  843 11886]]\n",
      "\n",
      "\n",
      "classification_report\n",
      "              precision    recall  f1-score   support\n",
      "\n",
      "           0       0.93      0.93      0.93     12788\n",
      "           1       0.93      0.93      0.93     12729\n",
      "\n",
      "    accuracy                           0.93     25517\n",
      "   macro avg       0.93      0.93      0.93     25517\n",
      "weighted avg       0.93      0.93      0.93     25517\n",
      "\n",
      "\n",
      "\n",
      "Accuracy: 93.03601520554923\n",
      "\n",
      "\n",
      "ROC Value: 0.9303680256155771\n"
     ]
    }
   ],
   "source": [
    "FSP1=rfecv.predict(X_test)\n",
    "print('confusion_matrix')\n",
    "print(confusion_matrix(y_test,FSP1))\n",
    "print('\\n')\n",
    "print('classification_report')\n",
    "print(classification_report(y_test,FSP1))\n",
    "print('\\n')\n",
    "print('Accuracy:',100*accuracy_score(y_test,FSP1))\n",
    "print('\\n')\n",
    "print('ROC Value:',roc_auc_score(y_test,FSP1))"
   ]
  },
  {
   "cell_type": "code",
   "execution_count": 74,
   "id": "bdbad073",
   "metadata": {},
   "outputs": [
    {
     "name": "stdout",
     "output_type": "stream",
     "text": [
      "Best features : Index(['age', 'education', 'default', 'balance', 'housing', 'loan', 'month',\n",
      "       'duration', 'campaign', 'pdays', 'previous', 'blue-collar',\n",
      "       'entrepreneur', 'housemaid', 'management', 'retired', 'self-employed',\n",
      "       'services', 'student', 'technician', 'unemployed', 'unknown', 'married',\n",
      "       'single', 'other', 'success', 'unknown'],\n",
      "      dtype='object')\n"
     ]
    }
   ],
   "source": [
    "print('Best features :', X.columns[rfecv.support_])"
   ]
  },
  {
   "cell_type": "code",
   "execution_count": 75,
   "id": "bd95d852",
   "metadata": {},
   "outputs": [
    {
     "data": {
      "image/png": "[encoded data removed]",
      "text/plain": [
       "<Figure size 432x288 with 1 Axes>"
      ]
     },
     "metadata": {
      "needs_background": "light"
     },
     "output_type": "display_data"
    }
   ],
   "source": [
    "# # Plot number of features VS. cross-validation scores\n",
    "\n",
    "plt.figure()\n",
    "plt.xlabel(\"Number of features selected (RFE)\")\n",
    "plt.ylabel(\"Cross validation score (Accuracy)\")\n",
    "plt.plot(range(1, len(rfecv.grid_scores_) + 1), rfecv.grid_scores_)\n",
    "plt.show()"
   ]
  },
  {
   "cell_type": "markdown",
   "id": "2d3d2841",
   "metadata": {},
   "source": [
    "## RFE"
   ]
  },
  {
   "cell_type": "code",
   "execution_count": 76,
   "id": "8a231e25",
   "metadata": {},
   "outputs": [],
   "source": [
    "from sklearn.feature_selection import RFE "
   ]
  },
  {
   "cell_type": "code",
   "execution_count": 77,
   "id": "84514a7f",
   "metadata": {
    "scrolled": false
   },
   "outputs": [
    {
     "name": "stdout",
     "output_type": "stream",
     "text": [
      "No of Features:5\n",
      "Accuracy: 87.72974879492104\n",
      "ROC Value: 0.8773706823308529\n",
      "No of Features:6\n",
      "Accuracy: 90.29274601246227\n",
      "ROC Value: 0.9029948110085234\n",
      "No of Features:7\n",
      "Accuracy: 90.72775012736606\n",
      "ROC Value: 0.9073440598882216\n",
      "No of Features:8\n",
      "Accuracy: 91.1509973742995\n",
      "ROC Value: 0.911576011301545\n",
      "No of Features:9\n",
      "Accuracy: 91.08437512246738\n",
      "ROC Value: 0.910904076542023\n",
      "No of Features:10\n",
      "Accuracy: 91.91127483638358\n",
      "ROC Value: 0.9191578041299963\n",
      "No of Features:11\n",
      "Accuracy: 91.97397813222558\n",
      "ROC Value: 0.9197832093894098\n",
      "No of Features:12\n",
      "Accuracy: 92.24438609554414\n",
      "ROC Value: 0.9224857630419043\n",
      "No of Features:13\n",
      "Accuracy: 92.16992593173178\n",
      "ROC Value: 0.9217401606694232\n",
      "No of Features:14\n",
      "Accuracy: 92.16600697574167\n",
      "ROC Value: 0.9216977994114355\n",
      "No of Features:15\n",
      "Accuracy: 92.22479131559352\n",
      "ROC Value: 0.9222810246407799\n",
      "No of Features:16\n",
      "Accuracy: 92.32276521534664\n",
      "ROC Value: 0.923259228438909\n",
      "No of Features:17\n",
      "Accuracy: 92.24438609554414\n",
      "ROC Value: 0.922472895859705\n",
      "No of Features:18\n",
      "Accuracy: 92.5931731786652\n",
      "ROC Value: 0.9259628694589135\n",
      "No of Features:19\n",
      "Accuracy: 92.58925422267508\n",
      "ROC Value: 0.9259190583775794\n",
      "No of Features:20\n",
      "Accuracy: 92.64803856252695\n",
      "ROC Value: 0.9265042771140249\n",
      "No of Features:21\n",
      "Accuracy: 92.61668691460595\n",
      "ROC Value: 0.9261847784373819\n",
      "No of Features:22\n",
      "Accuracy: 92.80479680213192\n",
      "ROC Value: 0.9280619003552141\n",
      "No of Features:23\n",
      "Accuracy: 92.98506877767763\n",
      "ROC Value: 0.9298610051900481\n",
      "No of Features:24\n",
      "Accuracy: 92.85182427401341\n",
      "ROC Value: 0.9285283718019385\n",
      "No of Features:25\n",
      "Accuracy: 92.98114982168751\n",
      "ROC Value: 0.9298191876158154\n",
      "No of Features:26\n",
      "Accuracy: 92.97723086569738\n",
      "ROC Value: 0.9297786386370108\n",
      "No of Features:27\n",
      "Accuracy: 93.09871850139123\n",
      "ROC Value: 0.9309956056100103\n"
     ]
    }
   ],
   "source": [
    "for i in range (5,len(X.columns)+1):\n",
    "    rfe = RFE(estimator=model, n_features_to_select=i, step=1)\n",
    "    rfe = rfe.fit(X_train, y_train)\n",
    "    FSP2=rfe.predict(X_test)\n",
    "    print(f'No of Features:{i}')\n",
    "    print('Accuracy:',100*accuracy_score(y_test,FSP2))\n",
    "    print('ROC Value:',roc_auc_score(y_test,FSP2))"
   ]
  },
  {
   "cell_type": "code",
   "execution_count": 78,
   "id": "007004c1",
   "metadata": {
    "scrolled": true
   },
   "outputs": [
    {
     "name": "stdout",
     "output_type": "stream",
     "text": [
      "No of Features:6\n",
      "Accuracy: 90.24571854058078\n",
      "ROC Value: 0.902525983598861\n",
      "Chosen best 6 feature by rfe: Index(['age', 'balance', 'housing', 'month', 'duration', 'pdays'], dtype='object')\n"
     ]
    }
   ],
   "source": [
    "rfe = RFE(estimator=model, n_features_to_select=6, step=1)\n",
    "rfe = rfe.fit(X_train, y_train)\n",
    "FSP2=rfe.predict(X_test)\n",
    "print(f'No of Features:{6}')\n",
    "print('Accuracy:',100*accuracy_score(y_test,FSP2))\n",
    "print('ROC Value:',roc_auc_score(y_test,FSP2))\n",
    "print('Chosen best 6 feature by rfe:',X.columns[rfe.support_])"
   ]
  },
  {
   "cell_type": "code",
   "execution_count": 79,
   "id": "552613ad",
   "metadata": {},
   "outputs": [],
   "source": [
    "df_1=df[['age', 'balance', 'housing', 'month', 'duration', 'pdays','y_no']]"
   ]
  },
  {
   "cell_type": "code",
   "execution_count": 80,
   "id": "9eced64c",
   "metadata": {},
   "outputs": [],
   "source": [
    "X_1=df_1.drop('y_no',axis=1)\n",
    "y_1=df_1['y_no']"
   ]
  },
  {
   "cell_type": "code",
   "execution_count": 81,
   "id": "fcd10637",
   "metadata": {},
   "outputs": [
    {
     "data": {
      "text/html": [
       "<div>\n",
       "<style scoped>\n",
       "    .dataframe tbody tr th:only-of-type {\n",
       "        vertical-align: middle;\n",
       "    }\n",
       "\n",
       "    .dataframe tbody tr th {\n",
       "        vertical-align: top;\n",
       "    }\n",
       "\n",
       "    .dataframe thead th {\n",
       "        text-align: right;\n",
       "    }\n",
       "</style>\n",
       "<table border=\"1\" class=\"dataframe\">\n",
       "  <thead>\n",
       "    <tr style=\"text-align: right;\">\n",
       "      <th></th>\n",
       "      <th>age</th>\n",
       "      <th>balance</th>\n",
       "      <th>housing</th>\n",
       "      <th>month</th>\n",
       "      <th>duration</th>\n",
       "      <th>pdays</th>\n",
       "    </tr>\n",
       "  </thead>\n",
       "  <tbody>\n",
       "    <tr>\n",
       "      <th>0</th>\n",
       "      <td>58</td>\n",
       "      <td>2143</td>\n",
       "      <td>1</td>\n",
       "      <td>5</td>\n",
       "      <td>261</td>\n",
       "      <td>-1</td>\n",
       "    </tr>\n",
       "    <tr>\n",
       "      <th>1</th>\n",
       "      <td>44</td>\n",
       "      <td>29</td>\n",
       "      <td>1</td>\n",
       "      <td>5</td>\n",
       "      <td>151</td>\n",
       "      <td>-1</td>\n",
       "    </tr>\n",
       "    <tr>\n",
       "      <th>2</th>\n",
       "      <td>33</td>\n",
       "      <td>2</td>\n",
       "      <td>1</td>\n",
       "      <td>5</td>\n",
       "      <td>76</td>\n",
       "      <td>-1</td>\n",
       "    </tr>\n",
       "    <tr>\n",
       "      <th>3</th>\n",
       "      <td>47</td>\n",
       "      <td>1506</td>\n",
       "      <td>1</td>\n",
       "      <td>5</td>\n",
       "      <td>92</td>\n",
       "      <td>-1</td>\n",
       "    </tr>\n",
       "    <tr>\n",
       "      <th>4</th>\n",
       "      <td>33</td>\n",
       "      <td>1</td>\n",
       "      <td>0</td>\n",
       "      <td>5</td>\n",
       "      <td>198</td>\n",
       "      <td>-1</td>\n",
       "    </tr>\n",
       "  </tbody>\n",
       "</table>\n",
       "</div>"
      ],
      "text/plain": [
       "   age  balance  housing  month  duration  pdays\n",
       "0   58     2143        1      5       261     -1\n",
       "1   44       29        1      5       151     -1\n",
       "2   33        2        1      5        76     -1\n",
       "3   47     1506        1      5        92     -1\n",
       "4   33        1        0      5       198     -1"
      ]
     },
     "execution_count": 81,
     "metadata": {},
     "output_type": "execute_result"
    }
   ],
   "source": [
    "X_1.head()"
   ]
  },
  {
   "cell_type": "code",
   "execution_count": 82,
   "id": "476fed5a",
   "metadata": {},
   "outputs": [],
   "source": [
    "from sklearn.model_selection import train_test_split"
   ]
  },
  {
   "cell_type": "code",
   "execution_count": 83,
   "id": "833a3a08",
   "metadata": {},
   "outputs": [],
   "source": [
    "X_train_1, X_test_1, y_train_1, y_test_1 = train_test_split(X_1, y_1, test_size=0.33, random_state=42)"
   ]
  },
  {
   "cell_type": "code",
   "execution_count": 84,
   "id": "3d0b818c",
   "metadata": {},
   "outputs": [],
   "source": [
    "X_train_1=sc.fit_transform(X_train_1)\n",
    "X_test_1=sc.transform(X_test_1)"
   ]
  },
  {
   "cell_type": "code",
   "execution_count": 85,
   "id": "9ffe3d6f",
   "metadata": {},
   "outputs": [
    {
     "name": "stdout",
     "output_type": "stream",
     "text": [
      "confusion_matrix\n",
      "[[12647   528]\n",
      " [ 1026   719]]\n",
      "\n",
      "\n",
      "classification_report\n",
      "              precision    recall  f1-score   support\n",
      "\n",
      "           0       0.92      0.96      0.94     13175\n",
      "           1       0.58      0.41      0.48      1745\n",
      "\n",
      "    accuracy                           0.90     14920\n",
      "   macro avg       0.75      0.69      0.71     14920\n",
      "weighted avg       0.88      0.90      0.89     14920\n",
      "\n",
      "\n",
      "\n",
      "Accuracy: 89.58445040214478\n",
      "\n",
      "\n",
      "ROC Value: 0.6859792413129407\n"
     ]
    }
   ],
   "source": [
    "M=RandomForestClassifier()\n",
    "M.fit(X_train_1,y_train_1)\n",
    "P=M.predict(X_test_1)\n",
    "print('confusion_matrix')\n",
    "print(confusion_matrix(y_test_1,P))\n",
    "print('\\n')\n",
    "print('classification_report')\n",
    "print(classification_report(y_test_1,P))\n",
    "print('\\n')\n",
    "print('Accuracy:',100*accuracy_score(y_test_1,P))\n",
    "print('\\n')\n",
    "print('ROC Value:',roc_auc_score(y_test_1,P))"
   ]
  },
  {
   "cell_type": "code",
   "execution_count": 86,
   "id": "b32707b3",
   "metadata": {},
   "outputs": [
    {
     "name": "stdout",
     "output_type": "stream",
     "text": [
      "confusion_matrix\n",
      "[[12766   409]\n",
      " [ 1123   622]]\n",
      "\n",
      "\n",
      "classification_report\n",
      "              precision    recall  f1-score   support\n",
      "\n",
      "           0       0.92      0.97      0.94     13175\n",
      "           1       0.60      0.36      0.45      1745\n",
      "\n",
      "    accuracy                           0.90     14920\n",
      "   macro avg       0.76      0.66      0.70     14920\n",
      "weighted avg       0.88      0.90      0.89     14920\n",
      "\n",
      "\n",
      "\n",
      "Accuracy: 89.73190348525469\n",
      "\n",
      "\n",
      "ROC Value: 0.6627016740701271\n"
     ]
    }
   ],
   "source": [
    "M13=BaggingClassifier(base_estimator=GradientBoostingClassifier())\n",
    "M13.fit(X_train_1,y_train_1)\n",
    "P13=M13.predict(X_test_1)\n",
    "print('confusion_matrix')\n",
    "print(confusion_matrix(y_test_1,P13))\n",
    "print('\\n')\n",
    "print('classification_report')\n",
    "print(classification_report(y_test_1,P13))\n",
    "print('\\n')\n",
    "print('Accuracy:',100*accuracy_score(y_test_1,P13))\n",
    "print('\\n')\n",
    "print('ROC Value:',roc_auc_score(y_test_1,P13))"
   ]
  },
  {
   "cell_type": "markdown",
   "id": "1ca2b212",
   "metadata": {},
   "source": [
    "## Feature by BOOSTING Technique"
   ]
  },
  {
   "cell_type": "code",
   "execution_count": 87,
   "id": "2b6f5acc",
   "metadata": {},
   "outputs": [
    {
     "data": {
      "text/html": [
       "<div>\n",
       "<style scoped>\n",
       "    .dataframe tbody tr th:only-of-type {\n",
       "        vertical-align: middle;\n",
       "    }\n",
       "\n",
       "    .dataframe tbody tr th {\n",
       "        vertical-align: top;\n",
       "    }\n",
       "\n",
       "    .dataframe thead th {\n",
       "        text-align: right;\n",
       "    }\n",
       "</style>\n",
       "<table border=\"1\" class=\"dataframe\">\n",
       "  <thead>\n",
       "    <tr style=\"text-align: right;\">\n",
       "      <th></th>\n",
       "      <th>0</th>\n",
       "    </tr>\n",
       "  </thead>\n",
       "  <tbody>\n",
       "    <tr>\n",
       "      <th>housing</th>\n",
       "      <td>0.127135</td>\n",
       "    </tr>\n",
       "    <tr>\n",
       "      <th>loan</th>\n",
       "      <td>0.069482</td>\n",
       "    </tr>\n",
       "    <tr>\n",
       "      <th>duration</th>\n",
       "      <td>0.049319</td>\n",
       "    </tr>\n",
       "    <tr>\n",
       "      <th>pdays</th>\n",
       "      <td>0.023201</td>\n",
       "    </tr>\n",
       "    <tr>\n",
       "      <th>month</th>\n",
       "      <td>0.018100</td>\n",
       "    </tr>\n",
       "    <tr>\n",
       "      <th>campaign</th>\n",
       "      <td>0.015443</td>\n",
       "    </tr>\n",
       "    <tr>\n",
       "      <th>age</th>\n",
       "      <td>0.005528</td>\n",
       "    </tr>\n",
       "    <tr>\n",
       "      <th>default</th>\n",
       "      <td>0.005281</td>\n",
       "    </tr>\n",
       "    <tr>\n",
       "      <th>balance</th>\n",
       "      <td>0.004586</td>\n",
       "    </tr>\n",
       "    <tr>\n",
       "      <th>education</th>\n",
       "      <td>0.003840</td>\n",
       "    </tr>\n",
       "  </tbody>\n",
       "</table>\n",
       "</div>"
      ],
      "text/plain": [
       "                  0\n",
       "housing    0.127135\n",
       "loan       0.069482\n",
       "duration   0.049319\n",
       "pdays      0.023201\n",
       "month      0.018100\n",
       "campaign   0.015443\n",
       "age        0.005528\n",
       "default    0.005281\n",
       "balance    0.004586\n",
       "education  0.003840"
      ]
     },
     "execution_count": 87,
     "metadata": {},
     "output_type": "execute_result"
    }
   ],
   "source": [
    "feature_imp = pd.DataFrame(M10.feature_importances_ ,index=X.columns[0:40])[:10]\n",
    "feature_imp.sort_values(by=0,ascending=False)"
   ]
  },
  {
   "cell_type": "code",
   "execution_count": 88,
   "id": "a0a5e546",
   "metadata": {},
   "outputs": [
    {
     "data": {
      "text/plain": [
       "<AxesSubplot:>"
      ]
     },
     "execution_count": 88,
     "metadata": {},
     "output_type": "execute_result"
    },
    {
     "data": {
      "image/png": "[encoded data removed]",
      "text/plain": [
       "<Figure size 432x288 with 1 Axes>"
      ]
     },
     "metadata": {
      "needs_background": "light"
     },
     "output_type": "display_data"
    }
   ],
   "source": [
    "feature_imp.sort_values(by=0,ascending=False).plot(kind='barh')"
   ]
  },
  {
   "cell_type": "markdown",
   "id": "25fd2114",
   "metadata": {},
   "source": [
    "## Feature Extraction with PCA"
   ]
  },
  {
   "cell_type": "code",
   "execution_count": 89,
   "id": "15677cc8",
   "metadata": {},
   "outputs": [],
   "source": [
    "from sklearn.decomposition import PCA"
   ]
  },
  {
   "cell_type": "code",
   "execution_count": 90,
   "id": "5e7908a8",
   "metadata": {},
   "outputs": [
    {
     "data": {
      "text/plain": [
       "Text(0.5, 1.0, 'Scree Plot')"
      ]
     },
     "execution_count": 90,
     "metadata": {},
     "output_type": "execute_result"
    },
    {
     "data": {
      "image/png": "[encoded data removed]",
      "text/plain": [
       "<Figure size 1008x936 with 1 Axes>"
      ]
     },
     "metadata": {
      "needs_background": "light"
     },
     "output_type": "display_data"
    }
   ],
   "source": [
    "pca = PCA()\n",
    "pca.fit(X_train)\n",
    "\n",
    "plt.figure(1, figsize=(14, 13))\n",
    "plt.style.use(\"ggplot\") \n",
    "plt.plot(pca.explained_variance_, marker='o')\n",
    "plt.xlabel(\"Eigenvalue number\")\n",
    "plt.ylabel(\"Eigenvalue size\")\n",
    "plt.title(\"Scree Plot\")"
   ]
  },
  {
   "cell_type": "markdown",
   "id": "a8eb1690",
   "metadata": {},
   "source": [
    "**We select all the components up to the point where the bend occurs in the Scree Plot. In the above plot, the bend occurs at index 1. So, we decide to select the components at index 1 ,2 and index 3 (a total of three components).**"
   ]
  },
  {
   "cell_type": "code",
   "execution_count": 91,
   "id": "d753c089",
   "metadata": {},
   "outputs": [],
   "source": [
    "pca = PCA(n_components = 3)\n",
    "  \n",
    "X_train_pca = pca.fit_transform(X_train)\n",
    "X_test_pca = pca.transform(X_test)"
   ]
  },
  {
   "cell_type": "code",
   "execution_count": 92,
   "id": "680d3652",
   "metadata": {},
   "outputs": [
    {
     "name": "stdout",
     "output_type": "stream",
     "text": [
      "confusion_matrix\n",
      "[[11255  1533]\n",
      " [ 1911 10818]]\n",
      "\n",
      "\n",
      "classification_report\n",
      "              precision    recall  f1-score   support\n",
      "\n",
      "           0       0.85      0.88      0.87     12788\n",
      "           1       0.88      0.85      0.86     12729\n",
      "\n",
      "    accuracy                           0.87     25517\n",
      "   macro avg       0.87      0.86      0.86     25517\n",
      "weighted avg       0.87      0.87      0.86     25517\n",
      "\n",
      "\n",
      "\n",
      "Accuracy: 86.50311557001214\n",
      "\n",
      "\n",
      "ROC Value: 0.8649961820499437\n"
     ]
    }
   ],
   "source": [
    "model_pca=RandomForestClassifier()\n",
    "model_pca.fit(X_train_pca,y_train)\n",
    "FSP3=model_pca.predict(X_test_pca)\n",
    "print('confusion_matrix')\n",
    "print(confusion_matrix(y_test,FSP3))\n",
    "print('\\n')\n",
    "print('classification_report')\n",
    "print(classification_report(y_test,FSP3))\n",
    "print('\\n')\n",
    "print('Accuracy:',100*accuracy_score(y_test,FSP3))\n",
    "print('\\n')\n",
    "print('ROC Value:',roc_auc_score(y_test,FSP3))"
   ]
  },
  {
   "cell_type": "code",
   "execution_count": 93,
   "id": "5b459388",
   "metadata": {},
   "outputs": [
    {
     "name": "stdout",
     "output_type": "stream",
     "text": [
      "confusion_matrix\n",
      "[[11293  1495]\n",
      " [ 2110 10619]]\n",
      "\n",
      "\n",
      "classification_report\n",
      "              precision    recall  f1-score   support\n",
      "\n",
      "           0       0.84      0.88      0.86     12788\n",
      "           1       0.88      0.83      0.85     12729\n",
      "\n",
      "    accuracy                           0.86     25517\n",
      "   macro avg       0.86      0.86      0.86     25517\n",
      "weighted avg       0.86      0.86      0.86     25517\n",
      "\n",
      "\n",
      "\n",
      "Accuracy: 85.87216365560215\n",
      "\n",
      "\n",
      "ROC Value: 0.8586651536654251\n"
     ]
    }
   ],
   "source": [
    "model_pca=BaggingClassifier()\n",
    "model_pca.fit(X_train_pca,y_train)\n",
    "FSP3=model_pca.predict(X_test_pca)\n",
    "print('confusion_matrix')\n",
    "print(confusion_matrix(y_test,FSP3))\n",
    "print('\\n')\n",
    "print('classification_report')\n",
    "print(classification_report(y_test,FSP3))\n",
    "print('\\n')\n",
    "print('Accuracy:',100*accuracy_score(y_test,FSP3))\n",
    "print('\\n')\n",
    "print('ROC Value:',roc_auc_score(y_test,FSP3))"
   ]
  },
  {
   "cell_type": "markdown",
   "id": "7dd14cff",
   "metadata": {},
   "source": [
    "## Hyper parameter tuning"
   ]
  },
  {
   "cell_type": "code",
   "execution_count": 94,
   "id": "b0768114",
   "metadata": {},
   "outputs": [
    {
     "name": "stdout",
     "output_type": "stream",
     "text": [
      "Parameters currently in use:\n",
      "\n",
      "{'bootstrap': True,\n",
      " 'ccp_alpha': 0.0,\n",
      " 'class_weight': None,\n",
      " 'criterion': 'gini',\n",
      " 'max_depth': None,\n",
      " 'max_features': 'sqrt',\n",
      " 'max_leaf_nodes': None,\n",
      " 'max_samples': None,\n",
      " 'min_impurity_decrease': 0.0,\n",
      " 'min_samples_leaf': 1,\n",
      " 'min_samples_split': 2,\n",
      " 'min_weight_fraction_leaf': 0.0,\n",
      " 'n_estimators': 100,\n",
      " 'n_jobs': None,\n",
      " 'oob_score': False,\n",
      " 'random_state': None,\n",
      " 'verbose': 0,\n",
      " 'warm_start': False}\n"
     ]
    }
   ],
   "source": [
    "from pprint import pprint\n",
    "print('Parameters currently in use:\\n')\n",
    "pprint(model.get_params())"
   ]
  },
  {
   "cell_type": "code",
   "execution_count": 95,
   "id": "66e8dd78",
   "metadata": {},
   "outputs": [],
   "source": [
    "from sklearn.model_selection import RandomizedSearchCV"
   ]
  },
  {
   "cell_type": "code",
   "execution_count": 96,
   "id": "f0ad4da1",
   "metadata": {},
   "outputs": [],
   "source": [
    "# Number of trees in random forest\n",
    "n_estimators = [int(x) for x in np.linspace(start = 200, stop = 2000, num = 10)]\n",
    "\n",
    "# Number of features to consider at every split\n",
    "max_features = ['auto', 'sqrt']\n",
    "\n",
    "# Maximum number of levels in tree\n",
    "max_depth = [int(x) for x in np.linspace(10, 110, num = 11)]\n",
    "max_depth.append(None)\n",
    "\n",
    "# Minimum number of samples required to split a node\n",
    "min_samples_split = [2, 5, 10]\n",
    "\n",
    "# Minimum number of samples required at each leaf node\n",
    "min_samples_leaf = [1, 2, 4]\n",
    "\n",
    "# Method of selecting samples for training each tree\n",
    "bootstrap = [True, False]"
   ]
  },
  {
   "cell_type": "code",
   "execution_count": 97,
   "id": "cc37652a",
   "metadata": {},
   "outputs": [
    {
     "name": "stdout",
     "output_type": "stream",
     "text": [
      "{'bootstrap': [True, False],\n",
      " 'max_depth': [10, 20, 30, 40, 50, 60, 70, 80, 90, 100, 110, None],\n",
      " 'max_features': ['auto', 'sqrt'],\n",
      " 'min_samples_leaf': [1, 2, 4],\n",
      " 'min_samples_split': [2, 5, 10],\n",
      " 'n_estimators': [200, 400, 600, 800, 1000, 1200, 1400, 1600, 1800, 2000]}\n"
     ]
    }
   ],
   "source": [
    "random_grid = {'n_estimators': n_estimators,\n",
    "               'max_features': max_features,\n",
    "               'max_depth': max_depth,\n",
    "               'min_samples_split': min_samples_split,\n",
    "               'min_samples_leaf': min_samples_leaf,\n",
    "               'bootstrap': bootstrap}\n",
    "pprint(random_grid)"
   ]
  },
  {
   "cell_type": "code",
   "execution_count": 98,
   "id": "4050fc00",
   "metadata": {},
   "outputs": [
    {
     "name": "stdout",
     "output_type": "stream",
     "text": [
      "Fitting 3 folds for each of 5 candidates, totalling 15 fits\n"
     ]
    },
    {
     "data": {
      "text/html": [
       "<style>#sk-container-id-1 {color: black;background-color: white;}#sk-container-id-1 pre{padding: 0;}#sk-container-id-1 div.sk-toggleable {background-color: white;}#sk-container-id-1 label.sk-toggleable__label {cursor: pointer;display: block;width: 100%;margin-bottom: 0;padding: 0.3em;box-sizing: border-box;text-align: center;}#sk-container-id-1 label.sk-toggleable__label-arrow:before {content: \"▸\";float: left;margin-right: 0.25em;color: #696969;}#sk-container-id-1 label.sk-toggleable__label-arrow:hover:before {color: black;}#sk-container-id-1 div.sk-estimator:hover label.sk-toggleable__label-arrow:before {color: black;}#sk-container-id-1 div.sk-toggleable__content {max-height: 0;max-width: 0;overflow: hidden;text-align: left;background-color: #f0f8ff;}#sk-container-id-1 div.sk-toggleable__content pre {margin: 0.2em;color: black;border-radius: 0.25em;background-color: #f0f8ff;}#sk-container-id-1 input.sk-toggleable__control:checked~div.sk-toggleable__content {max-height: 200px;max-width: 100%;overflow: auto;}#sk-container-id-1 input.sk-toggleable__control:checked~label.sk-toggleable__label-arrow:before {content: \"▾\";}#sk-container-id-1 div.sk-estimator input.sk-toggleable__control:checked~label.sk-toggleable__label {background-color: #d4ebff;}#sk-container-id-1 div.sk-label input.sk-toggleable__control:checked~label.sk-toggleable__label {background-color: #d4ebff;}#sk-container-id-1 input.sk-hidden--visually {border: 0;clip: rect(1px 1px 1px 1px);clip: rect(1px, 1px, 1px, 1px);height: 1px;margin: -1px;overflow: hidden;padding: 0;position: absolute;width: 1px;}#sk-container-id-1 div.sk-estimator {font-family: monospace;background-color: #f0f8ff;border: 1px dotted black;border-radius: 0.25em;box-sizing: border-box;margin-bottom: 0.5em;}#sk-container-id-1 div.sk-estimator:hover {background-color: #d4ebff;}#sk-container-id-1 div.sk-parallel-item::after {content: \"\";width: 100%;border-bottom: 1px solid gray;flex-grow: 1;}#sk-container-id-1 div.sk-label:hover label.sk-toggleable__label {background-color: #d4ebff;}#sk-container-id-1 div.sk-serial::before {content: \"\";position: absolute;border-left: 1px solid gray;box-sizing: border-box;top: 0;bottom: 0;left: 50%;z-index: 0;}#sk-container-id-1 div.sk-serial {display: flex;flex-direction: column;align-items: center;background-color: white;padding-right: 0.2em;padding-left: 0.2em;position: relative;}#sk-container-id-1 div.sk-item {position: relative;z-index: 1;}#sk-container-id-1 div.sk-parallel {display: flex;align-items: stretch;justify-content: center;background-color: white;position: relative;}#sk-container-id-1 div.sk-item::before, #sk-container-id-1 div.sk-parallel-item::before {content: \"\";position: absolute;border-left: 1px solid gray;box-sizing: border-box;top: 0;bottom: 0;left: 50%;z-index: -1;}#sk-container-id-1 div.sk-parallel-item {display: flex;flex-direction: column;z-index: 1;position: relative;background-color: white;}#sk-container-id-1 div.sk-parallel-item:first-child::after {align-self: flex-end;width: 50%;}#sk-container-id-1 div.sk-parallel-item:last-child::after {align-self: flex-start;width: 50%;}#sk-container-id-1 div.sk-parallel-item:only-child::after {width: 0;}#sk-container-id-1 div.sk-dashed-wrapped {border: 1px dashed gray;margin: 0 0.4em 0.5em 0.4em;box-sizing: border-box;padding-bottom: 0.4em;background-color: white;}#sk-container-id-1 div.sk-label label {font-family: monospace;font-weight: bold;display: inline-block;line-height: 1.2em;}#sk-container-id-1 div.sk-label-container {text-align: center;}#sk-container-id-1 div.sk-container {/* jupyter's `normalize.less` sets `[hidden] { display: none; }` but bootstrap.min.css set `[hidden] { display: none !important; }` so we also need the `!important` here to be able to override the default hidden behavior on the sphinx rendered scikit-learn.org. See: https://github.com/scikit-learn/scikit-learn/issues/21755 */display: inline-block !important;position: relative;}#sk-container-id-1 div.sk-text-repr-fallback {display: none;}</style><div id=\"sk-container-id-1\" class=\"sk-top-container\"><div class=\"sk-text-repr-fallback\"><pre>RandomizedSearchCV(cv=3, estimator=RandomForestClassifier(), n_iter=5,\n",
       "                   n_jobs=-1,\n",
       "                   param_distributions={&#x27;bootstrap&#x27;: [True, False],\n",
       "                                        &#x27;max_depth&#x27;: [10, 20, 30, 40, 50, 60,\n",
       "                                                      70, 80, 90, 100, 110,\n",
       "                                                      None],\n",
       "                                        &#x27;max_features&#x27;: [&#x27;auto&#x27;, &#x27;sqrt&#x27;],\n",
       "                                        &#x27;min_samples_leaf&#x27;: [1, 2, 4],\n",
       "                                        &#x27;min_samples_split&#x27;: [2, 5, 10],\n",
       "                                        &#x27;n_estimators&#x27;: [200, 400, 600, 800,\n",
       "                                                         1000, 1200, 1400, 1600,\n",
       "                                                         1800, 2000]},\n",
       "                   return_train_score=True, verbose=True)</pre><b>In a Jupyter environment, please rerun this cell to show the HTML representation or trust the notebook. <br />On GitHub, the HTML representation is unable to render, please try loading this page with nbviewer.org.</b></div><div class=\"sk-container\" hidden><div class=\"sk-item sk-dashed-wrapped\"><div class=\"sk-label-container\"><div class=\"sk-label sk-toggleable\"><input class=\"sk-toggleable__control sk-hidden--visually\" id=\"sk-estimator-id-1\" type=\"checkbox\" ><label for=\"sk-estimator-id-1\" class=\"sk-toggleable__label sk-toggleable__label-arrow\">RandomizedSearchCV</label><div class=\"sk-toggleable__content\"><pre>RandomizedSearchCV(cv=3, estimator=RandomForestClassifier(), n_iter=5,\n",
       "                   n_jobs=-1,\n",
       "                   param_distributions={&#x27;bootstrap&#x27;: [True, False],\n",
       "                                        &#x27;max_depth&#x27;: [10, 20, 30, 40, 50, 60,\n",
       "                                                      70, 80, 90, 100, 110,\n",
       "                                                      None],\n",
       "                                        &#x27;max_features&#x27;: [&#x27;auto&#x27;, &#x27;sqrt&#x27;],\n",
       "                                        &#x27;min_samples_leaf&#x27;: [1, 2, 4],\n",
       "                                        &#x27;min_samples_split&#x27;: [2, 5, 10],\n",
       "                                        &#x27;n_estimators&#x27;: [200, 400, 600, 800,\n",
       "                                                         1000, 1200, 1400, 1600,\n",
       "                                                         1800, 2000]},\n",
       "                   return_train_score=True, verbose=True)</pre></div></div></div><div class=\"sk-parallel\"><div class=\"sk-parallel-item\"><div class=\"sk-item\"><div class=\"sk-label-container\"><div class=\"sk-label sk-toggleable\"><input class=\"sk-toggleable__control sk-hidden--visually\" id=\"sk-estimator-id-2\" type=\"checkbox\" ><label for=\"sk-estimator-id-2\" class=\"sk-toggleable__label sk-toggleable__label-arrow\">estimator: RandomForestClassifier</label><div class=\"sk-toggleable__content\"><pre>RandomForestClassifier()</pre></div></div></div><div class=\"sk-serial\"><div class=\"sk-item\"><div class=\"sk-estimator sk-toggleable\"><input class=\"sk-toggleable__control sk-hidden--visually\" id=\"sk-estimator-id-3\" type=\"checkbox\" ><label for=\"sk-estimator-id-3\" class=\"sk-toggleable__label sk-toggleable__label-arrow\">RandomForestClassifier</label><div class=\"sk-toggleable__content\"><pre>RandomForestClassifier()</pre></div></div></div></div></div></div></div></div></div></div>"
      ],
      "text/plain": [
       "RandomizedSearchCV(cv=3, estimator=RandomForestClassifier(), n_iter=5,\n",
       "                   n_jobs=-1,\n",
       "                   param_distributions={'bootstrap': [True, False],\n",
       "                                        'max_depth': [10, 20, 30, 40, 50, 60,\n",
       "                                                      70, 80, 90, 100, 110,\n",
       "                                                      None],\n",
       "                                        'max_features': ['auto', 'sqrt'],\n",
       "                                        'min_samples_leaf': [1, 2, 4],\n",
       "                                        'min_samples_split': [2, 5, 10],\n",
       "                                        'n_estimators': [200, 400, 600, 800,\n",
       "                                                         1000, 1200, 1400, 1600,\n",
       "                                                         1800, 2000]},\n",
       "                   return_train_score=True, verbose=True)"
      ]
     },
     "execution_count": 98,
     "metadata": {},
     "output_type": "execute_result"
    }
   ],
   "source": [
    "rs = RandomizedSearchCV(estimator=model, param_distributions=random_grid, \n",
    "                 return_train_score= True, n_jobs=-1, verbose=True, cv = 3, n_iter=5)\n",
    "rs.fit(X_train, y_train)"
   ]
  },
  {
   "cell_type": "code",
   "execution_count": 99,
   "id": "fc227da5",
   "metadata": {},
   "outputs": [
    {
     "name": "stdout",
     "output_type": "stream",
     "text": [
      "confusion_matrix\n",
      "[[11891   897]\n",
      " [  899 11830]]\n",
      "\n",
      "\n",
      "classification_report\n",
      "              precision    recall  f1-score   support\n",
      "\n",
      "           0       0.93      0.93      0.93     12788\n",
      "           1       0.93      0.93      0.93     12729\n",
      "\n",
      "    accuracy                           0.93     25517\n",
      "   macro avg       0.93      0.93      0.93     25517\n",
      "weighted avg       0.93      0.93      0.93     25517\n",
      "\n",
      "\n",
      "\n",
      "Accuracy: 92.96155504173687\n",
      "\n",
      "\n",
      "ROC Value: 0.9296149928984457\n"
     ]
    }
   ],
   "source": [
    "P29=rs.predict(X_test)\n",
    "print('confusion_matrix')\n",
    "print(confusion_matrix(y_test,P29))\n",
    "print('\\n')\n",
    "print('classification_report')\n",
    "print(classification_report(y_test,P29))\n",
    "print('\\n')\n",
    "print('Accuracy:',100*accuracy_score(y_test,P29))\n",
    "print('\\n')\n",
    "print('ROC Value:',roc_auc_score(y_test,P29))"
   ]
  },
  {
   "cell_type": "code",
   "execution_count": 100,
   "id": "d8115efb",
   "metadata": {},
   "outputs": [],
   "source": [
    "param_grid = {\n",
    "    'criterion': ['mse', 'mae', 'friedman_mse'], \n",
    "    'learning_rate': [0.05, 0.1, 0.15, 0.2], \n",
    "    'max_depth': [2, 3, 4, 5], \n",
    "    'max_features': ['sqrt', None], \n",
    "    'max_leaf_nodes': list(range(2, 10)),\n",
    "    'n_estimators': list(range(50, 500, 50)),\n",
    "    'subsample': [0.8, 0.9, 1.0]\n",
    "}"
   ]
  },
  {
   "cell_type": "code",
   "execution_count": 101,
   "id": "c4f07f4c",
   "metadata": {},
   "outputs": [
    {
     "name": "stdout",
     "output_type": "stream",
     "text": [
      "Fitting 3 folds for each of 5 candidates, totalling 15 fits\n"
     ]
    },
    {
     "data": {
      "text/html": [
       "<style>#sk-container-id-2 {color: black;background-color: white;}#sk-container-id-2 pre{padding: 0;}#sk-container-id-2 div.sk-toggleable {background-color: white;}#sk-container-id-2 label.sk-toggleable__label {cursor: pointer;display: block;width: 100%;margin-bottom: 0;padding: 0.3em;box-sizing: border-box;text-align: center;}#sk-container-id-2 label.sk-toggleable__label-arrow:before {content: \"▸\";float: left;margin-right: 0.25em;color: #696969;}#sk-container-id-2 label.sk-toggleable__label-arrow:hover:before {color: black;}#sk-container-id-2 div.sk-estimator:hover label.sk-toggleable__label-arrow:before {color: black;}#sk-container-id-2 div.sk-toggleable__content {max-height: 0;max-width: 0;overflow: hidden;text-align: left;background-color: #f0f8ff;}#sk-container-id-2 div.sk-toggleable__content pre {margin: 0.2em;color: black;border-radius: 0.25em;background-color: #f0f8ff;}#sk-container-id-2 input.sk-toggleable__control:checked~div.sk-toggleable__content {max-height: 200px;max-width: 100%;overflow: auto;}#sk-container-id-2 input.sk-toggleable__control:checked~label.sk-toggleable__label-arrow:before {content: \"▾\";}#sk-container-id-2 div.sk-estimator input.sk-toggleable__control:checked~label.sk-toggleable__label {background-color: #d4ebff;}#sk-container-id-2 div.sk-label input.sk-toggleable__control:checked~label.sk-toggleable__label {background-color: #d4ebff;}#sk-container-id-2 input.sk-hidden--visually {border: 0;clip: rect(1px 1px 1px 1px);clip: rect(1px, 1px, 1px, 1px);height: 1px;margin: -1px;overflow: hidden;padding: 0;position: absolute;width: 1px;}#sk-container-id-2 div.sk-estimator {font-family: monospace;background-color: #f0f8ff;border: 1px dotted black;border-radius: 0.25em;box-sizing: border-box;margin-bottom: 0.5em;}#sk-container-id-2 div.sk-estimator:hover {background-color: #d4ebff;}#sk-container-id-2 div.sk-parallel-item::after {content: \"\";width: 100%;border-bottom: 1px solid gray;flex-grow: 1;}#sk-container-id-2 div.sk-label:hover label.sk-toggleable__label {background-color: #d4ebff;}#sk-container-id-2 div.sk-serial::before {content: \"\";position: absolute;border-left: 1px solid gray;box-sizing: border-box;top: 0;bottom: 0;left: 50%;z-index: 0;}#sk-container-id-2 div.sk-serial {display: flex;flex-direction: column;align-items: center;background-color: white;padding-right: 0.2em;padding-left: 0.2em;position: relative;}#sk-container-id-2 div.sk-item {position: relative;z-index: 1;}#sk-container-id-2 div.sk-parallel {display: flex;align-items: stretch;justify-content: center;background-color: white;position: relative;}#sk-container-id-2 div.sk-item::before, #sk-container-id-2 div.sk-parallel-item::before {content: \"\";position: absolute;border-left: 1px solid gray;box-sizing: border-box;top: 0;bottom: 0;left: 50%;z-index: -1;}#sk-container-id-2 div.sk-parallel-item {display: flex;flex-direction: column;z-index: 1;position: relative;background-color: white;}#sk-container-id-2 div.sk-parallel-item:first-child::after {align-self: flex-end;width: 50%;}#sk-container-id-2 div.sk-parallel-item:last-child::after {align-self: flex-start;width: 50%;}#sk-container-id-2 div.sk-parallel-item:only-child::after {width: 0;}#sk-container-id-2 div.sk-dashed-wrapped {border: 1px dashed gray;margin: 0 0.4em 0.5em 0.4em;box-sizing: border-box;padding-bottom: 0.4em;background-color: white;}#sk-container-id-2 div.sk-label label {font-family: monospace;font-weight: bold;display: inline-block;line-height: 1.2em;}#sk-container-id-2 div.sk-label-container {text-align: center;}#sk-container-id-2 div.sk-container {/* jupyter's `normalize.less` sets `[hidden] { display: none; }` but bootstrap.min.css set `[hidden] { display: none !important; }` so we also need the `!important` here to be able to override the default hidden behavior on the sphinx rendered scikit-learn.org. See: https://github.com/scikit-learn/scikit-learn/issues/21755 */display: inline-block !important;position: relative;}#sk-container-id-2 div.sk-text-repr-fallback {display: none;}</style><div id=\"sk-container-id-2\" class=\"sk-top-container\"><div class=\"sk-text-repr-fallback\"><pre>RandomizedSearchCV(cv=3, estimator=GradientBoostingClassifier(), n_iter=5,\n",
       "                   n_jobs=-1,\n",
       "                   param_distributions={&#x27;criterion&#x27;: [&#x27;mse&#x27;, &#x27;mae&#x27;,\n",
       "                                                      &#x27;friedman_mse&#x27;],\n",
       "                                        &#x27;learning_rate&#x27;: [0.05, 0.1, 0.15, 0.2],\n",
       "                                        &#x27;max_depth&#x27;: [2, 3, 4, 5],\n",
       "                                        &#x27;max_features&#x27;: [&#x27;sqrt&#x27;, None],\n",
       "                                        &#x27;max_leaf_nodes&#x27;: [2, 3, 4, 5, 6, 7, 8,\n",
       "                                                           9],\n",
       "                                        &#x27;n_estimators&#x27;: [50, 100, 150, 200, 250,\n",
       "                                                         300, 350, 400, 450],\n",
       "                                        &#x27;subsample&#x27;: [0.8, 0.9, 1.0]},\n",
       "                   return_train_score=True, verbose=True)</pre><b>In a Jupyter environment, please rerun this cell to show the HTML representation or trust the notebook. <br />On GitHub, the HTML representation is unable to render, please try loading this page with nbviewer.org.</b></div><div class=\"sk-container\" hidden><div class=\"sk-item sk-dashed-wrapped\"><div class=\"sk-label-container\"><div class=\"sk-label sk-toggleable\"><input class=\"sk-toggleable__control sk-hidden--visually\" id=\"sk-estimator-id-4\" type=\"checkbox\" ><label for=\"sk-estimator-id-4\" class=\"sk-toggleable__label sk-toggleable__label-arrow\">RandomizedSearchCV</label><div class=\"sk-toggleable__content\"><pre>RandomizedSearchCV(cv=3, estimator=GradientBoostingClassifier(), n_iter=5,\n",
       "                   n_jobs=-1,\n",
       "                   param_distributions={&#x27;criterion&#x27;: [&#x27;mse&#x27;, &#x27;mae&#x27;,\n",
       "                                                      &#x27;friedman_mse&#x27;],\n",
       "                                        &#x27;learning_rate&#x27;: [0.05, 0.1, 0.15, 0.2],\n",
       "                                        &#x27;max_depth&#x27;: [2, 3, 4, 5],\n",
       "                                        &#x27;max_features&#x27;: [&#x27;sqrt&#x27;, None],\n",
       "                                        &#x27;max_leaf_nodes&#x27;: [2, 3, 4, 5, 6, 7, 8,\n",
       "                                                           9],\n",
       "                                        &#x27;n_estimators&#x27;: [50, 100, 150, 200, 250,\n",
       "                                                         300, 350, 400, 450],\n",
       "                                        &#x27;subsample&#x27;: [0.8, 0.9, 1.0]},\n",
       "                   return_train_score=True, verbose=True)</pre></div></div></div><div class=\"sk-parallel\"><div class=\"sk-parallel-item\"><div class=\"sk-item\"><div class=\"sk-label-container\"><div class=\"sk-label sk-toggleable\"><input class=\"sk-toggleable__control sk-hidden--visually\" id=\"sk-estimator-id-5\" type=\"checkbox\" ><label for=\"sk-estimator-id-5\" class=\"sk-toggleable__label sk-toggleable__label-arrow\">estimator: GradientBoostingClassifier</label><div class=\"sk-toggleable__content\"><pre>GradientBoostingClassifier()</pre></div></div></div><div class=\"sk-serial\"><div class=\"sk-item\"><div class=\"sk-estimator sk-toggleable\"><input class=\"sk-toggleable__control sk-hidden--visually\" id=\"sk-estimator-id-6\" type=\"checkbox\" ><label for=\"sk-estimator-id-6\" class=\"sk-toggleable__label sk-toggleable__label-arrow\">GradientBoostingClassifier</label><div class=\"sk-toggleable__content\"><pre>GradientBoostingClassifier()</pre></div></div></div></div></div></div></div></div></div></div>"
      ],
      "text/plain": [
       "RandomizedSearchCV(cv=3, estimator=GradientBoostingClassifier(), n_iter=5,\n",
       "                   n_jobs=-1,\n",
       "                   param_distributions={'criterion': ['mse', 'mae',\n",
       "                                                      'friedman_mse'],\n",
       "                                        'learning_rate': [0.05, 0.1, 0.15, 0.2],\n",
       "                                        'max_depth': [2, 3, 4, 5],\n",
       "                                        'max_features': ['sqrt', None],\n",
       "                                        'max_leaf_nodes': [2, 3, 4, 5, 6, 7, 8,\n",
       "                                                           9],\n",
       "                                        'n_estimators': [50, 100, 150, 200, 250,\n",
       "                                                         300, 350, 400, 450],\n",
       "                                        'subsample': [0.8, 0.9, 1.0]},\n",
       "                   return_train_score=True, verbose=True)"
      ]
     },
     "execution_count": 101,
     "metadata": {},
     "output_type": "execute_result"
    }
   ],
   "source": [
    "rs1 = RandomizedSearchCV(estimator=GradientBoostingClassifier(), param_distributions=param_grid, \n",
    "                 return_train_score= True, n_jobs=-1, verbose=True, cv = 3, n_iter=5)\n",
    "rs1.fit(X_train, y_train)"
   ]
  },
  {
   "cell_type": "code",
   "execution_count": 102,
   "id": "2e23ba46",
   "metadata": {},
   "outputs": [
    {
     "name": "stdout",
     "output_type": "stream",
     "text": [
      "confusion_matrix\n",
      "[[11729  1059]\n",
      " [ 1035 11694]]\n",
      "\n",
      "\n",
      "classification_report\n",
      "              precision    recall  f1-score   support\n",
      "\n",
      "           0       0.92      0.92      0.92     12788\n",
      "           1       0.92      0.92      0.92     12729\n",
      "\n",
      "    accuracy                           0.92     25517\n",
      "   macro avg       0.92      0.92      0.92     25517\n",
      "weighted avg       0.92      0.92      0.92     25517\n",
      "\n",
      "\n",
      "\n",
      "Accuracy: 91.79370615667986\n",
      "\n",
      "\n",
      "ROC Value: 0.9179387975750009\n"
     ]
    }
   ],
   "source": [
    "P30=rs1.predict(X_test)\n",
    "print('confusion_matrix')\n",
    "print(confusion_matrix(y_test,P30))\n",
    "print('\\n')\n",
    "print('classification_report')\n",
    "print(classification_report(y_test,P30))\n",
    "print('\\n')\n",
    "print('Accuracy:',100*accuracy_score(y_test,P30))\n",
    "print('\\n')\n",
    "print('ROC Value:',roc_auc_score(y_test,P30))"
   ]
  },
  {
   "cell_type": "code",
   "execution_count": 104,
   "id": "56a96be2",
   "metadata": {},
   "outputs": [],
   "source": [
    "import pickle\n",
    "filename = 'finalized_model.sav'\n",
    "pickle.dump(M31, open(filename, 'wb'))"
   ]
  }
 ],
 "metadata": {
  "kernelspec": {
   "display_name": "Python 3 (ipykernel)",
   "language": "python",
   "name": "python3"
  },
  "language_info": {
   "codemirror_mode": {
    "name": "ipython",
    "version": 3
   },
   "file_extension": ".py",
   "mimetype": "text/x-python",
   "name": "python",
   "nbconvert_exporter": "python",
   "pygments_lexer": "ipython3",
   "version": "3.9.12"
  }
 },
 "nbformat": 4,
 "nbformat_minor": 5
}
