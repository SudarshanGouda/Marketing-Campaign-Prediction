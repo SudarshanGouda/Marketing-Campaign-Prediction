{
 "cells": [
  {
   "cell_type": "code",
   "execution_count": 90,
   "id": "703e8656",
   "metadata": {},
   "outputs": [],
   "source": [
    "import pandas as pd\n",
    "import numpy as np\n",
    "import matplotlib.pyplot as plt\n",
    "import seaborn as sns\n",
    "import warnings\n",
    "warnings.filterwarnings('ignore')"
   ]
  },
  {
   "cell_type": "code",
   "execution_count": 154,
   "id": "0f039c16",
   "metadata": {},
   "outputs": [],
   "source": [
    "X_train=pd.read_pickle(\"./X_train.pkl\")\n",
    "X_test=pd.read_pickle(\"./X_test.pkl\")\n",
    "y_train=pd.read_pickle(\"./y_train.pkl\")\n",
    "y_test=pd.read_pickle(\"./y_test.pkl\")\n",
    "\n",
    "X=pd.read_pickle(\"./X.pkl\")\n",
    "y=pd.read_pickle(\"./y.pkl\")\n",
    "df=pd.read_pickle(\"./df.pkl\")"
   ]
  },
  {
   "cell_type": "markdown",
   "id": "76ea9e98",
   "metadata": {},
   "source": [
    "## Standard Scalar"
   ]
  },
  {
   "cell_type": "code",
   "execution_count": 85,
   "id": "377717c4",
   "metadata": {},
   "outputs": [],
   "source": [
    "from sklearn.preprocessing import MinMaxScaler"
   ]
  },
  {
   "cell_type": "code",
   "execution_count": 86,
   "id": "c9e5c539",
   "metadata": {},
   "outputs": [],
   "source": [
    "sc=MinMaxScaler(feature_range=(0, 1))"
   ]
  },
  {
   "cell_type": "code",
   "execution_count": 87,
   "id": "27de3258",
   "metadata": {},
   "outputs": [],
   "source": [
    "X_train=sc.fit_transform(X_train)\n",
    "X_test=sc.transform(X_test)"
   ]
  },
  {
   "cell_type": "markdown",
   "id": "1105c1e6",
   "metadata": {},
   "source": [
    "## Logistic Regression"
   ]
  },
  {
   "cell_type": "code",
   "execution_count": 3,
   "id": "9f1b12b5",
   "metadata": {},
   "outputs": [],
   "source": [
    "from sklearn.linear_model import LogisticRegression\n",
    "from sklearn.metrics import confusion_matrix,classification_report,roc_auc_score,accuracy_score,balanced_accuracy_score,f1_score"
   ]
  },
  {
   "cell_type": "code",
   "execution_count": 4,
   "id": "449a0c90",
   "metadata": {},
   "outputs": [
    {
     "name": "stdout",
     "output_type": "stream",
     "text": [
      "confusion_matrix\n",
      "[[11860  1315]\n",
      " [  878   867]]\n",
      "\n",
      "\n",
      "classification_report\n",
      "              precision    recall  f1-score   support\n",
      "\n",
      "           0       0.93      0.90      0.92     13175\n",
      "           1       0.40      0.50      0.44      1745\n",
      "\n",
      "    accuracy                           0.85     14920\n",
      "   macro avg       0.66      0.70      0.68     14920\n",
      "weighted avg       0.87      0.85      0.86     14920\n",
      "\n",
      "\n",
      "\n",
      "Accuracy: 85.30160857908847\n",
      "\n",
      "\n",
      "ROC Value: 0.6985189454282499\n",
      "\n",
      "\n",
      "Balenced Accuracy: 0.6985189454282499\n",
      "\n",
      "\n",
      "F1 Score: 0.44155844155844154\n"
     ]
    }
   ],
   "source": [
    "M1=LogisticRegression()\n",
    "M1.fit(X_train,y_train)\n",
    "P1=M1.predict(X_test)\n",
    "print('confusion_matrix')\n",
    "print(confusion_matrix(y_test,P1))\n",
    "print('\\n')\n",
    "print('classification_report')\n",
    "print(classification_report(y_test,P1))\n",
    "print('\\n')\n",
    "print('Accuracy:',100*accuracy_score(y_test,P1))\n",
    "print('\\n')\n",
    "print('ROC Value:',roc_auc_score(y_test,P1))\n",
    "print('\\n')\n",
    "print('Balenced Accuracy:',balanced_accuracy_score(y_test,P1))\n",
    "print('\\n')\n",
    "print('F1 Score:',f1_score(y_test,P1))"
   ]
  },
  {
   "cell_type": "markdown",
   "id": "2ea46a26",
   "metadata": {},
   "source": [
    "## DecisionTree"
   ]
  },
  {
   "cell_type": "code",
   "execution_count": 5,
   "id": "c8f1872f",
   "metadata": {},
   "outputs": [],
   "source": [
    "from sklearn.tree import DecisionTreeClassifier"
   ]
  },
  {
   "cell_type": "code",
   "execution_count": 6,
   "id": "44f45254",
   "metadata": {},
   "outputs": [
    {
     "name": "stdout",
     "output_type": "stream",
     "text": [
      "confusion_matrix\n",
      "[[11655  1520]\n",
      " [  859   886]]\n",
      "\n",
      "\n",
      "classification_report\n",
      "              precision    recall  f1-score   support\n",
      "\n",
      "           0       0.93      0.88      0.91     13175\n",
      "           1       0.37      0.51      0.43      1745\n",
      "\n",
      "    accuracy                           0.84     14920\n",
      "   macro avg       0.65      0.70      0.67     14920\n",
      "weighted avg       0.87      0.84      0.85     14920\n",
      "\n",
      "\n",
      "\n",
      "Accuracy: 84.05495978552278\n",
      "\n",
      "\n",
      "ROC Value: 0.6961831853547409\n"
     ]
    }
   ],
   "source": [
    "M2=DecisionTreeClassifier()\n",
    "M2.fit(X_train,y_train)\n",
    "P2=M2.predict(X_test)\n",
    "print('confusion_matrix')\n",
    "print(confusion_matrix(y_test,P2))\n",
    "print('\\n')\n",
    "print('classification_report')\n",
    "print(classification_report(y_test,P2))\n",
    "print('\\n')\n",
    "print('Accuracy:',100*accuracy_score(y_test,P2))\n",
    "print('\\n')\n",
    "print('ROC Value:',roc_auc_score(y_test,P2))"
   ]
  },
  {
   "cell_type": "markdown",
   "id": "c1ec323b",
   "metadata": {},
   "source": [
    "## RandomForest"
   ]
  },
  {
   "cell_type": "code",
   "execution_count": 7,
   "id": "94245554",
   "metadata": {},
   "outputs": [],
   "source": [
    "from sklearn.ensemble import RandomForestClassifier"
   ]
  },
  {
   "cell_type": "code",
   "execution_count": 8,
   "id": "9242342a",
   "metadata": {},
   "outputs": [
    {
     "name": "stdout",
     "output_type": "stream",
     "text": [
      "confusion_matrix\n",
      "[[12189   986]\n",
      " [  792   953]]\n",
      "\n",
      "\n",
      "classification_report\n",
      "              precision    recall  f1-score   support\n",
      "\n",
      "           0       0.94      0.93      0.93     13175\n",
      "           1       0.49      0.55      0.52      1745\n",
      "\n",
      "    accuracy                           0.88     14920\n",
      "   macro avg       0.72      0.74      0.72     14920\n",
      "weighted avg       0.89      0.88      0.88     14920\n",
      "\n",
      "\n",
      "\n",
      "Accuracy: 88.08310991957104\n",
      "\n",
      "\n",
      "ROC Value: 0.7356465477400868\n"
     ]
    }
   ],
   "source": [
    "M3=RandomForestClassifier()\n",
    "M3.fit(X_train,y_train)\n",
    "P3=M3.predict(X_test)\n",
    "print('confusion_matrix')\n",
    "print(confusion_matrix(y_test,P3))\n",
    "print('\\n')\n",
    "print('classification_report')\n",
    "print(classification_report(y_test,P3))\n",
    "print('\\n')\n",
    "print('Accuracy:',100*accuracy_score(y_test,P3))\n",
    "print('\\n')\n",
    "print('ROC Value:',roc_auc_score(y_test,P3))"
   ]
  },
  {
   "cell_type": "markdown",
   "id": "9e6d1913",
   "metadata": {},
   "source": [
    "## Support Vector"
   ]
  },
  {
   "cell_type": "code",
   "execution_count": 9,
   "id": "83587a1b",
   "metadata": {},
   "outputs": [],
   "source": [
    "from sklearn.svm import SVC"
   ]
  },
  {
   "cell_type": "code",
   "execution_count": 10,
   "id": "c884491e",
   "metadata": {},
   "outputs": [
    {
     "name": "stdout",
     "output_type": "stream",
     "text": [
      "confusion_matrix\n",
      "[[12031  1144]\n",
      " [  895   850]]\n",
      "\n",
      "\n",
      "classification_report\n",
      "              precision    recall  f1-score   support\n",
      "\n",
      "           0       0.93      0.91      0.92     13175\n",
      "           1       0.43      0.49      0.45      1745\n",
      "\n",
      "    accuracy                           0.86     14920\n",
      "   macro avg       0.68      0.70      0.69     14920\n",
      "weighted avg       0.87      0.86      0.87     14920\n",
      "\n",
      "\n",
      "\n",
      "Accuracy: 86.33378016085791\n",
      "\n",
      "\n",
      "ROC Value: 0.7001374488236926\n"
     ]
    }
   ],
   "source": [
    "M4=SVC()\n",
    "M4.fit(X_train,y_train)\n",
    "P4=M4.predict(X_test)\n",
    "print('confusion_matrix')\n",
    "print(confusion_matrix(y_test,P4))\n",
    "print('\\n')\n",
    "print('classification_report')\n",
    "print(classification_report(y_test,P4))\n",
    "print('\\n')\n",
    "print('Accuracy:',100*accuracy_score(y_test,P4))\n",
    "print('\\n')\n",
    "print('ROC Value:',roc_auc_score(y_test,P4))"
   ]
  },
  {
   "cell_type": "markdown",
   "id": "65631ee7",
   "metadata": {},
   "source": [
    "## KNN"
   ]
  },
  {
   "cell_type": "code",
   "execution_count": 11,
   "id": "bd322b8d",
   "metadata": {},
   "outputs": [],
   "source": [
    "from sklearn.neighbors import KNeighborsClassifier"
   ]
  },
  {
   "cell_type": "code",
   "execution_count": 12,
   "id": "dc3d5030",
   "metadata": {},
   "outputs": [
    {
     "data": {
      "text/plain": [
       "Text(0, 0.5, 'Error Rate')"
      ]
     },
     "execution_count": 12,
     "metadata": {},
     "output_type": "execute_result"
    },
    {
     "data": {
      "image/png": "[encoded data removed]",
      "text/plain": [
       "<Figure size 720x720 with 1 Axes>"
      ]
     },
     "metadata": {
      "needs_background": "light"
     },
     "output_type": "display_data"
    }
   ],
   "source": [
    "error_Mat=[]\n",
    "for i in range (1,50):\n",
    "    knn=KNeighborsClassifier(n_neighbors=i)\n",
    "    knn.fit(X_train,y_train)\n",
    "    predict_i=knn.predict(X_test)\n",
    "    error_Mat.append(np.mean(predict_i != y_test))\n",
    "plt.figure(figsize=(10,10))\n",
    "plt.plot(range(1,50),error_Mat,color='blue', linestyle='dashed', marker='o',\n",
    "         markerfacecolor='red', markersize=10)\n",
    "plt.title('Error Rate vs. K Value')\n",
    "plt.xlabel('K')\n",
    "plt.ylabel('Error Rate')"
   ]
  },
  {
   "cell_type": "code",
   "execution_count": 13,
   "id": "f4e6ee8a",
   "metadata": {},
   "outputs": [
    {
     "name": "stdout",
     "output_type": "stream",
     "text": [
      "confusion_matrix\n",
      "[[12456   719]\n",
      " [ 1212   533]]\n",
      "\n",
      "\n",
      "classification_report\n",
      "              precision    recall  f1-score   support\n",
      "\n",
      "           0       0.91      0.95      0.93     13175\n",
      "           1       0.43      0.31      0.36      1745\n",
      "\n",
      "    accuracy                           0.87     14920\n",
      "   macro avg       0.67      0.63      0.64     14920\n",
      "weighted avg       0.85      0.87      0.86     14920\n",
      "\n",
      "\n",
      "\n",
      "Accuracy: 87.05764075067025\n",
      "\n",
      "\n",
      "ROC Value: 0.6254355355230178\n"
     ]
    }
   ],
   "source": [
    "M5=KNeighborsClassifier(n_neighbors=2)\n",
    "M5.fit(X_train,y_train)\n",
    "P5=M5.predict(X_test)\n",
    "print('confusion_matrix')\n",
    "print(confusion_matrix(y_test,P5))\n",
    "print('\\n')\n",
    "print('classification_report')\n",
    "print(classification_report(y_test,P5))\n",
    "print('\\n')\n",
    "print('Accuracy:',100*accuracy_score(y_test,P5))\n",
    "print('\\n')\n",
    "print('ROC Value:',roc_auc_score(y_test,P5))"
   ]
  },
  {
   "cell_type": "markdown",
   "id": "9594af17",
   "metadata": {},
   "source": [
    "## Naive_bayes"
   ]
  },
  {
   "cell_type": "code",
   "execution_count": 14,
   "id": "3ac1d181",
   "metadata": {},
   "outputs": [],
   "source": [
    "from sklearn.naive_bayes import GaussianNB"
   ]
  },
  {
   "cell_type": "code",
   "execution_count": 15,
   "id": "3a93d4d7",
   "metadata": {},
   "outputs": [
    {
     "name": "stdout",
     "output_type": "stream",
     "text": [
      "confusion_matrix\n",
      "[[9056 4119]\n",
      " [ 703 1042]]\n",
      "\n",
      "\n",
      "classification_report\n",
      "              precision    recall  f1-score   support\n",
      "\n",
      "           0       0.93      0.69      0.79     13175\n",
      "           1       0.20      0.60      0.30      1745\n",
      "\n",
      "    accuracy                           0.68     14920\n",
      "   macro avg       0.56      0.64      0.55     14920\n",
      "weighted avg       0.84      0.68      0.73     14920\n",
      "\n",
      "\n",
      "\n",
      "Accuracy: 67.6809651474531\n",
      "\n",
      "\n",
      "ROC Value: 0.6422485496648054\n"
     ]
    }
   ],
   "source": [
    "M6=GaussianNB()\n",
    "M6.fit(X_train,y_train)\n",
    "P6=M6.predict(X_test)\n",
    "print('confusion_matrix')\n",
    "print(confusion_matrix(y_test,P6))\n",
    "print('\\n')\n",
    "print('classification_report')\n",
    "print(classification_report(y_test,P6))\n",
    "print('\\n')\n",
    "print('Accuracy:',100*accuracy_score(y_test,P6))\n",
    "print('\\n')\n",
    "print('ROC Value:',roc_auc_score(y_test,P6))"
   ]
  },
  {
   "cell_type": "markdown",
   "id": "46c96d3b",
   "metadata": {},
   "source": [
    "## GradientBoostingClassifier"
   ]
  },
  {
   "cell_type": "code",
   "execution_count": 16,
   "id": "729e34c9",
   "metadata": {},
   "outputs": [],
   "source": [
    "from sklearn.ensemble import GradientBoostingClassifier"
   ]
  },
  {
   "cell_type": "code",
   "execution_count": 17,
   "id": "da38a712",
   "metadata": {},
   "outputs": [
    {
     "name": "stdout",
     "output_type": "stream",
     "text": [
      "confusion_matrix\n",
      "[[11760  1415]\n",
      " [  581  1164]]\n",
      "\n",
      "\n",
      "classification_report\n",
      "              precision    recall  f1-score   support\n",
      "\n",
      "           0       0.95      0.89      0.92     13175\n",
      "           1       0.45      0.67      0.54      1745\n",
      "\n",
      "    accuracy                           0.87     14920\n",
      "   macro avg       0.70      0.78      0.73     14920\n",
      "weighted avg       0.89      0.87      0.88     14920\n",
      "\n",
      "\n",
      "\n",
      "Accuracy: 86.62198391420911\n",
      "\n",
      "\n",
      "ROC Value: 0.7798241655475389\n"
     ]
    }
   ],
   "source": [
    "M7=GradientBoostingClassifier()\n",
    "M7.fit(X_train,y_train)\n",
    "P7=M7.predict(X_test)\n",
    "print('confusion_matrix')\n",
    "print(confusion_matrix(y_test,P7))\n",
    "print('\\n')\n",
    "print('classification_report')\n",
    "print(classification_report(y_test,P7))\n",
    "print('\\n')\n",
    "print('Accuracy:',100*accuracy_score(y_test,P7))\n",
    "print('\\n')\n",
    "print('ROC Value:',roc_auc_score(y_test,P7))"
   ]
  },
  {
   "cell_type": "markdown",
   "id": "79740203",
   "metadata": {},
   "source": [
    "## HistGradientBoostingClassifier"
   ]
  },
  {
   "cell_type": "code",
   "execution_count": 18,
   "id": "2ad82310",
   "metadata": {},
   "outputs": [],
   "source": [
    "from sklearn.ensemble import HistGradientBoostingClassifier"
   ]
  },
  {
   "cell_type": "code",
   "execution_count": 19,
   "id": "ef1210f5",
   "metadata": {},
   "outputs": [
    {
     "name": "stdout",
     "output_type": "stream",
     "text": [
      "confusion_matrix\n",
      "[[12037  1138]\n",
      " [  656  1089]]\n",
      "\n",
      "\n",
      "classification_report\n",
      "              precision    recall  f1-score   support\n",
      "\n",
      "           0       0.95      0.91      0.93     13175\n",
      "           1       0.49      0.62      0.55      1745\n",
      "\n",
      "    accuracy                           0.88     14920\n",
      "   macro avg       0.72      0.77      0.74     14920\n",
      "weighted avg       0.89      0.88      0.89     14920\n",
      "\n",
      "\n",
      "\n",
      "Accuracy: 87.97587131367293\n",
      "\n",
      "\n",
      "ROC Value: 0.7688465281666784\n"
     ]
    }
   ],
   "source": [
    "M8=HistGradientBoostingClassifier()\n",
    "M8.fit(X_train,y_train)\n",
    "P8=M8.predict(X_test)\n",
    "print('confusion_matrix')\n",
    "print(confusion_matrix(y_test,P8))\n",
    "print('\\n')\n",
    "print('classification_report')\n",
    "print(classification_report(y_test,P8))\n",
    "print('\\n')\n",
    "print('Accuracy:',100*accuracy_score(y_test,P8))\n",
    "print('\\n')\n",
    "print('ROC Value:',roc_auc_score(y_test,P8))"
   ]
  },
  {
   "cell_type": "markdown",
   "id": "f5693a2f",
   "metadata": {},
   "source": [
    "## CatBoostClassifier"
   ]
  },
  {
   "cell_type": "code",
   "execution_count": 20,
   "id": "6b0c2432",
   "metadata": {},
   "outputs": [],
   "source": [
    "from catboost import CatBoostClassifier"
   ]
  },
  {
   "cell_type": "code",
   "execution_count": 21,
   "id": "611eb11d",
   "metadata": {},
   "outputs": [
    {
     "name": "stdout",
     "output_type": "stream",
     "text": [
      "confusion_matrix\n",
      "[[12117  1058]\n",
      " [  706  1039]]\n",
      "\n",
      "\n",
      "classification_report\n",
      "              precision    recall  f1-score   support\n",
      "\n",
      "           0       0.94      0.92      0.93     13175\n",
      "           1       0.50      0.60      0.54      1745\n",
      "\n",
      "    accuracy                           0.88     14920\n",
      "   macro avg       0.72      0.76      0.74     14920\n",
      "weighted avg       0.89      0.88      0.89     14920\n",
      "\n",
      "\n",
      "\n",
      "Accuracy: 88.17694369973191\n",
      "\n",
      "\n",
      "ROC Value: 0.7575559337331383\n"
     ]
    }
   ],
   "source": [
    "M9=CatBoostClassifier(verbose=0)\n",
    "M9.fit(X_train,y_train)\n",
    "P9=M9.predict(X_test)\n",
    "print('confusion_matrix')\n",
    "print(confusion_matrix(y_test,P9))\n",
    "print('\\n')\n",
    "print('classification_report')\n",
    "print(classification_report(y_test,P9))\n",
    "print('\\n')\n",
    "print('Accuracy:',100*accuracy_score(y_test,P9))\n",
    "print('\\n')\n",
    "print('ROC Value:',roc_auc_score(y_test,P9))"
   ]
  },
  {
   "cell_type": "markdown",
   "id": "9d800b92",
   "metadata": {},
   "source": [
    "## XGBClassifier"
   ]
  },
  {
   "cell_type": "code",
   "execution_count": 22,
   "id": "deb7c4a8",
   "metadata": {},
   "outputs": [],
   "source": [
    "from xgboost import XGBClassifier"
   ]
  },
  {
   "cell_type": "code",
   "execution_count": 23,
   "id": "d628769b",
   "metadata": {},
   "outputs": [
    {
     "name": "stdout",
     "output_type": "stream",
     "text": [
      "confusion_matrix\n",
      "[[12114  1061]\n",
      " [  745  1000]]\n",
      "\n",
      "\n",
      "classification_report\n",
      "              precision    recall  f1-score   support\n",
      "\n",
      "           0       0.94      0.92      0.93     13175\n",
      "           1       0.49      0.57      0.53      1745\n",
      "\n",
      "    accuracy                           0.88     14920\n",
      "   macro avg       0.71      0.75      0.73     14920\n",
      "weighted avg       0.89      0.88      0.88     14920\n",
      "\n",
      "\n",
      "\n",
      "Accuracy: 87.89544235924933\n",
      "\n",
      "\n",
      "ROC Value: 0.7462672966404419\n"
     ]
    }
   ],
   "source": [
    "M10=XGBClassifier()\n",
    "M10.fit(X_train,y_train)\n",
    "P10=M10.predict(X_test)\n",
    "print('confusion_matrix')\n",
    "print(confusion_matrix(y_test,P10))\n",
    "print('\\n')\n",
    "print('classification_report')\n",
    "print(classification_report(y_test,P10))\n",
    "print('\\n')\n",
    "print('Accuracy:',100*accuracy_score(y_test,P10))\n",
    "print('\\n')\n",
    "print('ROC Value:',roc_auc_score(y_test,P10))"
   ]
  },
  {
   "cell_type": "markdown",
   "id": "db7b339c",
   "metadata": {},
   "source": [
    "## LGBMClassifier"
   ]
  },
  {
   "cell_type": "code",
   "execution_count": 24,
   "id": "c78abb16",
   "metadata": {},
   "outputs": [],
   "source": [
    "from lightgbm import LGBMClassifier"
   ]
  },
  {
   "cell_type": "code",
   "execution_count": 25,
   "id": "45147d11",
   "metadata": {},
   "outputs": [
    {
     "name": "stdout",
     "output_type": "stream",
     "text": [
      "confusion_matrix\n",
      "[[12056  1119]\n",
      " [  659  1086]]\n",
      "\n",
      "\n",
      "classification_report\n",
      "              precision    recall  f1-score   support\n",
      "\n",
      "           0       0.95      0.92      0.93     13175\n",
      "           1       0.49      0.62      0.55      1745\n",
      "\n",
      "    accuracy                           0.88     14920\n",
      "   macro avg       0.72      0.77      0.74     14920\n",
      "weighted avg       0.89      0.88      0.89     14920\n",
      "\n",
      "\n",
      "\n",
      "Accuracy: 88.08310991957104\n",
      "\n",
      "\n",
      "ROC Value: 0.768707991931406\n"
     ]
    }
   ],
   "source": [
    "M11=LGBMClassifier()\n",
    "M11.fit(X_train,y_train)\n",
    "P11=M11.predict(X_test)\n",
    "print('confusion_matrix')\n",
    "print(confusion_matrix(y_test,P11))\n",
    "print('\\n')\n",
    "print('classification_report')\n",
    "print(classification_report(y_test,P11))\n",
    "print('\\n')\n",
    "print('Accuracy:',100*accuracy_score(y_test,P11))\n",
    "print('\\n')\n",
    "print('ROC Value:',roc_auc_score(y_test,P11))"
   ]
  },
  {
   "cell_type": "markdown",
   "id": "66cf4432",
   "metadata": {},
   "source": [
    "## Neural_network"
   ]
  },
  {
   "cell_type": "code",
   "execution_count": 26,
   "id": "5b89ef23",
   "metadata": {},
   "outputs": [],
   "source": [
    "from sklearn.neural_network import MLPClassifier"
   ]
  },
  {
   "cell_type": "code",
   "execution_count": 27,
   "id": "9c70b96a",
   "metadata": {},
   "outputs": [
    {
     "name": "stdout",
     "output_type": "stream",
     "text": [
      "confusion_matrix\n",
      "[[12121  1054]\n",
      " [  818   927]]\n",
      "\n",
      "\n",
      "classification_report\n",
      "              precision    recall  f1-score   support\n",
      "\n",
      "           0       0.94      0.92      0.93     13175\n",
      "           1       0.47      0.53      0.50      1745\n",
      "\n",
      "    accuracy                           0.87     14920\n",
      "   macro avg       0.70      0.73      0.71     14920\n",
      "weighted avg       0.88      0.87      0.88     14920\n",
      "\n",
      "\n",
      "\n",
      "Accuracy: 87.45308310991958\n",
      "\n",
      "\n",
      "ROC Value: 0.7256160458452723\n"
     ]
    }
   ],
   "source": [
    "M12=MLPClassifier(hidden_layer_sizes=(500,))\n",
    "M12.fit(X_train,y_train)\n",
    "P12=M12.predict(X_test)\n",
    "print('confusion_matrix')\n",
    "print(confusion_matrix(y_test,P12))\n",
    "print('\\n')\n",
    "print('classification_report')\n",
    "print(classification_report(y_test,P12))\n",
    "print('\\n')\n",
    "print('Accuracy:',100*accuracy_score(y_test,P12))\n",
    "print('\\n')\n",
    "print('ROC Value:',roc_auc_score(y_test,P12))"
   ]
  },
  {
   "cell_type": "markdown",
   "id": "a8c9dcd1",
   "metadata": {},
   "source": [
    "## BaggingClassifier"
   ]
  },
  {
   "cell_type": "code",
   "execution_count": 28,
   "id": "5513e103",
   "metadata": {},
   "outputs": [],
   "source": [
    "from sklearn.ensemble import BaggingClassifier"
   ]
  },
  {
   "cell_type": "code",
   "execution_count": 29,
   "id": "70f5c414",
   "metadata": {},
   "outputs": [
    {
     "name": "stdout",
     "output_type": "stream",
     "text": [
      "confusion_matrix\n",
      "[[11739  1436]\n",
      " [  543  1202]]\n",
      "\n",
      "\n",
      "classification_report\n",
      "              precision    recall  f1-score   support\n",
      "\n",
      "           0       0.96      0.89      0.92     13175\n",
      "           1       0.46      0.69      0.55      1745\n",
      "\n",
      "    accuracy                           0.87     14920\n",
      "   macro avg       0.71      0.79      0.74     14920\n",
      "weighted avg       0.90      0.87      0.88     14920\n",
      "\n",
      "\n",
      "\n",
      "Accuracy: 86.73592493297588\n",
      "\n",
      "\n",
      "ROC Value: 0.7899154537496671\n"
     ]
    }
   ],
   "source": [
    "M13=BaggingClassifier(base_estimator=GradientBoostingClassifier())\n",
    "M13.fit(X_train,y_train)\n",
    "P13=M13.predict(X_test)\n",
    "print('confusion_matrix')\n",
    "print(confusion_matrix(y_test,P13))\n",
    "print('\\n')\n",
    "print('classification_report')\n",
    "print(classification_report(y_test,P13))\n",
    "print('\\n')\n",
    "print('Accuracy:',100*accuracy_score(y_test,P13))\n",
    "print('\\n')\n",
    "print('ROC Value:',roc_auc_score(y_test,P13))"
   ]
  },
  {
   "cell_type": "markdown",
   "id": "985f8964",
   "metadata": {},
   "source": [
    "## LinearSVC"
   ]
  },
  {
   "cell_type": "code",
   "execution_count": 30,
   "id": "e2f65492",
   "metadata": {},
   "outputs": [],
   "source": [
    "from sklearn.svm import LinearSVC"
   ]
  },
  {
   "cell_type": "code",
   "execution_count": 31,
   "id": "64c8f174",
   "metadata": {},
   "outputs": [
    {
     "name": "stdout",
     "output_type": "stream",
     "text": [
      "confusion_matrix\n",
      "[[11877  1298]\n",
      " [  891   854]]\n",
      "\n",
      "\n",
      "classification_report\n",
      "              precision    recall  f1-score   support\n",
      "\n",
      "           0       0.93      0.90      0.92     13175\n",
      "           1       0.40      0.49      0.44      1745\n",
      "\n",
      "    accuracy                           0.85     14920\n",
      "   macro avg       0.66      0.70      0.68     14920\n",
      "weighted avg       0.87      0.85      0.86     14920\n",
      "\n",
      "\n",
      "\n",
      "Accuracy: 85.328418230563\n",
      "\n",
      "\n",
      "ROC Value: 0.6954391783518102\n"
     ]
    }
   ],
   "source": [
    "M14=LinearSVC()\n",
    "M14.fit(X_train,y_train)\n",
    "P14=M14.predict(X_test)\n",
    "print('confusion_matrix')\n",
    "print(confusion_matrix(y_test,P14))\n",
    "print('\\n')\n",
    "print('classification_report')\n",
    "print(classification_report(y_test,P14))\n",
    "print('\\n')\n",
    "print('Accuracy:',100*accuracy_score(y_test,P14))\n",
    "print('\\n')\n",
    "print('ROC Value:',roc_auc_score(y_test,P14))"
   ]
  },
  {
   "cell_type": "markdown",
   "id": "2b6d3ed8",
   "metadata": {},
   "source": [
    "## SGD Classifier"
   ]
  },
  {
   "cell_type": "code",
   "execution_count": 32,
   "id": "33fcb477",
   "metadata": {},
   "outputs": [],
   "source": [
    "from sklearn.linear_model import SGDClassifier"
   ]
  },
  {
   "cell_type": "code",
   "execution_count": 33,
   "id": "5f456433",
   "metadata": {
    "scrolled": false
   },
   "outputs": [
    {
     "name": "stdout",
     "output_type": "stream",
     "text": [
      "confusion_matrix\n",
      "[[12081  1094]\n",
      " [  952   793]]\n",
      "\n",
      "\n",
      "classification_report\n",
      "              precision    recall  f1-score   support\n",
      "\n",
      "           0       0.93      0.92      0.92     13175\n",
      "           1       0.42      0.45      0.44      1745\n",
      "\n",
      "    accuracy                           0.86     14920\n",
      "   macro avg       0.67      0.69      0.68     14920\n",
      "weighted avg       0.87      0.86      0.87     14920\n",
      "\n",
      "\n",
      "\n",
      "Accuracy: 86.28686327077747\n",
      "\n",
      "\n",
      "ROC Value: 0.685702603807028\n"
     ]
    }
   ],
   "source": [
    "M15=SGDClassifier()\n",
    "M15.fit(X_train,y_train)\n",
    "P15=M15.predict(X_test)\n",
    "print('confusion_matrix')\n",
    "print(confusion_matrix(y_test,P15))\n",
    "print('\\n')\n",
    "print('classification_report')\n",
    "print(classification_report(y_test,P15))\n",
    "print('\\n')\n",
    "print('Accuracy:',100*accuracy_score(y_test,P15))\n",
    "print('\\n')\n",
    "print('ROC Value:',roc_auc_score(y_test,P15))"
   ]
  },
  {
   "cell_type": "markdown",
   "id": "06a85c11",
   "metadata": {},
   "source": [
    "## Perceptron"
   ]
  },
  {
   "cell_type": "code",
   "execution_count": 34,
   "id": "4125a277",
   "metadata": {},
   "outputs": [],
   "source": [
    "from sklearn.linear_model import Perceptron"
   ]
  },
  {
   "cell_type": "code",
   "execution_count": 35,
   "id": "0a4298de",
   "metadata": {},
   "outputs": [
    {
     "name": "stdout",
     "output_type": "stream",
     "text": [
      "confusion_matrix\n",
      "[[12182   993]\n",
      " [  984   761]]\n",
      "\n",
      "\n",
      "classification_report\n",
      "              precision    recall  f1-score   support\n",
      "\n",
      "           0       0.93      0.92      0.92     13175\n",
      "           1       0.43      0.44      0.43      1745\n",
      "\n",
      "    accuracy                           0.87     14920\n",
      "   macro avg       0.68      0.68      0.68     14920\n",
      "weighted avg       0.87      0.87      0.87     14920\n",
      "\n",
      "\n",
      "\n",
      "Accuracy: 86.74932975871313\n",
      "\n",
      "\n",
      "ROC Value: 0.6803665664435661\n"
     ]
    }
   ],
   "source": [
    "M16=Perceptron()\n",
    "M16.fit(X_train,y_train)\n",
    "P16=M16.predict(X_test)\n",
    "print('confusion_matrix')\n",
    "print(confusion_matrix(y_test,P16))\n",
    "print('\\n')\n",
    "print('classification_report')\n",
    "print(classification_report(y_test,P16))\n",
    "print('\\n')\n",
    "print('Accuracy:',100*accuracy_score(y_test,P16))\n",
    "print('\\n')\n",
    "print('ROC Value:',roc_auc_score(y_test,P16))"
   ]
  },
  {
   "cell_type": "markdown",
   "id": "71bb4bd9",
   "metadata": {},
   "source": [
    "## LogisticRegressionCV"
   ]
  },
  {
   "cell_type": "code",
   "execution_count": 36,
   "id": "55517f53",
   "metadata": {},
   "outputs": [],
   "source": [
    "from sklearn.linear_model import LogisticRegressionCV"
   ]
  },
  {
   "cell_type": "code",
   "execution_count": 37,
   "id": "3e3af8a3",
   "metadata": {},
   "outputs": [
    {
     "name": "stdout",
     "output_type": "stream",
     "text": [
      "confusion_matrix\n",
      "[[11846  1329]\n",
      " [  850   895]]\n",
      "\n",
      "\n",
      "classification_report\n",
      "              precision    recall  f1-score   support\n",
      "\n",
      "           0       0.93      0.90      0.92     13175\n",
      "           1       0.40      0.51      0.45      1745\n",
      "\n",
      "    accuracy                           0.85     14920\n",
      "   macro avg       0.67      0.71      0.68     14920\n",
      "weighted avg       0.87      0.85      0.86     14920\n",
      "\n",
      "\n",
      "\n",
      "Accuracy: 85.39544235924933\n",
      "\n",
      "\n",
      "ROC Value: 0.7060105587664404\n"
     ]
    }
   ],
   "source": [
    "M17=LogisticRegressionCV()\n",
    "M17.fit(X_train,y_train)\n",
    "P17=M17.predict(X_test)\n",
    "print('confusion_matrix')\n",
    "print(confusion_matrix(y_test,P17))\n",
    "print('\\n')\n",
    "print('classification_report')\n",
    "print(classification_report(y_test,P17))\n",
    "print('\\n')\n",
    "print('Accuracy:',100*accuracy_score(y_test,P17))\n",
    "print('\\n')\n",
    "print('ROC Value:',roc_auc_score(y_test,P17))"
   ]
  },
  {
   "cell_type": "markdown",
   "id": "e89ccc38",
   "metadata": {},
   "source": [
    "## CalibratedClassifierCV"
   ]
  },
  {
   "cell_type": "code",
   "execution_count": 38,
   "id": "cb01e016",
   "metadata": {},
   "outputs": [],
   "source": [
    "from sklearn.calibration import CalibratedClassifierCV"
   ]
  },
  {
   "cell_type": "code",
   "execution_count": 39,
   "id": "ef0d67cd",
   "metadata": {},
   "outputs": [
    {
     "name": "stdout",
     "output_type": "stream",
     "text": [
      "confusion_matrix\n",
      "[[9516 3659]\n",
      " [ 789  956]]\n",
      "\n",
      "\n",
      "classification_report\n",
      "              precision    recall  f1-score   support\n",
      "\n",
      "           0       0.92      0.72      0.81     13175\n",
      "           1       0.21      0.55      0.30      1745\n",
      "\n",
      "    accuracy                           0.70     14920\n",
      "   macro avg       0.57      0.64      0.56     14920\n",
      "weighted avg       0.84      0.70      0.75     14920\n",
      "\n",
      "\n",
      "\n",
      "Accuracy: 70.18766756032171\n",
      "\n",
      "\n",
      "ROC Value: 0.6350640213567634\n"
     ]
    }
   ],
   "source": [
    "M18=CalibratedClassifierCV(M6, cv=2)\n",
    "M18.fit(X_train,y_train)\n",
    "P18=M18.predict(X_test)\n",
    "print('confusion_matrix')\n",
    "print(confusion_matrix(y_test,P18))\n",
    "print('\\n')\n",
    "print('classification_report')\n",
    "print(classification_report(y_test,P18))\n",
    "print('\\n')\n",
    "print('Accuracy:',100*accuracy_score(y_test,P18))\n",
    "print('\\n')\n",
    "print('ROC Value:',roc_auc_score(y_test,P18))"
   ]
  },
  {
   "cell_type": "markdown",
   "id": "212b338e",
   "metadata": {},
   "source": [
    "## PassiveAggressiveClassifier"
   ]
  },
  {
   "cell_type": "code",
   "execution_count": 40,
   "id": "53c32aa0",
   "metadata": {},
   "outputs": [],
   "source": [
    "from sklearn.linear_model import PassiveAggressiveClassifier"
   ]
  },
  {
   "cell_type": "code",
   "execution_count": 41,
   "id": "6124d9a6",
   "metadata": {},
   "outputs": [
    {
     "name": "stdout",
     "output_type": "stream",
     "text": [
      "confusion_matrix\n",
      "[[11792  1383]\n",
      " [  980   765]]\n",
      "\n",
      "\n",
      "classification_report\n",
      "              precision    recall  f1-score   support\n",
      "\n",
      "           0       0.92      0.90      0.91     13175\n",
      "           1       0.36      0.44      0.39      1745\n",
      "\n",
      "    accuracy                           0.84     14920\n",
      "   macro avg       0.64      0.67      0.65     14920\n",
      "weighted avg       0.86      0.84      0.85     14920\n",
      "\n",
      "\n",
      "\n",
      "Accuracy: 84.16219839142092\n",
      "\n",
      "\n",
      "ROC Value: 0.6667119392354409\n"
     ]
    }
   ],
   "source": [
    "M19=PassiveAggressiveClassifier(max_iter=5000, random_state=0,tol=1e-3)\n",
    "M19.fit(X_train,y_train)\n",
    "P19=M19.predict(X_test)\n",
    "print('confusion_matrix')\n",
    "print(confusion_matrix(y_test,P19))\n",
    "print('\\n')\n",
    "print('classification_report')\n",
    "print(classification_report(y_test,P19))\n",
    "print('\\n')\n",
    "print('Accuracy:',100*accuracy_score(y_test,P19))\n",
    "print('\\n')\n",
    "print('ROC Value:',roc_auc_score(y_test,P19))"
   ]
  },
  {
   "cell_type": "markdown",
   "id": "5e998b1d",
   "metadata": {},
   "source": [
    "## QuadraticDiscriminantAnalysis"
   ]
  },
  {
   "cell_type": "code",
   "execution_count": 42,
   "id": "9d9328d2",
   "metadata": {},
   "outputs": [],
   "source": [
    "from sklearn.discriminant_analysis import QuadraticDiscriminantAnalysis"
   ]
  },
  {
   "cell_type": "code",
   "execution_count": 43,
   "id": "d6abc750",
   "metadata": {},
   "outputs": [
    {
     "name": "stdout",
     "output_type": "stream",
     "text": [
      "confusion_matrix\n",
      "[[9783 3392]\n",
      " [ 778  967]]\n",
      "\n",
      "\n",
      "classification_report\n",
      "              precision    recall  f1-score   support\n",
      "\n",
      "           0       0.93      0.74      0.82     13175\n",
      "           1       0.22      0.55      0.32      1745\n",
      "\n",
      "    accuracy                           0.72     14920\n",
      "   macro avg       0.57      0.65      0.57     14920\n",
      "weighted avg       0.84      0.72      0.76     14920\n",
      "\n",
      "\n",
      "\n",
      "Accuracy: 72.05093833780161\n",
      "\n",
      "\n",
      "ROC Value: 0.6483487111454249\n"
     ]
    }
   ],
   "source": [
    "M20=QuadraticDiscriminantAnalysis()\n",
    "M20.fit(X_train,y_train)\n",
    "P20=M20.predict(X_test)\n",
    "print('confusion_matrix')\n",
    "print(confusion_matrix(y_test,P20))\n",
    "print('\\n')\n",
    "print('classification_report')\n",
    "print(classification_report(y_test,P20))\n",
    "print('\\n')\n",
    "print('Accuracy:',100*accuracy_score(y_test,P20))\n",
    "print('\\n')\n",
    "print('ROC Value:',roc_auc_score(y_test,P20))"
   ]
  },
  {
   "cell_type": "markdown",
   "id": "7a007490",
   "metadata": {},
   "source": [
    "## RidgeClassifierCV "
   ]
  },
  {
   "cell_type": "code",
   "execution_count": 44,
   "id": "447952d2",
   "metadata": {},
   "outputs": [],
   "source": [
    "from sklearn.linear_model import RidgeClassifierCV"
   ]
  },
  {
   "cell_type": "code",
   "execution_count": 45,
   "id": "855199ac",
   "metadata": {},
   "outputs": [
    {
     "name": "stdout",
     "output_type": "stream",
     "text": [
      "confusion_matrix\n",
      "[[11996  1179]\n",
      " [ 1083   662]]\n",
      "\n",
      "\n",
      "classification_report\n",
      "              precision    recall  f1-score   support\n",
      "\n",
      "           0       0.92      0.91      0.91     13175\n",
      "           1       0.36      0.38      0.37      1745\n",
      "\n",
      "    accuracy                           0.85     14920\n",
      "   macro avg       0.64      0.64      0.64     14920\n",
      "weighted avg       0.85      0.85      0.85     14920\n",
      "\n",
      "\n",
      "\n",
      "Accuracy: 84.83914209115282\n",
      "\n",
      "\n",
      "ROC Value: 0.6449409807365037\n"
     ]
    }
   ],
   "source": [
    "M21=RidgeClassifierCV()\n",
    "M21.fit(X_train,y_train)\n",
    "P21=M21.predict(X_test)\n",
    "print('confusion_matrix')\n",
    "print(confusion_matrix(y_test,P21))\n",
    "print('\\n')\n",
    "print('classification_report')\n",
    "print(classification_report(y_test,P21))\n",
    "print('\\n')\n",
    "print('Accuracy:',100*accuracy_score(y_test,P21))\n",
    "print('\\n')\n",
    "print('ROC Value:',roc_auc_score(y_test,P21))"
   ]
  },
  {
   "cell_type": "markdown",
   "id": "d5f5584d",
   "metadata": {},
   "source": [
    "## RidgeClassifier"
   ]
  },
  {
   "cell_type": "code",
   "execution_count": 46,
   "id": "ea39e38e",
   "metadata": {},
   "outputs": [],
   "source": [
    "from sklearn.linear_model import RidgeClassifier"
   ]
  },
  {
   "cell_type": "code",
   "execution_count": 47,
   "id": "df173f20",
   "metadata": {},
   "outputs": [
    {
     "name": "stdout",
     "output_type": "stream",
     "text": [
      "confusion_matrix\n",
      "[[11997  1178]\n",
      " [ 1083   662]]\n",
      "\n",
      "\n",
      "classification_report\n",
      "              precision    recall  f1-score   support\n",
      "\n",
      "           0       0.92      0.91      0.91     13175\n",
      "           1       0.36      0.38      0.37      1745\n",
      "\n",
      "    accuracy                           0.85     14920\n",
      "   macro avg       0.64      0.64      0.64     14920\n",
      "weighted avg       0.85      0.85      0.85     14920\n",
      "\n",
      "\n",
      "\n",
      "Accuracy: 84.84584450402146\n",
      "\n",
      "\n",
      "ROC Value: 0.6449789314006404\n"
     ]
    }
   ],
   "source": [
    "M22=RidgeClassifier()\n",
    "M22.fit(X_train,y_train)\n",
    "P22=M22.predict(X_test)\n",
    "print('confusion_matrix')\n",
    "print(confusion_matrix(y_test,P22))\n",
    "print('\\n')\n",
    "print('classification_report')\n",
    "print(classification_report(y_test,P22))\n",
    "print('\\n')\n",
    "print('Accuracy:',100*accuracy_score(y_test,P22))\n",
    "print('\\n')\n",
    "print('ROC Value:',roc_auc_score(y_test,P22))"
   ]
  },
  {
   "cell_type": "markdown",
   "id": "9c64ae71",
   "metadata": {},
   "source": [
    "## ExtraTreesClassifier"
   ]
  },
  {
   "cell_type": "code",
   "execution_count": 48,
   "id": "56e36526",
   "metadata": {},
   "outputs": [],
   "source": [
    "from sklearn.ensemble import ExtraTreesClassifier"
   ]
  },
  {
   "cell_type": "code",
   "execution_count": 49,
   "id": "ec13984d",
   "metadata": {
    "scrolled": false
   },
   "outputs": [
    {
     "name": "stdout",
     "output_type": "stream",
     "text": [
      "confusion_matrix\n",
      "[[12316   859]\n",
      " [  957   788]]\n",
      "\n",
      "\n",
      "classification_report\n",
      "              precision    recall  f1-score   support\n",
      "\n",
      "           0       0.93      0.93      0.93     13175\n",
      "           1       0.48      0.45      0.46      1745\n",
      "\n",
      "    accuracy                           0.88     14920\n",
      "   macro avg       0.70      0.69      0.70     14920\n",
      "weighted avg       0.88      0.88      0.88     14920\n",
      "\n",
      "\n",
      "\n",
      "Accuracy: 87.828418230563\n",
      "\n",
      "\n",
      "ROC Value: 0.6931883451226872\n"
     ]
    }
   ],
   "source": [
    "M23=ExtraTreesClassifier()\n",
    "M23.fit(X_train,y_train)\n",
    "P23=M23.predict(X_test)\n",
    "print('confusion_matrix')\n",
    "print(confusion_matrix(y_test,P23))\n",
    "print('\\n')\n",
    "print('classification_report')\n",
    "print(classification_report(y_test,P23))\n",
    "print('\\n')\n",
    "print('Accuracy:',100*accuracy_score(y_test,P23))\n",
    "print('\\n')\n",
    "print('ROC Value:',roc_auc_score(y_test,P23))"
   ]
  },
  {
   "cell_type": "markdown",
   "id": "ed7d4353",
   "metadata": {},
   "source": [
    "## BernoulliNB"
   ]
  },
  {
   "cell_type": "code",
   "execution_count": 50,
   "id": "a02d3084",
   "metadata": {},
   "outputs": [],
   "source": [
    "from sklearn.naive_bayes import BernoulliNB"
   ]
  },
  {
   "cell_type": "code",
   "execution_count": 51,
   "id": "cf287002",
   "metadata": {},
   "outputs": [
    {
     "name": "stdout",
     "output_type": "stream",
     "text": [
      "confusion_matrix\n",
      "[[11279  1896]\n",
      " [ 1047   698]]\n",
      "\n",
      "\n",
      "classification_report\n",
      "              precision    recall  f1-score   support\n",
      "\n",
      "           0       0.92      0.86      0.88     13175\n",
      "           1       0.27      0.40      0.32      1745\n",
      "\n",
      "    accuracy                           0.80     14920\n",
      "   macro avg       0.59      0.63      0.60     14920\n",
      "weighted avg       0.84      0.80      0.82     14920\n",
      "\n",
      "\n",
      "\n",
      "Accuracy: 80.27479892761394\n",
      "\n",
      "\n",
      "ROC Value: 0.628045540796964\n"
     ]
    }
   ],
   "source": [
    "M24=BernoulliNB()\n",
    "M24.fit(X_train,y_train)\n",
    "P24=M24.predict(X_test)\n",
    "print('confusion_matrix')\n",
    "print(confusion_matrix(y_test,P24))\n",
    "print('\\n')\n",
    "print('classification_report')\n",
    "print(classification_report(y_test,P24))\n",
    "print('\\n')\n",
    "print('Accuracy:',100*accuracy_score(y_test,P24))\n",
    "print('\\n')\n",
    "print('ROC Value:',roc_auc_score(y_test,P24))"
   ]
  },
  {
   "cell_type": "markdown",
   "id": "65c0736a",
   "metadata": {},
   "source": [
    "## LinearDiscriminantAnalysis "
   ]
  },
  {
   "cell_type": "code",
   "execution_count": 52,
   "id": "77fa253a",
   "metadata": {},
   "outputs": [],
   "source": [
    "from sklearn.discriminant_analysis import LinearDiscriminantAnalysis"
   ]
  },
  {
   "cell_type": "code",
   "execution_count": 53,
   "id": "e88ead8e",
   "metadata": {},
   "outputs": [
    {
     "name": "stdout",
     "output_type": "stream",
     "text": [
      "confusion_matrix\n",
      "[[11996  1179]\n",
      " [ 1083   662]]\n",
      "\n",
      "\n",
      "classification_report\n",
      "              precision    recall  f1-score   support\n",
      "\n",
      "           0       0.92      0.91      0.91     13175\n",
      "           1       0.36      0.38      0.37      1745\n",
      "\n",
      "    accuracy                           0.85     14920\n",
      "   macro avg       0.64      0.64      0.64     14920\n",
      "weighted avg       0.85      0.85      0.85     14920\n",
      "\n",
      "\n",
      "\n",
      "Accuracy: 84.83914209115282\n",
      "\n",
      "\n",
      "ROC Value: 0.6449409807365037\n"
     ]
    }
   ],
   "source": [
    "M25=LinearDiscriminantAnalysis()\n",
    "M25.fit(X_train,y_train)\n",
    "P25=M25.predict(X_test)\n",
    "print('confusion_matrix')\n",
    "print(confusion_matrix(y_test,P25))\n",
    "print('\\n')\n",
    "print('classification_report')\n",
    "print(classification_report(y_test,P25))\n",
    "print('\\n')\n",
    "print('Accuracy:',100*accuracy_score(y_test,P25))\n",
    "print('\\n')\n",
    "print('ROC Value:',roc_auc_score(y_test,P25))"
   ]
  },
  {
   "cell_type": "markdown",
   "id": "6fe5fa75",
   "metadata": {},
   "source": [
    "## NuSVC"
   ]
  },
  {
   "cell_type": "code",
   "execution_count": 54,
   "id": "af02f296",
   "metadata": {},
   "outputs": [],
   "source": [
    "from sklearn.svm import NuSVC"
   ]
  },
  {
   "cell_type": "code",
   "execution_count": 55,
   "id": "19568f5d",
   "metadata": {},
   "outputs": [
    {
     "name": "stdout",
     "output_type": "stream",
     "text": [
      "confusion_matrix\n",
      "[[12199   976]\n",
      " [ 1423   322]]\n",
      "\n",
      "\n",
      "classification_report\n",
      "              precision    recall  f1-score   support\n",
      "\n",
      "           0       0.90      0.93      0.91     13175\n",
      "           1       0.25      0.18      0.21      1745\n",
      "\n",
      "    accuracy                           0.84     14920\n",
      "   macro avg       0.57      0.56      0.56     14920\n",
      "weighted avg       0.82      0.84      0.83     14920\n",
      "\n",
      "\n",
      "\n",
      "Accuracy: 83.92091152815013\n",
      "\n",
      "\n",
      "ROC Value: 0.5552237621178427\n"
     ]
    }
   ],
   "source": [
    "M26=NuSVC()\n",
    "M26.fit(X_train,y_train)\n",
    "P26=M26.predict(X_test)\n",
    "print('confusion_matrix')\n",
    "print(confusion_matrix(y_test,P26))\n",
    "print('\\n')\n",
    "print('classification_report')\n",
    "print(classification_report(y_test,P26))\n",
    "print('\\n')\n",
    "print('Accuracy:',100*accuracy_score(y_test,P26))\n",
    "print('\\n')\n",
    "print('ROC Value:',roc_auc_score(y_test,P26))"
   ]
  },
  {
   "cell_type": "markdown",
   "id": "553f372a",
   "metadata": {},
   "source": [
    "## NearestCentroid"
   ]
  },
  {
   "cell_type": "code",
   "execution_count": 56,
   "id": "549f31de",
   "metadata": {},
   "outputs": [],
   "source": [
    "from sklearn.neighbors import NearestCentroid"
   ]
  },
  {
   "cell_type": "code",
   "execution_count": 57,
   "id": "2ce14a3d",
   "metadata": {},
   "outputs": [
    {
     "name": "stdout",
     "output_type": "stream",
     "text": [
      "confusion_matrix\n",
      "[[10172  3003]\n",
      " [  860   885]]\n",
      "\n",
      "\n",
      "classification_report\n",
      "              precision    recall  f1-score   support\n",
      "\n",
      "           0       0.92      0.77      0.84     13175\n",
      "           1       0.23      0.51      0.31      1745\n",
      "\n",
      "    accuracy                           0.74     14920\n",
      "   macro avg       0.57      0.64      0.58     14920\n",
      "weighted avg       0.84      0.74      0.78     14920\n",
      "\n",
      "\n",
      "\n",
      "Accuracy: 74.10857908847184\n",
      "\n",
      "\n",
      "ROC Value: 0.6396158174888404\n"
     ]
    }
   ],
   "source": [
    "M27=NearestCentroid()\n",
    "M27.fit(X_train,y_train)\n",
    "P27=M27.predict(X_test)\n",
    "print('confusion_matrix')\n",
    "print(confusion_matrix(y_test,P27))\n",
    "print('\\n')\n",
    "print('classification_report')\n",
    "print(classification_report(y_test,P27))\n",
    "print('\\n')\n",
    "print('Accuracy:',100*accuracy_score(y_test,P27))\n",
    "print('\\n')\n",
    "print('ROC Value:',roc_auc_score(y_test,P27))"
   ]
  },
  {
   "cell_type": "markdown",
   "id": "5e7055fc",
   "metadata": {},
   "source": [
    "## DummyClassifier"
   ]
  },
  {
   "cell_type": "code",
   "execution_count": 58,
   "id": "0434b37d",
   "metadata": {},
   "outputs": [],
   "source": [
    "from sklearn.dummy import DummyClassifier"
   ]
  },
  {
   "cell_type": "code",
   "execution_count": 59,
   "id": "81a68b17",
   "metadata": {},
   "outputs": [
    {
     "name": "stdout",
     "output_type": "stream",
     "text": [
      "confusion_matrix\n",
      "[[13175     0]\n",
      " [ 1745     0]]\n",
      "\n",
      "\n",
      "classification_report\n",
      "              precision    recall  f1-score   support\n",
      "\n",
      "           0       0.88      1.00      0.94     13175\n",
      "           1       0.00      0.00      0.00      1745\n",
      "\n",
      "    accuracy                           0.88     14920\n",
      "   macro avg       0.44      0.50      0.47     14920\n",
      "weighted avg       0.78      0.88      0.83     14920\n",
      "\n",
      "\n",
      "\n",
      "Accuracy: 88.30428954423593\n",
      "\n",
      "\n",
      "ROC Value: 0.5\n"
     ]
    }
   ],
   "source": [
    "M28=DummyClassifier()\n",
    "M28.fit(X_train,y_train)\n",
    "P28=M28.predict(X_test)\n",
    "print('confusion_matrix')\n",
    "print(confusion_matrix(y_test,P28))\n",
    "print('\\n')\n",
    "print('classification_report')\n",
    "print(classification_report(y_test,P28))\n",
    "print('\\n')\n",
    "print('Accuracy:',100*accuracy_score(y_test,P28))\n",
    "print('\\n')\n",
    "print('ROC Value:',roc_auc_score(y_test,P28))"
   ]
  },
  {
   "cell_type": "code",
   "execution_count": 60,
   "id": "8a4d86d9",
   "metadata": {},
   "outputs": [],
   "source": [
    "Name=['Logistic Regression','Random Forest Classifier','Decision Tree','Naive Bayes classifier', 'SVM','KNN', \n",
    "      'GBBoosting','Histogram Boosting Classifier','XGB Boosting','Light GBM',\n",
    "      'CAT Boosting','Neural_Network','Bagging_classifier','LinearSVC','SGD Classifier','Perceptron','LogisticRegressionCV',\n",
    "     'CalibratedClassifierCV','PassiveAggressiveClassifier','QuadraticDiscriminantAnalysis','RidgeClassifierCV',\n",
    "     'RidgeClassifier','ExtraTreesClassifier','BernoulliNB','LinearDiscriminantAnalysis ','NuSVC','NearestCentroid',\n",
    "      'DummyClassifier']\n",
    "clfs= [LogisticRegression(),RandomForestClassifier(),DecisionTreeClassifier(),GaussianNB(),SVC(),KNeighborsClassifier(n_neighbors=2),\n",
    "      GradientBoostingClassifier(n_estimators=100, learning_rate=1.0, max_depth=1),\n",
    "       HistGradientBoostingClassifier(),XGBClassifier(),LGBMClassifier(),MLPClassifier(),\n",
    "       CatBoostClassifier(verbose=0),BaggingClassifier(base_estimator=GradientBoostingClassifier()),LinearSVC(),SGDClassifier(),\n",
    "      Perceptron(),LogisticRegressionCV(),CalibratedClassifierCV(GaussianNB(), cv=2),\n",
    "       PassiveAggressiveClassifier(max_iter=1000, random_state=0,tol=1e-3),QuadraticDiscriminantAnalysis(),\n",
    "      RidgeClassifierCV(),RidgeClassifier(),ExtraTreesClassifier(),BernoulliNB(),LinearDiscriminantAnalysis(),NuSVC(),\n",
    "       NearestCentroid(),DummyClassifier()]"
   ]
  },
  {
   "cell_type": "code",
   "execution_count": 61,
   "id": "6b355b36",
   "metadata": {},
   "outputs": [],
   "source": [
    "Roc_score=[]\n",
    "Accuracy_score=[]\n",
    "Balenced_accuracy=[]\n",
    "F1_score=[]\n",
    "Confusion_metrix=[]\n",
    "Classification_Report=[]\n",
    "\n",
    "for i in clfs:\n",
    "    i.fit(X_train,y_train)\n",
    "    \n",
    "    Roc_value=roc_auc_score(y_test,i.predict(X_test))\n",
    "    acc_value=100*accuracy_score(y_test,i.predict(X_test))\n",
    "    Bal_acc_value=balanced_accuracy_score(y_test,i.predict(X_test))\n",
    "    F1_value=f1_score(y_test,i.predict(X_test))\n",
    "    Confusion_metrix_value=confusion_matrix(y_test,i.predict(X_test))\n",
    "    Classification_Report_value=classification_report(y_test,i.predict(X_test))\n",
    "    \n",
    "    Roc_score.append(Roc_value)\n",
    "    Accuracy_score.append(acc_value)\n",
    "    Balenced_accuracy.append(Bal_acc_value)\n",
    "    F1_score.append(F1_value)\n",
    "    Confusion_metrix.append(Confusion_metrix_value)\n",
    "    Classification_Report.append(Classification_Report_value)"
   ]
  },
  {
   "cell_type": "code",
   "execution_count": 62,
   "id": "dcce1674",
   "metadata": {
    "scrolled": false
   },
   "outputs": [
    {
     "name": "stdout",
     "output_type": "stream",
     "text": [
      "                                   AROC   Accuracy  Bal Accu  F1 Score\n",
      "Bagging_classifier             0.784847  86.762735  0.784847  0.544616\n",
      "Light GBM                      0.768708  88.083110  0.768708  0.549873\n",
      "Histogram Boosting Classifier  0.767621  88.022788  0.767621  0.547938\n",
      "Neural_Network                 0.757556  88.176944  0.757556  0.540864\n",
      "XGB Boosting                   0.746267  87.895442  0.746267  0.525486\n",
      "CAT Boosting                   0.740977  87.312332  0.740977  0.511736\n",
      "Random Forest Classifier       0.737779  88.284182  0.737779  0.522665\n",
      "GBBoosting                     0.732960  86.554960  0.732960  0.493434\n",
      "LogisticRegressionCV           0.706011  85.395442  0.706011  0.450995\n",
      "SVM                            0.700137  86.333780  0.700137  0.454667\n",
      "Logistic Regression            0.698519  85.301609  0.698519  0.441558\n",
      "LinearSVC                      0.695439  85.328418  0.695439  0.438286\n",
      "Decision Tree                  0.690711  84.142091  0.690711  0.421516\n",
      "ExtraTreesClassifier           0.690306  87.714477  0.690306  0.459451\n",
      "SGD Classifier                 0.683035  86.079088  0.683035  0.431115\n",
      "Perceptron                     0.680367  86.749330  0.680367  0.434981\n",
      "PassiveAggressiveClassifier    0.666712  84.162198  0.666712  0.393013\n",
      "QuadraticDiscriminantAnalysis  0.648349  72.050938  0.648349  0.316841\n",
      "RidgeClassifier                0.644979  84.845845  0.644979  0.369317\n",
      "RidgeClassifierCV              0.644941  84.839142  0.644941  0.369214\n",
      "LinearDiscriminantAnalysis     0.644941  84.839142  0.644941  0.369214\n",
      "Naive Bayes classifier         0.642249  67.680965  0.642249  0.301767\n",
      "NearestCentroid                0.639616  74.108579  0.639616  0.314220\n",
      "CalibratedClassifierCV         0.635064  70.187668  0.635064  0.300629\n",
      "BernoulliNB                    0.628046  80.274799  0.628046  0.321733\n",
      "KNN                            0.625436  87.057641  0.625436  0.355689\n",
      "NuSVC                          0.555224  83.920912  0.555224  0.211633\n",
      "DummyClassifier                0.500000  88.304290  0.500000  0.000000\n"
     ]
    }
   ],
   "source": [
    "dict={'AROC':Roc_score ,'Accuracy':Accuracy_score,'Bal Accu':Balenced_accuracy,'F1 Score':F1_score}\n",
    "score = pd.DataFrame(dict, index=Name)\n",
    "score=score.sort_values(by='AROC',ascending=False)\n",
    "print(score)"
   ]
  },
  {
   "cell_type": "code",
   "execution_count": 63,
   "id": "3d3fee5a",
   "metadata": {
    "scrolled": false
   },
   "outputs": [
    {
     "data": {
      "image/png": "[encoded data removed]",
      "text/plain": [
       "<Figure size 432x288 with 2 Axes>"
      ]
     },
     "metadata": {
      "needs_background": "light"
     },
     "output_type": "display_data"
    },
    {
     "data": {
      "image/png": "[encoded data removed]",
      "text/plain": [
       "<Figure size 432x288 with 2 Axes>"
      ]
     },
     "metadata": {
      "needs_background": "light"
     },
     "output_type": "display_data"
    },
    {
     "data": {
      "image/png": "[encoded data removed]",
      "text/plain": [
       "<Figure size 432x288 with 2 Axes>"
      ]
     },
     "metadata": {
      "needs_background": "light"
     },
     "output_type": "display_data"
    },
    {
     "data": {
      "image/png": "[encoded data removed]",
      "text/plain": [
       "<Figure size 432x288 with 2 Axes>"
      ]
     },
     "metadata": {
      "needs_background": "light"
     },
     "output_type": "display_data"
    },
    {
     "data": {
      "image/png": "[encoded data removed]",
      "text/plain": [
       "<Figure size 432x288 with 2 Axes>"
      ]
     },
     "metadata": {
      "needs_background": "light"
     },
     "output_type": "display_data"
    },
    {
     "data": {
      "image/png": "[encoded data removed]",
      "text/plain": [
       "<Figure size 432x288 with 2 Axes>"
      ]
     },
     "metadata": {
      "needs_background": "light"
     },
     "output_type": "display_data"
    },
    {
     "data": {
      "image/png": "[encoded data removed]",
      "text/plain": [
       "<Figure size 432x288 with 2 Axes>"
      ]
     },
     "metadata": {
      "needs_background": "light"
     },
     "output_type": "display_data"
    },
    {
     "data": {
      "image/png": "[encoded data removed]",
      "text/plain": [
       "<Figure size 432x288 with 2 Axes>"
      ]
     },
     "metadata": {
      "needs_background": "light"
     },
     "output_type": "display_data"
    },
    {
     "data": {
      "image/png": "[encoded data removed]",
      "text/plain": [
       "<Figure size 432x288 with 2 Axes>"
      ]
     },
     "metadata": {
      "needs_background": "light"
     },
     "output_type": "display_data"
    },
    {
     "data": {
      "image/png": "[encoded data removed]",
      "text/plain": [
       "<Figure size 432x288 with 2 Axes>"
      ]
     },
     "metadata": {
      "needs_background": "light"
     },
     "output_type": "display_data"
    },
    {
     "data": {
      "image/png": "[encoded data removed]",
      "text/plain": [
       "<Figure size 432x288 with 2 Axes>"
      ]
     },
     "metadata": {
      "needs_background": "light"
     },
     "output_type": "display_data"
    },
    {
     "data": {
      "image/png": "[encoded data removed]",
      "text/plain": [
       "<Figure size 432x288 with 2 Axes>"
      ]
     },
     "metadata": {
      "needs_background": "light"
     },
     "output_type": "display_data"
    },
    {
     "data": {
      "image/png": "[encoded data removed]",
      "text/plain": [
       "<Figure size 432x288 with 2 Axes>"
      ]
     },
     "metadata": {
      "needs_background": "light"
     },
     "output_type": "display_data"
    },
    {
     "data": {
      "image/png": "[encoded data removed]",
      "text/plain": [
       "<Figure size 432x288 with 2 Axes>"
      ]
     },
     "metadata": {
      "needs_background": "light"
     },
     "output_type": "display_data"
    },
    {
     "data": {
      "image/png": "[encoded data removed]",
      "text/plain": [
       "<Figure size 432x288 with 2 Axes>"
      ]
     },
     "metadata": {
      "needs_background": "light"
     },
     "output_type": "display_data"
    },
    {
     "data": {
      "image/png": "[encoded data removed]",
      "text/plain": [
       "<Figure size 432x288 with 2 Axes>"
      ]
     },
     "metadata": {
      "needs_background": "light"
     },
     "output_type": "display_data"
    },
    {
     "data": {
      "image/png": "[encoded data removed]",
      "text/plain": [
       "<Figure size 432x288 with 2 Axes>"
      ]
     },
     "metadata": {
      "needs_background": "light"
     },
     "output_type": "display_data"
    },
    {
     "data": {
      "image/png": "[encoded data removed]",
      "text/plain": [
       "<Figure size 432x288 with 2 Axes>"
      ]
     },
     "metadata": {
      "needs_background": "light"
     },
     "output_type": "display_data"
    },
    {
     "data": {
      "image/png": "[encoded data removed]",
      "text/plain": [
       "<Figure size 432x288 with 2 Axes>"
      ]
     },
     "metadata": {
      "needs_background": "light"
     },
     "output_type": "display_data"
    },
    {
     "data": {
      "image/png": "[encoded data removed]",
      "text/plain": [
       "<Figure size 432x288 with 2 Axes>"
      ]
     },
     "metadata": {
      "needs_background": "light"
     },
     "output_type": "display_data"
    },
    {
     "data": {
      "image/png": "[encoded data removed]",
      "text/plain": [
       "<Figure size 432x288 with 2 Axes>"
      ]
     },
     "metadata": {
      "needs_background": "light"
     },
     "output_type": "display_data"
    },
    {
     "data": {
      "image/png": "[encoded data removed]",
      "text/plain": [
       "<Figure size 432x288 with 2 Axes>"
      ]
     },
     "metadata": {
      "needs_background": "light"
     },
     "output_type": "display_data"
    },
    {
     "data": {
      "image/png": "[encoded data removed]",
      "text/plain": [
       "<Figure size 432x288 with 2 Axes>"
      ]
     },
     "metadata": {
      "needs_background": "light"
     },
     "output_type": "display_data"
    },
    {
     "data": {
      "image/png": "[encoded data removed]",
      "text/plain": [
       "<Figure size 432x288 with 2 Axes>"
      ]
     },
     "metadata": {
      "needs_background": "light"
     },
     "output_type": "display_data"
    },
    {
     "data": {
      "image/png": "[encoded data removed]",
      "text/plain": [
       "<Figure size 432x288 with 2 Axes>"
      ]
     },
     "metadata": {
      "needs_background": "light"
     },
     "output_type": "display_data"
    },
    {
     "data": {
      "image/png": "[encoded data removed]",
      "text/plain": [
       "<Figure size 432x288 with 2 Axes>"
      ]
     },
     "metadata": {
      "needs_background": "light"
     },
     "output_type": "display_data"
    },
    {
     "data": {
      "image/png": "[encoded data removed]",
      "text/plain": [
       "<Figure size 432x288 with 2 Axes>"
      ]
     },
     "metadata": {
      "needs_background": "light"
     },
     "output_type": "display_data"
    },
    {
     "data": {
      "image/png": "[encoded data removed]",
      "text/plain": [
       "<Figure size 432x288 with 2 Axes>"
      ]
     },
     "metadata": {
      "needs_background": "light"
     },
     "output_type": "display_data"
    }
   ],
   "source": [
    "for i in range (len(Confusion_metrix)):\n",
    "    ax = plt.axes()\n",
    "    ax.set_title(Name[i])\n",
    "    sns.heatmap(Confusion_metrix[i],annot=True,cmap=\"YlGnBu\",ax=ax)\n",
    "    ax.set_xlabel('Predicted Values')\n",
    "    ax.set_ylabel('Actual Values')\n",
    "    plt.show()"
   ]
  },
  {
   "cell_type": "code",
   "execution_count": 64,
   "id": "c22c2ebf",
   "metadata": {
    "scrolled": true
   },
   "outputs": [
    {
     "data": {
      "text/plain": [
       "<sklearn.metrics._plot.roc_curve.RocCurveDisplay at 0x2230001cfa0>"
      ]
     },
     "execution_count": 64,
     "metadata": {},
     "output_type": "execute_result"
    },
    {
     "data": {
      "image/png": "[encoded data removed]",
      "text/plain": [
       "<Figure size 432x288 with 1 Axes>"
      ]
     },
     "metadata": {
      "needs_background": "light"
     },
     "output_type": "display_data"
    }
   ],
   "source": [
    "from sklearn.metrics import roc_curve, auc, RocCurveDisplay\n",
    "RocCurveDisplay.from_estimator(M13, X_test, y_test)"
   ]
  },
  {
   "cell_type": "markdown",
   "id": "e4c778bc",
   "metadata": {},
   "source": [
    "## Cross Validation"
   ]
  },
  {
   "cell_type": "code",
   "execution_count": 65,
   "id": "2ee5bcd9",
   "metadata": {},
   "outputs": [],
   "source": [
    "from sklearn.model_selection import KFold,cross_val_score"
   ]
  },
  {
   "cell_type": "code",
   "execution_count": 66,
   "id": "95e7274f",
   "metadata": {},
   "outputs": [],
   "source": [
    "kfold=KFold(n_splits=5,shuffle=False, random_state=None)\n",
    "kfold=KFold(n_splits=5,shuffle=False, random_state=None)\n",
    "results_mean=[]\n",
    "\n",
    "for i in clfs:\n",
    "    csv=cross_val_score(i,X_train,y_train,cv=kfold)\n",
    "    mean_score=csv.mean()\n",
    "    results_mean.append(mean_score)\n",
    "\n",
    "score= pd.DataFrame(results_mean,index=Name)\n",
    "score.columns=['Accuracy']"
   ]
  },
  {
   "cell_type": "code",
   "execution_count": 67,
   "id": "0e730269",
   "metadata": {},
   "outputs": [
    {
     "data": {
      "text/html": [
       "<div>\n",
       "<style scoped>\n",
       "    .dataframe tbody tr th:only-of-type {\n",
       "        vertical-align: middle;\n",
       "    }\n",
       "\n",
       "    .dataframe tbody tr th {\n",
       "        vertical-align: top;\n",
       "    }\n",
       "\n",
       "    .dataframe thead th {\n",
       "        text-align: right;\n",
       "    }\n",
       "</style>\n",
       "<table border=\"1\" class=\"dataframe\">\n",
       "  <thead>\n",
       "    <tr style=\"text-align: right;\">\n",
       "      <th></th>\n",
       "      <th>Accuracy</th>\n",
       "    </tr>\n",
       "  </thead>\n",
       "  <tbody>\n",
       "    <tr>\n",
       "      <th>Random Forest Classifier</th>\n",
       "      <td>0.926944</td>\n",
       "    </tr>\n",
       "    <tr>\n",
       "      <th>XGB Boosting</th>\n",
       "      <td>0.921896</td>\n",
       "    </tr>\n",
       "    <tr>\n",
       "      <th>ExtraTreesClassifier</th>\n",
       "      <td>0.920870</td>\n",
       "    </tr>\n",
       "    <tr>\n",
       "      <th>Neural_Network</th>\n",
       "      <td>0.920793</td>\n",
       "    </tr>\n",
       "    <tr>\n",
       "      <th>Light GBM</th>\n",
       "      <td>0.918414</td>\n",
       "    </tr>\n",
       "    <tr>\n",
       "      <th>Histogram Boosting Classifier</th>\n",
       "      <td>0.918008</td>\n",
       "    </tr>\n",
       "    <tr>\n",
       "      <th>CAT Boosting</th>\n",
       "      <td>0.908704</td>\n",
       "    </tr>\n",
       "    <tr>\n",
       "      <th>GBBoosting</th>\n",
       "      <td>0.899226</td>\n",
       "    </tr>\n",
       "    <tr>\n",
       "      <th>SGD Classifier</th>\n",
       "      <td>0.890928</td>\n",
       "    </tr>\n",
       "    <tr>\n",
       "      <th>Decision Tree</th>\n",
       "      <td>0.889284</td>\n",
       "    </tr>\n",
       "    <tr>\n",
       "      <th>SVM</th>\n",
       "      <td>0.889033</td>\n",
       "    </tr>\n",
       "    <tr>\n",
       "      <th>Bagging_classifier</th>\n",
       "      <td>0.888781</td>\n",
       "    </tr>\n",
       "    <tr>\n",
       "      <th>LogisticRegressionCV</th>\n",
       "      <td>0.888279</td>\n",
       "    </tr>\n",
       "    <tr>\n",
       "      <th>Perceptron</th>\n",
       "      <td>0.887911</td>\n",
       "    </tr>\n",
       "    <tr>\n",
       "      <th>LinearSVC</th>\n",
       "      <td>0.887195</td>\n",
       "    </tr>\n",
       "    <tr>\n",
       "      <th>Logistic Regression</th>\n",
       "      <td>0.886576</td>\n",
       "    </tr>\n",
       "    <tr>\n",
       "      <th>LinearDiscriminantAnalysis</th>\n",
       "      <td>0.877524</td>\n",
       "    </tr>\n",
       "    <tr>\n",
       "      <th>RidgeClassifierCV</th>\n",
       "      <td>0.876944</td>\n",
       "    </tr>\n",
       "    <tr>\n",
       "      <th>RidgeClassifier</th>\n",
       "      <td>0.876886</td>\n",
       "    </tr>\n",
       "    <tr>\n",
       "      <th>KNN</th>\n",
       "      <td>0.875242</td>\n",
       "    </tr>\n",
       "    <tr>\n",
       "      <th>PassiveAggressiveClassifier</th>\n",
       "      <td>0.862611</td>\n",
       "    </tr>\n",
       "    <tr>\n",
       "      <th>NuSVC</th>\n",
       "      <td>0.828066</td>\n",
       "    </tr>\n",
       "    <tr>\n",
       "      <th>QuadraticDiscriminantAnalysis</th>\n",
       "      <td>0.817544</td>\n",
       "    </tr>\n",
       "    <tr>\n",
       "      <th>Naive Bayes classifier</th>\n",
       "      <td>0.802147</td>\n",
       "    </tr>\n",
       "    <tr>\n",
       "      <th>NearestCentroid</th>\n",
       "      <td>0.797698</td>\n",
       "    </tr>\n",
       "    <tr>\n",
       "      <th>CalibratedClassifierCV</th>\n",
       "      <td>0.777718</td>\n",
       "    </tr>\n",
       "    <tr>\n",
       "      <th>BernoulliNB</th>\n",
       "      <td>0.750928</td>\n",
       "    </tr>\n",
       "    <tr>\n",
       "      <th>DummyClassifier</th>\n",
       "      <td>0.100000</td>\n",
       "    </tr>\n",
       "  </tbody>\n",
       "</table>\n",
       "</div>"
      ],
      "text/plain": [
       "                               Accuracy\n",
       "Random Forest Classifier       0.926944\n",
       "XGB Boosting                   0.921896\n",
       "ExtraTreesClassifier           0.920870\n",
       "Neural_Network                 0.920793\n",
       "Light GBM                      0.918414\n",
       "Histogram Boosting Classifier  0.918008\n",
       "CAT Boosting                   0.908704\n",
       "GBBoosting                     0.899226\n",
       "SGD Classifier                 0.890928\n",
       "Decision Tree                  0.889284\n",
       "SVM                            0.889033\n",
       "Bagging_classifier             0.888781\n",
       "LogisticRegressionCV           0.888279\n",
       "Perceptron                     0.887911\n",
       "LinearSVC                      0.887195\n",
       "Logistic Regression            0.886576\n",
       "LinearDiscriminantAnalysis     0.877524\n",
       "RidgeClassifierCV              0.876944\n",
       "RidgeClassifier                0.876886\n",
       "KNN                            0.875242\n",
       "PassiveAggressiveClassifier    0.862611\n",
       "NuSVC                          0.828066\n",
       "QuadraticDiscriminantAnalysis  0.817544\n",
       "Naive Bayes classifier         0.802147\n",
       "NearestCentroid                0.797698\n",
       "CalibratedClassifierCV         0.777718\n",
       "BernoulliNB                    0.750928\n",
       "DummyClassifier                0.100000"
      ]
     },
     "execution_count": 67,
     "metadata": {},
     "output_type": "execute_result"
    }
   ],
   "source": [
    "score.sort_values(by='Accuracy',ascending=False)"
   ]
  },
  {
   "cell_type": "markdown",
   "id": "263ef791",
   "metadata": {},
   "source": [
    "# Feature Selection"
   ]
  },
  {
   "cell_type": "code",
   "execution_count": 68,
   "id": "352f911e",
   "metadata": {},
   "outputs": [],
   "source": [
    "from sklearn.feature_selection import SelectFromModel, RFECV"
   ]
  },
  {
   "cell_type": "code",
   "execution_count": 72,
   "id": "ebf3f829",
   "metadata": {
    "scrolled": false
   },
   "outputs": [
    {
     "name": "stdout",
     "output_type": "stream",
     "text": [
      "Optimal number of features : 25\n"
     ]
    }
   ],
   "source": [
    "model = RandomForestClassifier()\n",
    "\n",
    "rfecv = RFECV(estimator=model, step=1, cv=kfold, scoring='accuracy', n_jobs=2)\n",
    "\n",
    "rfecv = rfecv.fit(X_train, y_train)\n",
    "\n",
    "print('Optimal number of features :', rfecv.n_features_)\n"
   ]
  },
  {
   "cell_type": "code",
   "execution_count": 93,
   "id": "1ba0b41f",
   "metadata": {},
   "outputs": [
    {
     "name": "stdout",
     "output_type": "stream",
     "text": [
      "confusion_matrix\n",
      "[[6632 6543]\n",
      " [ 999  746]]\n",
      "\n",
      "\n",
      "classification_report\n",
      "              precision    recall  f1-score   support\n",
      "\n",
      "           0       0.87      0.50      0.64     13175\n",
      "           1       0.10      0.43      0.17      1745\n",
      "\n",
      "    accuracy                           0.49     14920\n",
      "   macro avg       0.49      0.47      0.40     14920\n",
      "weighted avg       0.78      0.49      0.58     14920\n",
      "\n",
      "\n",
      "\n",
      "Accuracy: 49.45040214477211\n",
      "\n",
      "\n",
      "ROC Value: 0.4654423862159709\n"
     ]
    }
   ],
   "source": [
    "FSP1=rfecv.predict(X_test)\n",
    "print('confusion_matrix')\n",
    "print(confusion_matrix(y_test,FSP1))\n",
    "print('\\n')\n",
    "print('classification_report')\n",
    "print(classification_report(y_test,FSP1))\n",
    "print('\\n')\n",
    "print('Accuracy:',100*accuracy_score(y_test,FSP1))\n",
    "print('\\n')\n",
    "print('ROC Value:',roc_auc_score(y_test,FSP1))"
   ]
  },
  {
   "cell_type": "code",
   "execution_count": 94,
   "id": "bdbad073",
   "metadata": {},
   "outputs": [
    {
     "name": "stdout",
     "output_type": "stream",
     "text": [
      "Best features : Index(['age', 'education', 'balance', 'housing', 'loan', 'month', 'duration',\n",
      "       'campaign', 'pdays', 'previous', 'blue-collar', 'entrepreneur',\n",
      "       'housemaid', 'management', 'retired', 'self-employed', 'services',\n",
      "       'student', 'technician', 'unemployed', 'married', 'single', 'other',\n",
      "       'success', 'unknown'],\n",
      "      dtype='object')\n"
     ]
    }
   ],
   "source": [
    "print('Best features :', X.columns[rfecv.support_])"
   ]
  },
  {
   "cell_type": "code",
   "execution_count": 95,
   "id": "bd95d852",
   "metadata": {},
   "outputs": [
    {
     "data": {
      "image/png": "[encoded data removed]",
      "text/plain": [
       "<Figure size 432x288 with 1 Axes>"
      ]
     },
     "metadata": {
      "needs_background": "light"
     },
     "output_type": "display_data"
    }
   ],
   "source": [
    "# # Plot number of features VS. cross-validation scores\n",
    "\n",
    "plt.figure()\n",
    "plt.xlabel(\"Number of features selected (RFE)\")\n",
    "plt.ylabel(\"Cross validation score (Accuracy)\")\n",
    "plt.plot(range(1, len(rfecv.grid_scores_) + 1), rfecv.grid_scores_)\n",
    "plt.show()"
   ]
  },
  {
   "cell_type": "markdown",
   "id": "2d3d2841",
   "metadata": {},
   "source": [
    "## RFE"
   ]
  },
  {
   "cell_type": "code",
   "execution_count": 96,
   "id": "8a231e25",
   "metadata": {},
   "outputs": [],
   "source": [
    "from sklearn.feature_selection import RFE "
   ]
  },
  {
   "cell_type": "code",
   "execution_count": 102,
   "id": "84514a7f",
   "metadata": {
    "scrolled": false
   },
   "outputs": [
    {
     "name": "stdout",
     "output_type": "stream",
     "text": [
      "No of Features:5\n",
      "Accuracy: 84.41018766756032\n",
      "ROC Value: 0.7663061172338426\n",
      "No of Features:6\n",
      "Accuracy: 85.73056300268097\n",
      "ROC Value: 0.7869572592878541\n",
      "No of Features:7\n",
      "Accuracy: 85.85120643431635\n",
      "ROC Value: 0.7752112568846745\n",
      "No of Features:8\n",
      "Accuracy: 86.36058981233245\n",
      "ROC Value: 0.782321406240655\n",
      "No of Features:9\n",
      "Accuracy: 86.7828418230563\n",
      "ROC Value: 0.771786019149318\n",
      "No of Features:10\n",
      "Accuracy: 86.74932975871313\n",
      "ROC Value: 0.7681161138084959\n",
      "No of Features:11\n",
      "Accuracy: 87.03753351206434\n",
      "ROC Value: 0.7692508277920652\n",
      "No of Features:12\n",
      "Accuracy: 86.92359249329759\n",
      "ROC Value: 0.7673627550659787\n",
      "No of Features:13\n",
      "Accuracy: 87.05093833780161\n",
      "ROC Value: 0.7618692605057552\n",
      "No of Features:14\n",
      "Accuracy: 87.03753351206434\n",
      "ROC Value: 0.7488670802455376\n",
      "No of Features:15\n",
      "Accuracy: 87.08445040214478\n",
      "ROC Value: 0.7471440765972717\n",
      "No of Features:16\n",
      "Accuracy: 87.0911528150134\n",
      "ROC Value: 0.7459391158256445\n",
      "No of Features:17\n",
      "Accuracy: 87.20509383378015\n",
      "ROC Value: 0.7421097959472169\n",
      "No of Features:18\n",
      "Accuracy: 87.31903485254692\n",
      "ROC Value: 0.7444950332476091\n",
      "No of Features:19\n",
      "Accuracy: 87.54021447721179\n",
      "ROC Value: 0.7410243417082149\n",
      "No of Features:20\n",
      "Accuracy: 87.75469168900804\n",
      "ROC Value: 0.7419901806734339\n",
      "No of Features:21\n",
      "Accuracy: 87.87533512064343\n",
      "ROC Value: 0.7434190394893514\n",
      "No of Features:22\n",
      "Accuracy: 87.79490616621985\n",
      "ROC Value: 0.74097497322249\n",
      "No of Features:23\n",
      "Accuracy: 88.02949061662198\n",
      "ROC Value: 0.739568841308591\n",
      "No of Features:24\n",
      "Accuracy: 88.19034852546916\n",
      "ROC Value: 0.7384909989506477\n",
      "No of Features:25\n",
      "Accuracy: 87.9892761394102\n",
      "ROC Value: 0.730889339560577\n",
      "No of Features:26\n",
      "Accuracy: 88.20375335120644\n",
      "ROC Value: 0.7316065962386433\n",
      "No of Features:27\n",
      "Accuracy: 88.23726541554959\n",
      "ROC Value: 0.7317963495593264\n"
     ]
    }
   ],
   "source": [
    "for i in range (5,len(X.columns)+1):\n",
    "    rfe = RFE(estimator=model, n_features_to_select=i, step=1)\n",
    "    rfe = rfe.fit(X_train, y_train)\n",
    "    FSP2=rfe.predict(X_test)\n",
    "    print(f'No of Features:{i}')\n",
    "    print('Accuracy:',100*accuracy_score(y_test,FSP2))\n",
    "    print('ROC Value:',roc_auc_score(y_test,FSP2))"
   ]
  },
  {
   "cell_type": "code",
   "execution_count": 103,
   "id": "007004c1",
   "metadata": {
    "scrolled": true
   },
   "outputs": [
    {
     "name": "stdout",
     "output_type": "stream",
     "text": [
      "No of Features:27\n",
      "Accuracy: 85.55630026809652\n",
      "ROC Value: 0.7824903900001633\n",
      "Chosen best 6 feature by rfe: Index(['age', 'balance', 'housing', 'month', 'duration', 'pdays'], dtype='object')\n"
     ]
    }
   ],
   "source": [
    "rfe = RFE(estimator=model, n_features_to_select=6, step=1)\n",
    "rfe = rfe.fit(X_train, y_train)\n",
    "FSP2=rfe.predict(X_test)\n",
    "print(f'No of Features:{6}')\n",
    "print('Accuracy:',100*accuracy_score(y_test,FSP2))\n",
    "print('ROC Value:',roc_auc_score(y_test,FSP2))\n",
    "print('Chosen best 6 feature by rfe:',X.columns[rfe.support_])"
   ]
  },
  {
   "cell_type": "code",
   "execution_count": 160,
   "id": "552613ad",
   "metadata": {},
   "outputs": [],
   "source": [
    "df_1=df[['age', 'balance', 'housing', 'month', 'duration', 'pdays','y_no']]"
   ]
  },
  {
   "cell_type": "code",
   "execution_count": 161,
   "id": "9eced64c",
   "metadata": {},
   "outputs": [],
   "source": [
    "X_1=df_1.drop('y_no',axis=1)\n",
    "y_1=df_1['y_no']"
   ]
  },
  {
   "cell_type": "code",
   "execution_count": 163,
   "id": "fcd10637",
   "metadata": {},
   "outputs": [
    {
     "data": {
      "text/html": [
       "<div>\n",
       "<style scoped>\n",
       "    .dataframe tbody tr th:only-of-type {\n",
       "        vertical-align: middle;\n",
       "    }\n",
       "\n",
       "    .dataframe tbody tr th {\n",
       "        vertical-align: top;\n",
       "    }\n",
       "\n",
       "    .dataframe thead th {\n",
       "        text-align: right;\n",
       "    }\n",
       "</style>\n",
       "<table border=\"1\" class=\"dataframe\">\n",
       "  <thead>\n",
       "    <tr style=\"text-align: right;\">\n",
       "      <th></th>\n",
       "      <th>age</th>\n",
       "      <th>balance</th>\n",
       "      <th>housing</th>\n",
       "      <th>month</th>\n",
       "      <th>duration</th>\n",
       "      <th>pdays</th>\n",
       "    </tr>\n",
       "  </thead>\n",
       "  <tbody>\n",
       "    <tr>\n",
       "      <th>0</th>\n",
       "      <td>58</td>\n",
       "      <td>2143</td>\n",
       "      <td>1</td>\n",
       "      <td>5</td>\n",
       "      <td>261</td>\n",
       "      <td>-1</td>\n",
       "    </tr>\n",
       "    <tr>\n",
       "      <th>1</th>\n",
       "      <td>44</td>\n",
       "      <td>29</td>\n",
       "      <td>1</td>\n",
       "      <td>5</td>\n",
       "      <td>151</td>\n",
       "      <td>-1</td>\n",
       "    </tr>\n",
       "    <tr>\n",
       "      <th>2</th>\n",
       "      <td>33</td>\n",
       "      <td>2</td>\n",
       "      <td>1</td>\n",
       "      <td>5</td>\n",
       "      <td>76</td>\n",
       "      <td>-1</td>\n",
       "    </tr>\n",
       "    <tr>\n",
       "      <th>3</th>\n",
       "      <td>47</td>\n",
       "      <td>1506</td>\n",
       "      <td>1</td>\n",
       "      <td>5</td>\n",
       "      <td>92</td>\n",
       "      <td>-1</td>\n",
       "    </tr>\n",
       "    <tr>\n",
       "      <th>4</th>\n",
       "      <td>33</td>\n",
       "      <td>1</td>\n",
       "      <td>0</td>\n",
       "      <td>5</td>\n",
       "      <td>198</td>\n",
       "      <td>-1</td>\n",
       "    </tr>\n",
       "  </tbody>\n",
       "</table>\n",
       "</div>"
      ],
      "text/plain": [
       "   age  balance  housing  month  duration  pdays\n",
       "0   58     2143        1      5       261     -1\n",
       "1   44       29        1      5       151     -1\n",
       "2   33        2        1      5        76     -1\n",
       "3   47     1506        1      5        92     -1\n",
       "4   33        1        0      5       198     -1"
      ]
     },
     "execution_count": 163,
     "metadata": {},
     "output_type": "execute_result"
    }
   ],
   "source": [
    "X_1.head()"
   ]
  },
  {
   "cell_type": "code",
   "execution_count": 165,
   "id": "476fed5a",
   "metadata": {},
   "outputs": [],
   "source": [
    "from sklearn.model_selection import train_test_split"
   ]
  },
  {
   "cell_type": "code",
   "execution_count": 166,
   "id": "833a3a08",
   "metadata": {},
   "outputs": [],
   "source": [
    "X_train_1, X_test_1, y_train_1, y_test_1 = train_test_split(X_1, y_1, test_size=0.33, random_state=42)"
   ]
  },
  {
   "cell_type": "code",
   "execution_count": 167,
   "id": "3d0b818c",
   "metadata": {},
   "outputs": [],
   "source": [
    "X_train_1=sc.fit_transform(X_train_1)\n",
    "X_test_1=sc.transform(X_test_1)"
   ]
  },
  {
   "cell_type": "code",
   "execution_count": 168,
   "id": "9ffe3d6f",
   "metadata": {},
   "outputs": [
    {
     "name": "stdout",
     "output_type": "stream",
     "text": [
      "confusion_matrix\n",
      "[[12657   518]\n",
      " [ 1022   723]]\n",
      "\n",
      "\n",
      "classification_report\n",
      "              precision    recall  f1-score   support\n",
      "\n",
      "           0       0.93      0.96      0.94     13175\n",
      "           1       0.58      0.41      0.48      1745\n",
      "\n",
      "    accuracy                           0.90     14920\n",
      "   macro avg       0.75      0.69      0.71     14920\n",
      "weighted avg       0.89      0.90      0.89     14920\n",
      "\n",
      "\n",
      "\n",
      "Accuracy: 89.67828418230563\n",
      "\n",
      "\n",
      "ROC Value: 0.6875048797594646\n"
     ]
    }
   ],
   "source": [
    "M=RandomForestClassifier()\n",
    "M.fit(X_train_1,y_train_1)\n",
    "P=M.predict(X_test_1)\n",
    "print('confusion_matrix')\n",
    "print(confusion_matrix(y_test_1,P))\n",
    "print('\\n')\n",
    "print('classification_report')\n",
    "print(classification_report(y_test_1,P))\n",
    "print('\\n')\n",
    "print('Accuracy:',100*accuracy_score(y_test_1,P))\n",
    "print('\\n')\n",
    "print('ROC Value:',roc_auc_score(y_test_1,P))"
   ]
  },
  {
   "cell_type": "code",
   "execution_count": 169,
   "id": "b32707b3",
   "metadata": {},
   "outputs": [
    {
     "name": "stdout",
     "output_type": "stream",
     "text": [
      "confusion_matrix\n",
      "[[12771   404]\n",
      " [ 1118   627]]\n",
      "\n",
      "\n",
      "classification_report\n",
      "              precision    recall  f1-score   support\n",
      "\n",
      "           0       0.92      0.97      0.94     13175\n",
      "           1       0.61      0.36      0.45      1745\n",
      "\n",
      "    accuracy                           0.90     14920\n",
      "   macro avg       0.76      0.66      0.70     14920\n",
      "weighted avg       0.88      0.90      0.89     14920\n",
      "\n",
      "\n",
      "\n",
      "Accuracy: 89.79892761394102\n",
      "\n",
      "\n",
      "ROC Value: 0.6643240921472573\n"
     ]
    }
   ],
   "source": [
    "M13=BaggingClassifier(base_estimator=GradientBoostingClassifier())\n",
    "M13.fit(X_train_1,y_train_1)\n",
    "P13=M13.predict(X_test_1)\n",
    "print('confusion_matrix')\n",
    "print(confusion_matrix(y_test_1,P13))\n",
    "print('\\n')\n",
    "print('classification_report')\n",
    "print(classification_report(y_test_1,P13))\n",
    "print('\\n')\n",
    "print('Accuracy:',100*accuracy_score(y_test_1,P13))\n",
    "print('\\n')\n",
    "print('ROC Value:',roc_auc_score(y_test_1,P13))"
   ]
  },
  {
   "cell_type": "markdown",
   "id": "1ca2b212",
   "metadata": {},
   "source": [
    "## Feature by BOOSTING Technique"
   ]
  },
  {
   "cell_type": "code",
   "execution_count": 115,
   "id": "2b6f5acc",
   "metadata": {},
   "outputs": [
    {
     "data": {
      "text/html": [
       "<div>\n",
       "<style scoped>\n",
       "    .dataframe tbody tr th:only-of-type {\n",
       "        vertical-align: middle;\n",
       "    }\n",
       "\n",
       "    .dataframe tbody tr th {\n",
       "        vertical-align: top;\n",
       "    }\n",
       "\n",
       "    .dataframe thead th {\n",
       "        text-align: right;\n",
       "    }\n",
       "</style>\n",
       "<table border=\"1\" class=\"dataframe\">\n",
       "  <thead>\n",
       "    <tr style=\"text-align: right;\">\n",
       "      <th></th>\n",
       "      <th>0</th>\n",
       "    </tr>\n",
       "  </thead>\n",
       "  <tbody>\n",
       "    <tr>\n",
       "      <th>housing</th>\n",
       "      <td>0.100874</td>\n",
       "    </tr>\n",
       "    <tr>\n",
       "      <th>loan</th>\n",
       "      <td>0.062256</td>\n",
       "    </tr>\n",
       "    <tr>\n",
       "      <th>duration</th>\n",
       "      <td>0.036299</td>\n",
       "    </tr>\n",
       "    <tr>\n",
       "      <th>pdays</th>\n",
       "      <td>0.013758</td>\n",
       "    </tr>\n",
       "    <tr>\n",
       "      <th>month</th>\n",
       "      <td>0.012800</td>\n",
       "    </tr>\n",
       "    <tr>\n",
       "      <th>campaign</th>\n",
       "      <td>0.012679</td>\n",
       "    </tr>\n",
       "    <tr>\n",
       "      <th>age</th>\n",
       "      <td>0.004753</td>\n",
       "    </tr>\n",
       "    <tr>\n",
       "      <th>default</th>\n",
       "      <td>0.004585</td>\n",
       "    </tr>\n",
       "    <tr>\n",
       "      <th>balance</th>\n",
       "      <td>0.003932</td>\n",
       "    </tr>\n",
       "    <tr>\n",
       "      <th>education</th>\n",
       "      <td>0.003337</td>\n",
       "    </tr>\n",
       "  </tbody>\n",
       "</table>\n",
       "</div>"
      ],
      "text/plain": [
       "                  0\n",
       "housing    0.100874\n",
       "loan       0.062256\n",
       "duration   0.036299\n",
       "pdays      0.013758\n",
       "month      0.012800\n",
       "campaign   0.012679\n",
       "age        0.004753\n",
       "default    0.004585\n",
       "balance    0.003932\n",
       "education  0.003337"
      ]
     },
     "execution_count": 115,
     "metadata": {},
     "output_type": "execute_result"
    }
   ],
   "source": [
    "feature_imp = pd.DataFrame(M10.feature_importances_ ,index=X.columns[0:40])[:10]\n",
    "feature_imp.sort_values(by=0,ascending=False)"
   ]
  },
  {
   "cell_type": "code",
   "execution_count": 116,
   "id": "a0a5e546",
   "metadata": {},
   "outputs": [
    {
     "data": {
      "text/plain": [
       "<AxesSubplot:>"
      ]
     },
     "execution_count": 116,
     "metadata": {},
     "output_type": "execute_result"
    },
    {
     "data": {
      "image/png": "[encoded data removed]",
      "text/plain": [
       "<Figure size 432x288 with 1 Axes>"
      ]
     },
     "metadata": {
      "needs_background": "light"
     },
     "output_type": "display_data"
    }
   ],
   "source": [
    "feature_imp.sort_values(by=0,ascending=False).plot(kind='barh')"
   ]
  },
  {
   "cell_type": "markdown",
   "id": "25fd2114",
   "metadata": {},
   "source": [
    "## Feature Extraction with PCA"
   ]
  },
  {
   "cell_type": "code",
   "execution_count": 124,
   "id": "15677cc8",
   "metadata": {},
   "outputs": [],
   "source": [
    "from sklearn.decomposition import PCA"
   ]
  },
  {
   "cell_type": "code",
   "execution_count": 125,
   "id": "5e7908a8",
   "metadata": {},
   "outputs": [
    {
     "data": {
      "text/plain": [
       "Text(0.5, 1.0, 'Scree Plot')"
      ]
     },
     "execution_count": 125,
     "metadata": {},
     "output_type": "execute_result"
    },
    {
     "data": {
      "image/png": "[encoded data removed]",
      "text/plain": [
       "<Figure size 1008x936 with 1 Axes>"
      ]
     },
     "metadata": {},
     "output_type": "display_data"
    }
   ],
   "source": [
    "pca = PCA()\n",
    "pca.fit(X_train)\n",
    "\n",
    "plt.figure(1, figsize=(14, 13))\n",
    "plt.style.use(\"ggplot\") \n",
    "plt.plot(pca.explained_variance_, marker='o')\n",
    "plt.xlabel(\"Eigenvalue number\")\n",
    "plt.ylabel(\"Eigenvalue size\")\n",
    "plt.title(\"Scree Plot\")"
   ]
  },
  {
   "cell_type": "markdown",
   "id": "a8eb1690",
   "metadata": {},
   "source": [
    "**We select all the components up to the point where the bend occurs in the Scree Plot. In the above plot, the bend occurs at index 1. So, we decide to select the components at index 1 ,2 and index 3 (a total of three components).**"
   ]
  },
  {
   "cell_type": "code",
   "execution_count": 134,
   "id": "d753c089",
   "metadata": {},
   "outputs": [],
   "source": [
    "pca = PCA(n_components = 3)\n",
    "  \n",
    "X_train_pca = pca.fit_transform(X_train)\n",
    "X_test_pca = pca.transform(X_test)"
   ]
  },
  {
   "cell_type": "code",
   "execution_count": 137,
   "id": "680d3652",
   "metadata": {},
   "outputs": [
    {
     "name": "stdout",
     "output_type": "stream",
     "text": [
      "confusion_matrix\n",
      "[[10687  2488]\n",
      " [  598  1147]]\n",
      "\n",
      "\n",
      "classification_report\n",
      "              precision    recall  f1-score   support\n",
      "\n",
      "           0       0.95      0.81      0.87     13175\n",
      "           1       0.32      0.66      0.43      1745\n",
      "\n",
      "    accuracy                           0.79     14920\n",
      "   macro avg       0.63      0.73      0.65     14920\n",
      "weighted avg       0.87      0.79      0.82     14920\n",
      "\n",
      "\n",
      "\n",
      "Accuracy: 79.31635388739946\n",
      "\n",
      "\n",
      "ROC Value: 0.7342320427570234\n"
     ]
    }
   ],
   "source": [
    "model_pca=RandomForestClassifier()\n",
    "model_pca.fit(X_train_pca,y_train)\n",
    "FSP3=model_pca.predict(X_test_pca)\n",
    "print('confusion_matrix')\n",
    "print(confusion_matrix(y_test,FSP3))\n",
    "print('\\n')\n",
    "print('classification_report')\n",
    "print(classification_report(y_test,FSP3))\n",
    "print('\\n')\n",
    "print('Accuracy:',100*accuracy_score(y_test,FSP3))\n",
    "print('\\n')\n",
    "print('ROC Value:',roc_auc_score(y_test,FSP3))"
   ]
  },
  {
   "cell_type": "code",
   "execution_count": 138,
   "id": "5b459388",
   "metadata": {},
   "outputs": [
    {
     "name": "stdout",
     "output_type": "stream",
     "text": [
      "confusion_matrix\n",
      "[[10886  2289]\n",
      " [  717  1028]]\n",
      "\n",
      "\n",
      "classification_report\n",
      "              precision    recall  f1-score   support\n",
      "\n",
      "           0       0.94      0.83      0.88     13175\n",
      "           1       0.31      0.59      0.41      1745\n",
      "\n",
      "    accuracy                           0.80     14920\n",
      "   macro avg       0.62      0.71      0.64     14920\n",
      "weighted avg       0.86      0.80      0.82     14920\n",
      "\n",
      "\n",
      "\n",
      "Accuracy: 79.85254691689008\n",
      "\n",
      "\n",
      "ROC Value: 0.7076868037167727\n"
     ]
    }
   ],
   "source": [
    "model_pca=BaggingClassifier()\n",
    "model_pca.fit(X_train_pca,y_train)\n",
    "FSP3=model_pca.predict(X_test_pca)\n",
    "print('confusion_matrix')\n",
    "print(confusion_matrix(y_test,FSP3))\n",
    "print('\\n')\n",
    "print('classification_report')\n",
    "print(classification_report(y_test,FSP3))\n",
    "print('\\n')\n",
    "print('Accuracy:',100*accuracy_score(y_test,FSP3))\n",
    "print('\\n')\n",
    "print('ROC Value:',roc_auc_score(y_test,FSP3))"
   ]
  },
  {
   "cell_type": "markdown",
   "id": "7dd14cff",
   "metadata": {},
   "source": [
    "## Hyper parameter tuning"
   ]
  },
  {
   "cell_type": "code",
   "execution_count": 170,
   "id": "b0768114",
   "metadata": {},
   "outputs": [
    {
     "name": "stdout",
     "output_type": "stream",
     "text": [
      "Parameters currently in use:\n",
      "\n",
      "{'bootstrap': True,\n",
      " 'ccp_alpha': 0.0,\n",
      " 'class_weight': None,\n",
      " 'criterion': 'gini',\n",
      " 'max_depth': None,\n",
      " 'max_features': 'sqrt',\n",
      " 'max_leaf_nodes': None,\n",
      " 'max_samples': None,\n",
      " 'min_impurity_decrease': 0.0,\n",
      " 'min_samples_leaf': 1,\n",
      " 'min_samples_split': 2,\n",
      " 'min_weight_fraction_leaf': 0.0,\n",
      " 'n_estimators': 100,\n",
      " 'n_jobs': None,\n",
      " 'oob_score': False,\n",
      " 'random_state': None,\n",
      " 'verbose': 0,\n",
      " 'warm_start': False}\n"
     ]
    }
   ],
   "source": [
    "from pprint import pprint\n",
    "print('Parameters currently in use:\\n')\n",
    "pprint(model.get_params())"
   ]
  },
  {
   "cell_type": "code",
   "execution_count": 171,
   "id": "66e8dd78",
   "metadata": {},
   "outputs": [],
   "source": [
    "from sklearn.model_selection import RandomizedSearchCV"
   ]
  },
  {
   "cell_type": "code",
   "execution_count": 172,
   "id": "f0ad4da1",
   "metadata": {},
   "outputs": [],
   "source": [
    "# Number of trees in random forest\n",
    "n_estimators = [int(x) for x in np.linspace(start = 200, stop = 2000, num = 10)]\n",
    "\n",
    "# Number of features to consider at every split\n",
    "max_features = ['auto', 'sqrt']\n",
    "\n",
    "# Maximum number of levels in tree\n",
    "max_depth = [int(x) for x in np.linspace(10, 110, num = 11)]\n",
    "max_depth.append(None)\n",
    "\n",
    "# Minimum number of samples required to split a node\n",
    "min_samples_split = [2, 5, 10]\n",
    "\n",
    "# Minimum number of samples required at each leaf node\n",
    "min_samples_leaf = [1, 2, 4]\n",
    "\n",
    "# Method of selecting samples for training each tree\n",
    "bootstrap = [True, False]"
   ]
  },
  {
   "cell_type": "code",
   "execution_count": 173,
   "id": "cc37652a",
   "metadata": {},
   "outputs": [
    {
     "name": "stdout",
     "output_type": "stream",
     "text": [
      "{'bootstrap': [True, False],\n",
      " 'max_depth': [10, 20, 30, 40, 50, 60, 70, 80, 90, 100, 110, None],\n",
      " 'max_features': ['auto', 'sqrt'],\n",
      " 'min_samples_leaf': [1, 2, 4],\n",
      " 'min_samples_split': [2, 5, 10],\n",
      " 'n_estimators': [200, 400, 600, 800, 1000, 1200, 1400, 1600, 1800, 2000]}\n"
     ]
    }
   ],
   "source": [
    "random_grid = {'n_estimators': n_estimators,\n",
    "               'max_features': max_features,\n",
    "               'max_depth': max_depth,\n",
    "               'min_samples_split': min_samples_split,\n",
    "               'min_samples_leaf': min_samples_leaf,\n",
    "               'bootstrap': bootstrap}\n",
    "pprint(random_grid)"
   ]
  },
  {
   "cell_type": "code",
   "execution_count": 176,
   "id": "4050fc00",
   "metadata": {},
   "outputs": [
    {
     "name": "stdout",
     "output_type": "stream",
     "text": [
      "Fitting 3 folds for each of 5 candidates, totalling 15 fits\n"
     ]
    },
    {
     "data": {
      "text/html": [
       "<style>#sk-container-id-1 {color: black;background-color: white;}#sk-container-id-1 pre{padding: 0;}#sk-container-id-1 div.sk-toggleable {background-color: white;}#sk-container-id-1 label.sk-toggleable__label {cursor: pointer;display: block;width: 100%;margin-bottom: 0;padding: 0.3em;box-sizing: border-box;text-align: center;}#sk-container-id-1 label.sk-toggleable__label-arrow:before {content: \"▸\";float: left;margin-right: 0.25em;color: #696969;}#sk-container-id-1 label.sk-toggleable__label-arrow:hover:before {color: black;}#sk-container-id-1 div.sk-estimator:hover label.sk-toggleable__label-arrow:before {color: black;}#sk-container-id-1 div.sk-toggleable__content {max-height: 0;max-width: 0;overflow: hidden;text-align: left;background-color: #f0f8ff;}#sk-container-id-1 div.sk-toggleable__content pre {margin: 0.2em;color: black;border-radius: 0.25em;background-color: #f0f8ff;}#sk-container-id-1 input.sk-toggleable__control:checked~div.sk-toggleable__content {max-height: 200px;max-width: 100%;overflow: auto;}#sk-container-id-1 input.sk-toggleable__control:checked~label.sk-toggleable__label-arrow:before {content: \"▾\";}#sk-container-id-1 div.sk-estimator input.sk-toggleable__control:checked~label.sk-toggleable__label {background-color: #d4ebff;}#sk-container-id-1 div.sk-label input.sk-toggleable__control:checked~label.sk-toggleable__label {background-color: #d4ebff;}#sk-container-id-1 input.sk-hidden--visually {border: 0;clip: rect(1px 1px 1px 1px);clip: rect(1px, 1px, 1px, 1px);height: 1px;margin: -1px;overflow: hidden;padding: 0;position: absolute;width: 1px;}#sk-container-id-1 div.sk-estimator {font-family: monospace;background-color: #f0f8ff;border: 1px dotted black;border-radius: 0.25em;box-sizing: border-box;margin-bottom: 0.5em;}#sk-container-id-1 div.sk-estimator:hover {background-color: #d4ebff;}#sk-container-id-1 div.sk-parallel-item::after {content: \"\";width: 100%;border-bottom: 1px solid gray;flex-grow: 1;}#sk-container-id-1 div.sk-label:hover label.sk-toggleable__label {background-color: #d4ebff;}#sk-container-id-1 div.sk-serial::before {content: \"\";position: absolute;border-left: 1px solid gray;box-sizing: border-box;top: 0;bottom: 0;left: 50%;z-index: 0;}#sk-container-id-1 div.sk-serial {display: flex;flex-direction: column;align-items: center;background-color: white;padding-right: 0.2em;padding-left: 0.2em;position: relative;}#sk-container-id-1 div.sk-item {position: relative;z-index: 1;}#sk-container-id-1 div.sk-parallel {display: flex;align-items: stretch;justify-content: center;background-color: white;position: relative;}#sk-container-id-1 div.sk-item::before, #sk-container-id-1 div.sk-parallel-item::before {content: \"\";position: absolute;border-left: 1px solid gray;box-sizing: border-box;top: 0;bottom: 0;left: 50%;z-index: -1;}#sk-container-id-1 div.sk-parallel-item {display: flex;flex-direction: column;z-index: 1;position: relative;background-color: white;}#sk-container-id-1 div.sk-parallel-item:first-child::after {align-self: flex-end;width: 50%;}#sk-container-id-1 div.sk-parallel-item:last-child::after {align-self: flex-start;width: 50%;}#sk-container-id-1 div.sk-parallel-item:only-child::after {width: 0;}#sk-container-id-1 div.sk-dashed-wrapped {border: 1px dashed gray;margin: 0 0.4em 0.5em 0.4em;box-sizing: border-box;padding-bottom: 0.4em;background-color: white;}#sk-container-id-1 div.sk-label label {font-family: monospace;font-weight: bold;display: inline-block;line-height: 1.2em;}#sk-container-id-1 div.sk-label-container {text-align: center;}#sk-container-id-1 div.sk-container {/* jupyter's `normalize.less` sets `[hidden] { display: none; }` but bootstrap.min.css set `[hidden] { display: none !important; }` so we also need the `!important` here to be able to override the default hidden behavior on the sphinx rendered scikit-learn.org. See: https://github.com/scikit-learn/scikit-learn/issues/21755 */display: inline-block !important;position: relative;}#sk-container-id-1 div.sk-text-repr-fallback {display: none;}</style><div id=\"sk-container-id-1\" class=\"sk-top-container\"><div class=\"sk-text-repr-fallback\"><pre>RandomizedSearchCV(cv=3, estimator=RandomForestClassifier(), n_iter=5,\n",
       "                   n_jobs=-1,\n",
       "                   param_distributions={&#x27;bootstrap&#x27;: [True, False],\n",
       "                                        &#x27;max_depth&#x27;: [10, 20, 30, 40, 50, 60,\n",
       "                                                      70, 80, 90, 100, 110,\n",
       "                                                      None],\n",
       "                                        &#x27;max_features&#x27;: [&#x27;auto&#x27;, &#x27;sqrt&#x27;],\n",
       "                                        &#x27;min_samples_leaf&#x27;: [1, 2, 4],\n",
       "                                        &#x27;min_samples_split&#x27;: [2, 5, 10],\n",
       "                                        &#x27;n_estimators&#x27;: [200, 400, 600, 800,\n",
       "                                                         1000, 1200, 1400, 1600,\n",
       "                                                         1800, 2000]},\n",
       "                   return_train_score=True, verbose=True)</pre><b>In a Jupyter environment, please rerun this cell to show the HTML representation or trust the notebook. <br />On GitHub, the HTML representation is unable to render, please try loading this page with nbviewer.org.</b></div><div class=\"sk-container\" hidden><div class=\"sk-item sk-dashed-wrapped\"><div class=\"sk-label-container\"><div class=\"sk-label sk-toggleable\"><input class=\"sk-toggleable__control sk-hidden--visually\" id=\"sk-estimator-id-1\" type=\"checkbox\" ><label for=\"sk-estimator-id-1\" class=\"sk-toggleable__label sk-toggleable__label-arrow\">RandomizedSearchCV</label><div class=\"sk-toggleable__content\"><pre>RandomizedSearchCV(cv=3, estimator=RandomForestClassifier(), n_iter=5,\n",
       "                   n_jobs=-1,\n",
       "                   param_distributions={&#x27;bootstrap&#x27;: [True, False],\n",
       "                                        &#x27;max_depth&#x27;: [10, 20, 30, 40, 50, 60,\n",
       "                                                      70, 80, 90, 100, 110,\n",
       "                                                      None],\n",
       "                                        &#x27;max_features&#x27;: [&#x27;auto&#x27;, &#x27;sqrt&#x27;],\n",
       "                                        &#x27;min_samples_leaf&#x27;: [1, 2, 4],\n",
       "                                        &#x27;min_samples_split&#x27;: [2, 5, 10],\n",
       "                                        &#x27;n_estimators&#x27;: [200, 400, 600, 800,\n",
       "                                                         1000, 1200, 1400, 1600,\n",
       "                                                         1800, 2000]},\n",
       "                   return_train_score=True, verbose=True)</pre></div></div></div><div class=\"sk-parallel\"><div class=\"sk-parallel-item\"><div class=\"sk-item\"><div class=\"sk-label-container\"><div class=\"sk-label sk-toggleable\"><input class=\"sk-toggleable__control sk-hidden--visually\" id=\"sk-estimator-id-2\" type=\"checkbox\" ><label for=\"sk-estimator-id-2\" class=\"sk-toggleable__label sk-toggleable__label-arrow\">estimator: RandomForestClassifier</label><div class=\"sk-toggleable__content\"><pre>RandomForestClassifier()</pre></div></div></div><div class=\"sk-serial\"><div class=\"sk-item\"><div class=\"sk-estimator sk-toggleable\"><input class=\"sk-toggleable__control sk-hidden--visually\" id=\"sk-estimator-id-3\" type=\"checkbox\" ><label for=\"sk-estimator-id-3\" class=\"sk-toggleable__label sk-toggleable__label-arrow\">RandomForestClassifier</label><div class=\"sk-toggleable__content\"><pre>RandomForestClassifier()</pre></div></div></div></div></div></div></div></div></div></div>"
      ],
      "text/plain": [
       "RandomizedSearchCV(cv=3, estimator=RandomForestClassifier(), n_iter=5,\n",
       "                   n_jobs=-1,\n",
       "                   param_distributions={'bootstrap': [True, False],\n",
       "                                        'max_depth': [10, 20, 30, 40, 50, 60,\n",
       "                                                      70, 80, 90, 100, 110,\n",
       "                                                      None],\n",
       "                                        'max_features': ['auto', 'sqrt'],\n",
       "                                        'min_samples_leaf': [1, 2, 4],\n",
       "                                        'min_samples_split': [2, 5, 10],\n",
       "                                        'n_estimators': [200, 400, 600, 800,\n",
       "                                                         1000, 1200, 1400, 1600,\n",
       "                                                         1800, 2000]},\n",
       "                   return_train_score=True, verbose=True)"
      ]
     },
     "execution_count": 176,
     "metadata": {},
     "output_type": "execute_result"
    }
   ],
   "source": [
    "rs = RandomizedSearchCV(estimator=model, param_distributions=random_grid, \n",
    "                 return_train_score= True, n_jobs=-1, verbose=True, cv = 3, n_iter=5)\n",
    "rs.fit(X_train, y_train)"
   ]
  },
  {
   "cell_type": "code",
   "execution_count": 177,
   "id": "fc227da5",
   "metadata": {},
   "outputs": [
    {
     "name": "stdout",
     "output_type": "stream",
     "text": [
      "confusion_matrix\n",
      "[[12227   948]\n",
      " [  790   955]]\n",
      "\n",
      "\n",
      "classification_report\n",
      "              precision    recall  f1-score   support\n",
      "\n",
      "           0       0.94      0.93      0.93     13175\n",
      "           1       0.50      0.55      0.52      1745\n",
      "\n",
      "    accuracy                           0.88     14920\n",
      "   macro avg       0.72      0.74      0.73     14920\n",
      "weighted avg       0.89      0.88      0.89     14920\n",
      "\n",
      "\n",
      "\n",
      "Accuracy: 88.35120643431635\n",
      "\n",
      "\n",
      "ROC Value: 0.7376617388798572\n"
     ]
    }
   ],
   "source": [
    "P29=rs.predict(X_test)\n",
    "print('confusion_matrix')\n",
    "print(confusion_matrix(y_test,P29))\n",
    "print('\\n')\n",
    "print('classification_report')\n",
    "print(classification_report(y_test,P29))\n",
    "print('\\n')\n",
    "print('Accuracy:',100*accuracy_score(y_test,P29))\n",
    "print('\\n')\n",
    "print('ROC Value:',roc_auc_score(y_test,P29))"
   ]
  },
  {
   "cell_type": "code",
   "execution_count": 178,
   "id": "d8115efb",
   "metadata": {},
   "outputs": [],
   "source": [
    "param_grid = {\n",
    "    'criterion': ['mse', 'mae', 'friedman_mse'], \n",
    "    'learning_rate': [0.05, 0.1, 0.15, 0.2], \n",
    "    'max_depth': [2, 3, 4, 5], \n",
    "    'max_features': ['sqrt', None], \n",
    "    'max_leaf_nodes': list(range(2, 10)),\n",
    "    'n_estimators': list(range(50, 500, 50)),\n",
    "    'subsample': [0.8, 0.9, 1.0]\n",
    "}"
   ]
  },
  {
   "cell_type": "code",
   "execution_count": 180,
   "id": "c4f07f4c",
   "metadata": {},
   "outputs": [
    {
     "name": "stdout",
     "output_type": "stream",
     "text": [
      "Fitting 3 folds for each of 5 candidates, totalling 15 fits\n"
     ]
    },
    {
     "data": {
      "text/html": [
       "<style>#sk-container-id-2 {color: black;background-color: white;}#sk-container-id-2 pre{padding: 0;}#sk-container-id-2 div.sk-toggleable {background-color: white;}#sk-container-id-2 label.sk-toggleable__label {cursor: pointer;display: block;width: 100%;margin-bottom: 0;padding: 0.3em;box-sizing: border-box;text-align: center;}#sk-container-id-2 label.sk-toggleable__label-arrow:before {content: \"▸\";float: left;margin-right: 0.25em;color: #696969;}#sk-container-id-2 label.sk-toggleable__label-arrow:hover:before {color: black;}#sk-container-id-2 div.sk-estimator:hover label.sk-toggleable__label-arrow:before {color: black;}#sk-container-id-2 div.sk-toggleable__content {max-height: 0;max-width: 0;overflow: hidden;text-align: left;background-color: #f0f8ff;}#sk-container-id-2 div.sk-toggleable__content pre {margin: 0.2em;color: black;border-radius: 0.25em;background-color: #f0f8ff;}#sk-container-id-2 input.sk-toggleable__control:checked~div.sk-toggleable__content {max-height: 200px;max-width: 100%;overflow: auto;}#sk-container-id-2 input.sk-toggleable__control:checked~label.sk-toggleable__label-arrow:before {content: \"▾\";}#sk-container-id-2 div.sk-estimator input.sk-toggleable__control:checked~label.sk-toggleable__label {background-color: #d4ebff;}#sk-container-id-2 div.sk-label input.sk-toggleable__control:checked~label.sk-toggleable__label {background-color: #d4ebff;}#sk-container-id-2 input.sk-hidden--visually {border: 0;clip: rect(1px 1px 1px 1px);clip: rect(1px, 1px, 1px, 1px);height: 1px;margin: -1px;overflow: hidden;padding: 0;position: absolute;width: 1px;}#sk-container-id-2 div.sk-estimator {font-family: monospace;background-color: #f0f8ff;border: 1px dotted black;border-radius: 0.25em;box-sizing: border-box;margin-bottom: 0.5em;}#sk-container-id-2 div.sk-estimator:hover {background-color: #d4ebff;}#sk-container-id-2 div.sk-parallel-item::after {content: \"\";width: 100%;border-bottom: 1px solid gray;flex-grow: 1;}#sk-container-id-2 div.sk-label:hover label.sk-toggleable__label {background-color: #d4ebff;}#sk-container-id-2 div.sk-serial::before {content: \"\";position: absolute;border-left: 1px solid gray;box-sizing: border-box;top: 0;bottom: 0;left: 50%;z-index: 0;}#sk-container-id-2 div.sk-serial {display: flex;flex-direction: column;align-items: center;background-color: white;padding-right: 0.2em;padding-left: 0.2em;position: relative;}#sk-container-id-2 div.sk-item {position: relative;z-index: 1;}#sk-container-id-2 div.sk-parallel {display: flex;align-items: stretch;justify-content: center;background-color: white;position: relative;}#sk-container-id-2 div.sk-item::before, #sk-container-id-2 div.sk-parallel-item::before {content: \"\";position: absolute;border-left: 1px solid gray;box-sizing: border-box;top: 0;bottom: 0;left: 50%;z-index: -1;}#sk-container-id-2 div.sk-parallel-item {display: flex;flex-direction: column;z-index: 1;position: relative;background-color: white;}#sk-container-id-2 div.sk-parallel-item:first-child::after {align-self: flex-end;width: 50%;}#sk-container-id-2 div.sk-parallel-item:last-child::after {align-self: flex-start;width: 50%;}#sk-container-id-2 div.sk-parallel-item:only-child::after {width: 0;}#sk-container-id-2 div.sk-dashed-wrapped {border: 1px dashed gray;margin: 0 0.4em 0.5em 0.4em;box-sizing: border-box;padding-bottom: 0.4em;background-color: white;}#sk-container-id-2 div.sk-label label {font-family: monospace;font-weight: bold;display: inline-block;line-height: 1.2em;}#sk-container-id-2 div.sk-label-container {text-align: center;}#sk-container-id-2 div.sk-container {/* jupyter's `normalize.less` sets `[hidden] { display: none; }` but bootstrap.min.css set `[hidden] { display: none !important; }` so we also need the `!important` here to be able to override the default hidden behavior on the sphinx rendered scikit-learn.org. See: https://github.com/scikit-learn/scikit-learn/issues/21755 */display: inline-block !important;position: relative;}#sk-container-id-2 div.sk-text-repr-fallback {display: none;}</style><div id=\"sk-container-id-2\" class=\"sk-top-container\"><div class=\"sk-text-repr-fallback\"><pre>RandomizedSearchCV(cv=3, estimator=GradientBoostingClassifier(), n_iter=5,\n",
       "                   n_jobs=-1,\n",
       "                   param_distributions={&#x27;criterion&#x27;: [&#x27;mse&#x27;, &#x27;mae&#x27;,\n",
       "                                                      &#x27;friedman_mse&#x27;],\n",
       "                                        &#x27;learning_rate&#x27;: [0.05, 0.1, 0.15, 0.2],\n",
       "                                        &#x27;max_depth&#x27;: [2, 3, 4, 5],\n",
       "                                        &#x27;max_features&#x27;: [&#x27;sqrt&#x27;, None],\n",
       "                                        &#x27;max_leaf_nodes&#x27;: [2, 3, 4, 5, 6, 7, 8,\n",
       "                                                           9],\n",
       "                                        &#x27;n_estimators&#x27;: [50, 100, 150, 200, 250,\n",
       "                                                         300, 350, 400, 450],\n",
       "                                        &#x27;subsample&#x27;: [0.8, 0.9, 1.0]},\n",
       "                   return_train_score=True, verbose=True)</pre><b>In a Jupyter environment, please rerun this cell to show the HTML representation or trust the notebook. <br />On GitHub, the HTML representation is unable to render, please try loading this page with nbviewer.org.</b></div><div class=\"sk-container\" hidden><div class=\"sk-item sk-dashed-wrapped\"><div class=\"sk-label-container\"><div class=\"sk-label sk-toggleable\"><input class=\"sk-toggleable__control sk-hidden--visually\" id=\"sk-estimator-id-4\" type=\"checkbox\" ><label for=\"sk-estimator-id-4\" class=\"sk-toggleable__label sk-toggleable__label-arrow\">RandomizedSearchCV</label><div class=\"sk-toggleable__content\"><pre>RandomizedSearchCV(cv=3, estimator=GradientBoostingClassifier(), n_iter=5,\n",
       "                   n_jobs=-1,\n",
       "                   param_distributions={&#x27;criterion&#x27;: [&#x27;mse&#x27;, &#x27;mae&#x27;,\n",
       "                                                      &#x27;friedman_mse&#x27;],\n",
       "                                        &#x27;learning_rate&#x27;: [0.05, 0.1, 0.15, 0.2],\n",
       "                                        &#x27;max_depth&#x27;: [2, 3, 4, 5],\n",
       "                                        &#x27;max_features&#x27;: [&#x27;sqrt&#x27;, None],\n",
       "                                        &#x27;max_leaf_nodes&#x27;: [2, 3, 4, 5, 6, 7, 8,\n",
       "                                                           9],\n",
       "                                        &#x27;n_estimators&#x27;: [50, 100, 150, 200, 250,\n",
       "                                                         300, 350, 400, 450],\n",
       "                                        &#x27;subsample&#x27;: [0.8, 0.9, 1.0]},\n",
       "                   return_train_score=True, verbose=True)</pre></div></div></div><div class=\"sk-parallel\"><div class=\"sk-parallel-item\"><div class=\"sk-item\"><div class=\"sk-label-container\"><div class=\"sk-label sk-toggleable\"><input class=\"sk-toggleable__control sk-hidden--visually\" id=\"sk-estimator-id-5\" type=\"checkbox\" ><label for=\"sk-estimator-id-5\" class=\"sk-toggleable__label sk-toggleable__label-arrow\">estimator: GradientBoostingClassifier</label><div class=\"sk-toggleable__content\"><pre>GradientBoostingClassifier()</pre></div></div></div><div class=\"sk-serial\"><div class=\"sk-item\"><div class=\"sk-estimator sk-toggleable\"><input class=\"sk-toggleable__control sk-hidden--visually\" id=\"sk-estimator-id-6\" type=\"checkbox\" ><label for=\"sk-estimator-id-6\" class=\"sk-toggleable__label sk-toggleable__label-arrow\">GradientBoostingClassifier</label><div class=\"sk-toggleable__content\"><pre>GradientBoostingClassifier()</pre></div></div></div></div></div></div></div></div></div></div>"
      ],
      "text/plain": [
       "RandomizedSearchCV(cv=3, estimator=GradientBoostingClassifier(), n_iter=5,\n",
       "                   n_jobs=-1,\n",
       "                   param_distributions={'criterion': ['mse', 'mae',\n",
       "                                                      'friedman_mse'],\n",
       "                                        'learning_rate': [0.05, 0.1, 0.15, 0.2],\n",
       "                                        'max_depth': [2, 3, 4, 5],\n",
       "                                        'max_features': ['sqrt', None],\n",
       "                                        'max_leaf_nodes': [2, 3, 4, 5, 6, 7, 8,\n",
       "                                                           9],\n",
       "                                        'n_estimators': [50, 100, 150, 200, 250,\n",
       "                                                         300, 350, 400, 450],\n",
       "                                        'subsample': [0.8, 0.9, 1.0]},\n",
       "                   return_train_score=True, verbose=True)"
      ]
     },
     "execution_count": 180,
     "metadata": {},
     "output_type": "execute_result"
    }
   ],
   "source": [
    "rs1 = RandomizedSearchCV(estimator=GradientBoostingClassifier(), param_distributions=param_grid, \n",
    "                 return_train_score= True, n_jobs=-1, verbose=True, cv = 3, n_iter=5)\n",
    "rs1.fit(X_train, y_train)"
   ]
  },
  {
   "cell_type": "code",
   "execution_count": 181,
   "id": "2e23ba46",
   "metadata": {},
   "outputs": [
    {
     "name": "stdout",
     "output_type": "stream",
     "text": [
      "confusion_matrix\n",
      "[[12061  1114]\n",
      " [  700  1045]]\n",
      "\n",
      "\n",
      "classification_report\n",
      "              precision    recall  f1-score   support\n",
      "\n",
      "           0       0.95      0.92      0.93     13175\n",
      "           1       0.48      0.60      0.54      1745\n",
      "\n",
      "    accuracy                           0.88     14920\n",
      "   macro avg       0.71      0.76      0.73     14920\n",
      "weighted avg       0.89      0.88      0.88     14920\n",
      "\n",
      "\n",
      "\n",
      "Accuracy: 87.84182305630027\n",
      "\n",
      "\n",
      "ROC Value: 0.7571498942492237\n"
     ]
    }
   ],
   "source": [
    "P30=rs1.predict(X_test)\n",
    "print('confusion_matrix')\n",
    "print(confusion_matrix(y_test,P30))\n",
    "print('\\n')\n",
    "print('classification_report')\n",
    "print(classification_report(y_test,P30))\n",
    "print('\\n')\n",
    "print('Accuracy:',100*accuracy_score(y_test,P30))\n",
    "print('\\n')\n",
    "print('ROC Value:',roc_auc_score(y_test,P30))"
   ]
  },
  {
   "cell_type": "code",
   "execution_count": 182,
   "id": "26d544b9",
   "metadata": {},
   "outputs": [
    {
     "name": "stdout",
     "output_type": "stream",
     "text": [
      "Fitting 3 folds for each of 5 candidates, totalling 15 fits\n",
      "Fitting 3 folds for each of 5 candidates, totalling 15 fits\n",
      "Fitting 3 folds for each of 5 candidates, totalling 15 fits\n",
      "Fitting 3 folds for each of 5 candidates, totalling 15 fits\n",
      "Fitting 3 folds for each of 5 candidates, totalling 15 fits\n",
      "Fitting 3 folds for each of 5 candidates, totalling 15 fits\n",
      "Fitting 3 folds for each of 5 candidates, totalling 15 fits\n",
      "Fitting 3 folds for each of 5 candidates, totalling 15 fits\n",
      "Fitting 3 folds for each of 5 candidates, totalling 15 fits\n",
      "Fitting 3 folds for each of 5 candidates, totalling 15 fits\n",
      "confusion_matrix\n",
      "[[11994  1181]\n",
      " [  688  1057]]\n",
      "\n",
      "\n",
      "classification_report\n",
      "              precision    recall  f1-score   support\n",
      "\n",
      "           0       0.95      0.91      0.93     13175\n",
      "           1       0.47      0.61      0.53      1745\n",
      "\n",
      "    accuracy                           0.87     14920\n",
      "   macro avg       0.71      0.76      0.73     14920\n",
      "weighted avg       0.89      0.87      0.88     14920\n",
      "\n",
      "\n",
      "\n",
      "Accuracy: 87.47319034852546\n",
      "\n",
      "\n",
      "ROC Value: 0.758045595167543\n"
     ]
    }
   ],
   "source": [
    "M31=BaggingClassifier(base_estimator=rs1)\n",
    "M31.fit(X_train,y_train)\n",
    "P31=M31.predict(X_test)\n",
    "print('confusion_matrix')\n",
    "print(confusion_matrix(y_test,P31))\n",
    "print('\\n')\n",
    "print('classification_report')\n",
    "print(classification_report(y_test,P31))\n",
    "print('\\n')\n",
    "print('Accuracy:',100*accuracy_score(y_test,P31))\n",
    "print('\\n')\n",
    "print('ROC Value:',roc_auc_score(y_test,P31))"
   ]
  },
  {
   "cell_type": "code",
   "execution_count": 183,
   "id": "56a96be2",
   "metadata": {},
   "outputs": [],
   "source": [
    "import pickle\n",
    "filename = 'finalized_model.sav'\n",
    "pickle.dump(M31, open(filename, 'wb'))"
   ]
  }
 ],
 "metadata": {
  "kernelspec": {
   "display_name": "Python 3 (ipykernel)",
   "language": "python",
   "name": "python3"
  },
  "language_info": {
   "codemirror_mode": {
    "name": "ipython",
    "version": 3
   },
   "file_extension": ".py",
   "mimetype": "text/x-python",
   "name": "python",
   "nbconvert_exporter": "python",
   "pygments_lexer": "ipython3",
   "version": "3.9.12"
  }
 },
 "nbformat": 4,
 "nbformat_minor": 5
}
